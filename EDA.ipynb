{
 "cells": [
  {
   "cell_type": "markdown",
   "metadata": {},
   "source": [
    "# Importing Libraries"
   ]
  },
  {
   "cell_type": "code",
   "execution_count": 5,
   "metadata": {},
   "outputs": [],
   "source": [
    "import pandas as pd\n",
    "import numpy as np\n",
    "import matplotlib.pyplot as plt\n",
<<<<<<< HEAD
    "import seaborn as sns\n",
    "from IPython.display import display, HTML"
   ]
  },
  {
   "cell_type": "markdown",
   "metadata": {},
   "source": [
    "## Functions"
   ]
  },
  {
   "cell_type": "code",
   "execution_count": 6,
   "metadata": {},
   "outputs": [],
   "source": [
    "# The following functions were created to make a better analysis.\n",
    "\n",
    "# The following functions help us to visualize a scrollable table with html properties.\n",
    "def create_scrollable_table(df, table_id, title):\n",
    "    html = f'<h3>{title}</h3>'\n",
    "    html += f'<div id=\"{table_id}\" style=\"height:200px; overflow:auto;\">'\n",
    "    html += df.to_html()\n",
    "    html += '</div>'\n",
    "    return html"
=======
    "import seaborn as sns"
>>>>>>> 7ae54ca0791f86bebaa438af892a7d8d71b77f87
   ]
  },
  {
   "cell_type": "markdown",
   "metadata": {},
   "source": [
    "# Killings"
   ]
  },
  {
   "cell_type": "markdown",
   "metadata": {},
   "source": [
    "### Killings is the main file were we are going to extract information and analyze it, let's read the data and see what is inside"
   ]
  },
  {
   "cell_type": "markdown",
   "metadata": {},
   "source": [
    "## Reading Data"
   ]
  },
  {
   "cell_type": "markdown",
   "metadata": {},
   "source": [
    "For first, we read the path of the data and we transform it to a dataframe"
   ]
  },
  {
   "cell_type": "code",
   "execution_count": 7,
   "metadata": {},
   "outputs": [],
   "source": [
    "kills = pd.read_excel(\"Datasets/kills.xlsx\")"
   ]
  },
  {
   "cell_type": "markdown",
   "metadata": {},
   "source": [
    "Let's see what is inside the dataframe"
   ]
  },
  {
   "cell_type": "code",
   "execution_count": 8,
   "metadata": {},
   "outputs": [
    {
     "data": {
      "text/html": [
       "<div>\n",
       "<style scoped>\n",
       "    .dataframe tbody tr th:only-of-type {\n",
       "        vertical-align: middle;\n",
       "    }\n",
       "\n",
       "    .dataframe tbody tr th {\n",
       "        vertical-align: top;\n",
       "    }\n",
       "\n",
       "    .dataframe thead th {\n",
       "        text-align: right;\n",
       "    }\n",
       "</style>\n",
       "<table border=\"1\" class=\"dataframe\">\n",
       "  <thead>\n",
       "    <tr style=\"text-align: right;\">\n",
       "      <th></th>\n",
       "      <th>ID</th>\n",
       "      <th>N_VICTIMAS</th>\n",
       "      <th>FECHA</th>\n",
       "      <th>AAAA</th>\n",
       "      <th>MM</th>\n",
       "      <th>DD</th>\n",
       "      <th>HORA</th>\n",
       "      <th>HH</th>\n",
       "      <th>LUGAR_DEL_HECHO</th>\n",
       "      <th>TIPO_DE_CALLE</th>\n",
       "      <th>Calle</th>\n",
       "      <th>Cruce</th>\n",
       "      <th>Dirección Normalizada</th>\n",
       "      <th>COMUNA</th>\n",
       "      <th>XY (CABA)</th>\n",
       "      <th>pos x</th>\n",
       "      <th>pos y</th>\n",
       "      <th>PARTICIPANTES</th>\n",
       "      <th>VICTIMA</th>\n",
       "      <th>ACUSADO</th>\n",
       "    </tr>\n",
       "  </thead>\n",
       "  <tbody>\n",
       "    <tr>\n",
       "      <th>0</th>\n",
       "      <td>2016-0001</td>\n",
       "      <td>1</td>\n",
       "      <td>2016-01-01</td>\n",
       "      <td>2016</td>\n",
       "      <td>1</td>\n",
       "      <td>1</td>\n",
       "      <td>04:00:00</td>\n",
       "      <td>4</td>\n",
       "      <td>AV PIEDRA BUENA Y AV FERNANDEZ DE LA CRUZ</td>\n",
       "      <td>AVENIDA</td>\n",
       "      <td>PIEDRA BUENA AV.</td>\n",
       "      <td>FERNANDEZ DE LA CRUZ, F., GRAL. AV.</td>\n",
       "      <td>PIEDRA BUENA AV. y FERNANDEZ DE LA CRUZ, F., G...</td>\n",
       "      <td>8</td>\n",
       "      <td>Point (98896.78238426 93532.43437792)</td>\n",
       "      <td>-58.47533969</td>\n",
       "      <td>-34.68757022</td>\n",
       "      <td>MOTO-AUTO</td>\n",
       "      <td>MOTO</td>\n",
       "      <td>AUTO</td>\n",
       "    </tr>\n",
       "    <tr>\n",
       "      <th>1</th>\n",
       "      <td>2016-0002</td>\n",
       "      <td>1</td>\n",
       "      <td>2016-01-02</td>\n",
       "      <td>2016</td>\n",
       "      <td>1</td>\n",
       "      <td>2</td>\n",
       "      <td>01:15:00</td>\n",
       "      <td>1</td>\n",
       "      <td>AV GRAL PAZ  Y AV DE LOS CORRALES</td>\n",
       "      <td>GRAL PAZ</td>\n",
       "      <td>PAZ, GRAL. AV.</td>\n",
       "      <td>DE LOS CORRALES AV.</td>\n",
       "      <td>PAZ, GRAL. AV. y DE LOS CORRALES AV.</td>\n",
       "      <td>9</td>\n",
       "      <td>Point (95832.05571093 95505.41641999)</td>\n",
       "      <td>-58.50877521</td>\n",
       "      <td>-34.66977709</td>\n",
       "      <td>AUTO-PASAJEROS</td>\n",
       "      <td>AUTO</td>\n",
       "      <td>PASAJEROS</td>\n",
       "    </tr>\n",
       "    <tr>\n",
       "      <th>2</th>\n",
       "      <td>2016-0003</td>\n",
       "      <td>1</td>\n",
       "      <td>2016-01-03</td>\n",
       "      <td>2016</td>\n",
       "      <td>1</td>\n",
       "      <td>3</td>\n",
       "      <td>07:00:00</td>\n",
       "      <td>7</td>\n",
       "      <td>AV ENTRE RIOS 2034</td>\n",
       "      <td>AVENIDA</td>\n",
       "      <td>ENTRE RIOS AV.</td>\n",
       "      <td>No data</td>\n",
       "      <td>ENTRE RIOS AV. 2034</td>\n",
       "      <td>1</td>\n",
       "      <td>Point (106684.29090040 99706.57687843)</td>\n",
       "      <td>-58.39040293</td>\n",
       "      <td>-34.63189362</td>\n",
       "      <td>MOTO-AUTO</td>\n",
       "      <td>MOTO</td>\n",
       "      <td>AUTO</td>\n",
       "    </tr>\n",
       "    <tr>\n",
       "      <th>3</th>\n",
       "      <td>2016-0004</td>\n",
       "      <td>1</td>\n",
       "      <td>2016-01-10</td>\n",
       "      <td>2016</td>\n",
       "      <td>1</td>\n",
       "      <td>10</td>\n",
       "      <td>00:00:00</td>\n",
       "      <td>0</td>\n",
       "      <td>AV LARRAZABAL Y GRAL VILLEGAS CONRADO</td>\n",
       "      <td>AVENIDA</td>\n",
       "      <td>LARRAZABAL AV.</td>\n",
       "      <td>VILLEGAS, CONRADO, GRAL.</td>\n",
       "      <td>LARRAZABAL AV. y VILLEGAS, CONRADO, GRAL.</td>\n",
       "      <td>8</td>\n",
       "      <td>Point (99840.65224780 94269.16534422)</td>\n",
       "      <td>-58.46503904</td>\n",
       "      <td>-34.68092974</td>\n",
       "      <td>MOTO-SD</td>\n",
       "      <td>MOTO</td>\n",
       "      <td>SD</td>\n",
       "    </tr>\n",
       "    <tr>\n",
       "      <th>4</th>\n",
       "      <td>2016-0005</td>\n",
       "      <td>1</td>\n",
       "      <td>2016-01-21</td>\n",
       "      <td>2016</td>\n",
       "      <td>1</td>\n",
       "      <td>21</td>\n",
       "      <td>05:20:00</td>\n",
       "      <td>5</td>\n",
       "      <td>AV SAN JUAN Y PRESIDENTE LUIS SAENZ PEÑA</td>\n",
       "      <td>AVENIDA</td>\n",
       "      <td>SAN JUAN AV.</td>\n",
       "      <td>SAENZ PE?A, LUIS, PRES.</td>\n",
       "      <td>SAN JUAN AV. y SAENZ PEÃ‘A, LUIS, PRES.</td>\n",
       "      <td>1</td>\n",
       "      <td>Point (106980.32827929 100752.16915795)</td>\n",
       "      <td>-58.38718297</td>\n",
       "      <td>-34.62246630</td>\n",
       "      <td>MOTO-PASAJEROS</td>\n",
       "      <td>MOTO</td>\n",
       "      <td>PASAJEROS</td>\n",
       "    </tr>\n",
       "    <tr>\n",
       "      <th>...</th>\n",
       "      <td>...</td>\n",
       "      <td>...</td>\n",
       "      <td>...</td>\n",
       "      <td>...</td>\n",
       "      <td>...</td>\n",
       "      <td>...</td>\n",
       "      <td>...</td>\n",
       "      <td>...</td>\n",
       "      <td>...</td>\n",
       "      <td>...</td>\n",
       "      <td>...</td>\n",
       "      <td>...</td>\n",
       "      <td>...</td>\n",
       "      <td>...</td>\n",
       "      <td>...</td>\n",
       "      <td>...</td>\n",
       "      <td>...</td>\n",
       "      <td>...</td>\n",
       "      <td>...</td>\n",
       "      <td>...</td>\n",
       "    </tr>\n",
       "    <tr>\n",
       "      <th>691</th>\n",
       "      <td>2021-0093</td>\n",
       "      <td>1</td>\n",
       "      <td>2021-12-13</td>\n",
       "      <td>2021</td>\n",
       "      <td>12</td>\n",
       "      <td>13</td>\n",
       "      <td>17:10:00</td>\n",
       "      <td>17</td>\n",
       "      <td>AV. RIESTRA Y MOM</td>\n",
       "      <td>AVENIDA</td>\n",
       "      <td>RIESTRA AV.</td>\n",
       "      <td>MOM</td>\n",
       "      <td>RIESTRA AV. y MOM</td>\n",
       "      <td>7</td>\n",
       "      <td>Point (102728.60090138 98186.24929177)</td>\n",
       "      <td>-58.43353773</td>\n",
       "      <td>-34.64561636</td>\n",
       "      <td>MOTO-AUTO</td>\n",
       "      <td>MOTO</td>\n",
       "      <td>AUTO</td>\n",
       "    </tr>\n",
       "    <tr>\n",
       "      <th>692</th>\n",
       "      <td>2021-0094</td>\n",
       "      <td>1</td>\n",
       "      <td>2021-12-20</td>\n",
       "      <td>2021</td>\n",
       "      <td>12</td>\n",
       "      <td>20</td>\n",
       "      <td>01:10:00</td>\n",
       "      <td>1</td>\n",
       "      <td>AU DELLEPIANE Y LACARRA</td>\n",
       "      <td>AUTOPISTA</td>\n",
       "      <td>DELLEPIANE, LUIS, TTE. GRAL.</td>\n",
       "      <td>LACARRA AV.</td>\n",
       "      <td>DELLEPIANE, LUIS, TTE. GRAL. y LACARRA AV.</td>\n",
       "      <td>9</td>\n",
       "      <td>Point (99624.29795829 97569.69801131)</td>\n",
       "      <td>-58.46739825</td>\n",
       "      <td>-34.65117757</td>\n",
       "      <td>MOTO-AUTO</td>\n",
       "      <td>MOTO</td>\n",
       "      <td>AUTO</td>\n",
       "    </tr>\n",
       "    <tr>\n",
       "      <th>693</th>\n",
       "      <td>2021-0095</td>\n",
       "      <td>1</td>\n",
       "      <td>2021-12-30</td>\n",
       "      <td>2021</td>\n",
       "      <td>12</td>\n",
       "      <td>30</td>\n",
       "      <td>00:43:00</td>\n",
       "      <td>0</td>\n",
       "      <td>AV. GAONA Y TERRADA</td>\n",
       "      <td>AVENIDA</td>\n",
       "      <td>GAONA AV.</td>\n",
       "      <td>TERRADA</td>\n",
       "      <td>GAONA AV. y TERRADA</td>\n",
       "      <td>11</td>\n",
       "      <td>Point (99116.45492358 101045.23284826)</td>\n",
       "      <td>-58.47293407</td>\n",
       "      <td>-34.61984745</td>\n",
       "      <td>MOTO-CARGAS</td>\n",
       "      <td>MOTO</td>\n",
       "      <td>CARGAS</td>\n",
       "    </tr>\n",
       "    <tr>\n",
       "      <th>694</th>\n",
       "      <td>2021-0096</td>\n",
       "      <td>1</td>\n",
       "      <td>2021-12-15</td>\n",
       "      <td>2021</td>\n",
       "      <td>12</td>\n",
       "      <td>15</td>\n",
       "      <td>10:30:00</td>\n",
       "      <td>10</td>\n",
       "      <td>AV. EVA PERON 4071</td>\n",
       "      <td>AVENIDA</td>\n",
<<<<<<< HEAD
       "      <td>PERON, EVA AV.</td>\n",
       "      <td>No data</td>\n",
=======
       "      <td>...</td>\n",
       "      <td>4071.0</td>\n",
       "      <td>NaN</td>\n",
>>>>>>> 7ae54ca0791f86bebaa438af892a7d8d71b77f87
       "      <td>PERON, EVA AV. 4071</td>\n",
       "      <td>9</td>\n",
       "      <td>Point (99324.54463985 97676.26932409)</td>\n",
       "      <td>-58.47066794</td>\n",
       "      <td>-34.65021673</td>\n",
       "      <td>AUTO-CARGAS</td>\n",
       "      <td>AUTO</td>\n",
       "      <td>CARGAS</td>\n",
       "    </tr>\n",
       "    <tr>\n",
       "      <th>695</th>\n",
       "      <td>2021-0097</td>\n",
       "      <td>1</td>\n",
       "      <td>2021-11-18</td>\n",
       "      <td>2021</td>\n",
       "      <td>11</td>\n",
       "      <td>18</td>\n",
       "      <td>06:10:00</td>\n",
       "      <td>6</td>\n",
       "      <td>PADRE CARLOS MUJICA 709</td>\n",
       "      <td>CALLE</td>\n",
<<<<<<< HEAD
       "      <td>PADRE CARLOS MUJICA</td>\n",
       "      <td>No data</td>\n",
=======
       "      <td>...</td>\n",
       "      <td>709.0</td>\n",
       "      <td>NaN</td>\n",
>>>>>>> 7ae54ca0791f86bebaa438af892a7d8d71b77f87
       "      <td>PADRE CARLOS MUGICA 709</td>\n",
       "      <td>1</td>\n",
       "      <td>Point (107664.16647795 104708.63962087)</td>\n",
       "      <td>-58.37976155</td>\n",
       "      <td>-34.58679619</td>\n",
       "      <td>BICICLETA-AUTO</td>\n",
       "      <td>BICICLETA</td>\n",
       "      <td>AUTO</td>\n",
       "    </tr>\n",
       "  </tbody>\n",
       "</table>\n",
<<<<<<< HEAD
       "<p>696 rows × 20 columns</p>\n",
=======
       "<p>696 rows × 21 columns</p>\n",
>>>>>>> 7ae54ca0791f86bebaa438af892a7d8d71b77f87
       "</div>"
      ],
      "text/plain": [
       "            ID  N_VICTIMAS      FECHA  AAAA  MM  DD      HORA  HH  \\\n",
       "0    2016-0001           1 2016-01-01  2016   1   1  04:00:00   4   \n",
       "1    2016-0002           1 2016-01-02  2016   1   2  01:15:00   1   \n",
       "2    2016-0003           1 2016-01-03  2016   1   3  07:00:00   7   \n",
       "3    2016-0004           1 2016-01-10  2016   1  10  00:00:00   0   \n",
       "4    2016-0005           1 2016-01-21  2016   1  21  05:20:00   5   \n",
       "..         ...         ...        ...   ...  ..  ..       ...  ..   \n",
       "691  2021-0093           1 2021-12-13  2021  12  13  17:10:00  17   \n",
       "692  2021-0094           1 2021-12-20  2021  12  20  01:10:00   1   \n",
       "693  2021-0095           1 2021-12-30  2021  12  30  00:43:00   0   \n",
       "694  2021-0096           1 2021-12-15  2021  12  15  10:30:00  10   \n",
       "695  2021-0097           1 2021-11-18  2021  11  18  06:10:00   6   \n",
       "\n",
<<<<<<< HEAD
       "                               LUGAR_DEL_HECHO TIPO_DE_CALLE  \\\n",
       "0    AV PIEDRA BUENA Y AV FERNANDEZ DE LA CRUZ       AVENIDA   \n",
       "1            AV GRAL PAZ  Y AV DE LOS CORRALES      GRAL PAZ   \n",
       "2                           AV ENTRE RIOS 2034       AVENIDA   \n",
       "3        AV LARRAZABAL Y GRAL VILLEGAS CONRADO       AVENIDA   \n",
       "4    AV SAN JUAN Y PRESIDENTE LUIS SAENZ PEÑA        AVENIDA   \n",
       "..                                         ...           ...   \n",
       "691                          AV. RIESTRA Y MOM       AVENIDA   \n",
       "692                    AU DELLEPIANE Y LACARRA     AUTOPISTA   \n",
       "693                        AV. GAONA Y TERRADA       AVENIDA   \n",
       "694                         AV. EVA PERON 4071       AVENIDA   \n",
       "695                    PADRE CARLOS MUJICA 709         CALLE   \n",
       "\n",
       "                            Calle                                Cruce  \\\n",
       "0                PIEDRA BUENA AV.  FERNANDEZ DE LA CRUZ, F., GRAL. AV.   \n",
       "1                  PAZ, GRAL. AV.                  DE LOS CORRALES AV.   \n",
       "2                  ENTRE RIOS AV.                              No data   \n",
       "3                  LARRAZABAL AV.             VILLEGAS, CONRADO, GRAL.   \n",
       "4                    SAN JUAN AV.              SAENZ PE?A, LUIS, PRES.   \n",
       "..                            ...                                  ...   \n",
       "691                   RIESTRA AV.                                  MOM   \n",
       "692  DELLEPIANE, LUIS, TTE. GRAL.                          LACARRA AV.   \n",
       "693                     GAONA AV.                              TERRADA   \n",
       "694                PERON, EVA AV.                              No data   \n",
       "695           PADRE CARLOS MUJICA                              No data   \n",
       "\n",
       "                                 Dirección Normalizada  COMUNA  \\\n",
       "0    PIEDRA BUENA AV. y FERNANDEZ DE LA CRUZ, F., G...       8   \n",
       "1                 PAZ, GRAL. AV. y DE LOS CORRALES AV.       9   \n",
       "2                                  ENTRE RIOS AV. 2034       1   \n",
       "3            LARRAZABAL AV. y VILLEGAS, CONRADO, GRAL.       8   \n",
       "4              SAN JUAN AV. y SAENZ PEÃ‘A, LUIS, PRES.       1   \n",
       "..                                                 ...     ...   \n",
       "691                                  RIESTRA AV. y MOM       7   \n",
       "692         DELLEPIANE, LUIS, TTE. GRAL. y LACARRA AV.       9   \n",
       "693                                GAONA AV. y TERRADA      11   \n",
       "694                                PERON, EVA AV. 4071       9   \n",
       "695                            PADRE CARLOS MUGICA 709       1   \n",
=======
       "                               LUGAR_DEL_HECHO TIPO_DE_CALLE  ...  Altura  \\\n",
       "0    AV PIEDRA BUENA Y AV FERNANDEZ DE LA CRUZ       AVENIDA  ...     NaN   \n",
       "1            AV GRAL PAZ  Y AV DE LOS CORRALES      GRAL PAZ  ...     NaN   \n",
       "2                           AV ENTRE RIOS 2034       AVENIDA  ...  2034.0   \n",
       "3        AV LARRAZABAL Y GRAL VILLEGAS CONRADO       AVENIDA  ...     NaN   \n",
       "4    AV SAN JUAN Y PRESIDENTE LUIS SAENZ PEÑA        AVENIDA  ...     NaN   \n",
       "..                                         ...           ...  ...     ...   \n",
       "691                          AV. RIESTRA Y MOM       AVENIDA  ...     NaN   \n",
       "692                    AU DELLEPIANE Y LACARRA     AUTOPISTA  ...     NaN   \n",
       "693                        AV. GAONA Y TERRADA       AVENIDA  ...     NaN   \n",
       "694                         AV. EVA PERON 4071       AVENIDA  ...  4071.0   \n",
       "695                    PADRE CARLOS MUJICA 709         CALLE  ...   709.0   \n",
       "\n",
       "                                   Cruce  \\\n",
       "0    FERNANDEZ DE LA CRUZ, F., GRAL. AV.   \n",
       "1                    DE LOS CORRALES AV.   \n",
       "2                                    NaN   \n",
       "3               VILLEGAS, CONRADO, GRAL.   \n",
       "4                SAENZ PE?A, LUIS, PRES.   \n",
       "..                                   ...   \n",
       "691                                  MOM   \n",
       "692                          LACARRA AV.   \n",
       "693                              TERRADA   \n",
       "694                                  NaN   \n",
       "695                                  NaN   \n",
       "\n",
       "                                 Dirección Normalizada COMUNA  \\\n",
       "0    PIEDRA BUENA AV. y FERNANDEZ DE LA CRUZ, F., G...      8   \n",
       "1                 PAZ, GRAL. AV. y DE LOS CORRALES AV.      9   \n",
       "2                                  ENTRE RIOS AV. 2034      1   \n",
       "3            LARRAZABAL AV. y VILLEGAS, CONRADO, GRAL.      8   \n",
       "4              SAN JUAN AV. y SAENZ PEÃ‘A, LUIS, PRES.      1   \n",
       "..                                                 ...    ...   \n",
       "691                                  RIESTRA AV. y MOM      7   \n",
       "692         DELLEPIANE, LUIS, TTE. GRAL. y LACARRA AV.      9   \n",
       "693                                GAONA AV. y TERRADA     11   \n",
       "694                                PERON, EVA AV. 4071      9   \n",
       "695                            PADRE CARLOS MUGICA 709      1   \n",
>>>>>>> 7ae54ca0791f86bebaa438af892a7d8d71b77f87
       "\n",
       "                                   XY (CABA)         pos x         pos y  \\\n",
       "0      Point (98896.78238426 93532.43437792)  -58.47533969  -34.68757022   \n",
       "1      Point (95832.05571093 95505.41641999)  -58.50877521  -34.66977709   \n",
       "2     Point (106684.29090040 99706.57687843)  -58.39040293  -34.63189362   \n",
       "3      Point (99840.65224780 94269.16534422)  -58.46503904  -34.68092974   \n",
       "4    Point (106980.32827929 100752.16915795)  -58.38718297  -34.62246630   \n",
       "..                                       ...           ...           ...   \n",
       "691   Point (102728.60090138 98186.24929177)  -58.43353773  -34.64561636   \n",
       "692    Point (99624.29795829 97569.69801131)  -58.46739825  -34.65117757   \n",
       "693   Point (99116.45492358 101045.23284826)  -58.47293407  -34.61984745   \n",
       "694    Point (99324.54463985 97676.26932409)  -58.47066794  -34.65021673   \n",
       "695  Point (107664.16647795 104708.63962087)  -58.37976155  -34.58679619   \n",
       "\n",
       "      PARTICIPANTES    VICTIMA    ACUSADO  \n",
       "0         MOTO-AUTO       MOTO       AUTO  \n",
       "1    AUTO-PASAJEROS       AUTO  PASAJEROS  \n",
       "2         MOTO-AUTO       MOTO       AUTO  \n",
       "3           MOTO-SD       MOTO         SD  \n",
       "4    MOTO-PASAJEROS       MOTO  PASAJEROS  \n",
       "..              ...        ...        ...  \n",
       "691       MOTO-AUTO       MOTO       AUTO  \n",
       "692       MOTO-AUTO       MOTO       AUTO  \n",
       "693     MOTO-CARGAS       MOTO     CARGAS  \n",
       "694     AUTO-CARGAS       AUTO     CARGAS  \n",
       "695  BICICLETA-AUTO  BICICLETA       AUTO  \n",
       "\n",
<<<<<<< HEAD
       "[696 rows x 20 columns]"
      ]
     },
     "execution_count": 8,
=======
       "[696 rows x 21 columns]"
      ]
     },
     "execution_count": 3,
>>>>>>> 7ae54ca0791f86bebaa438af892a7d8d71b77f87
     "metadata": {},
     "output_type": "execute_result"
    }
   ],
<<<<<<< HEAD
=======
   "source": [
    "kills"
   ]
  },
  {
   "cell_type": "code",
   "execution_count": 3,
   "metadata": {},
   "outputs": [
    {
     "name": "stdout",
     "output_type": "stream",
     "text": [
      "(696, 21)\n",
      "Index(['ID', 'N_VICTIMAS', 'FECHA', 'AAAA', 'MM', 'DD', 'HORA', 'HH',\n",
      "       'LUGAR_DEL_HECHO', 'TIPO_DE_CALLE', 'Calle', 'Altura', 'Cruce',\n",
      "       'Dirección Normalizada', 'COMUNA', 'XY (CABA)', 'pos x', 'pos y',\n",
      "       'PARTICIPANTES', 'VICTIMA', 'ACUSADO'],\n",
      "      dtype='object')\n"
     ]
    }
   ],
   "source": [
    "print(kills.shape)\n",
    "print(kills.columns)"
   ]
  },
  {
   "cell_type": "code",
   "execution_count": 5,
   "metadata": {},
   "outputs": [
    {
     "name": "stdout",
     "output_type": "stream",
     "text": [
      "<class 'pandas.core.frame.DataFrame'>\n",
      "RangeIndex: 696 entries, 0 to 695\n",
      "Data columns (total 21 columns):\n",
      " #   Column                 Non-Null Count  Dtype         \n",
      "---  ------                 --------------  -----         \n",
      " 0   ID                     696 non-null    object        \n",
      " 1   N_VICTIMAS             696 non-null    int64         \n",
      " 2   FECHA                  696 non-null    datetime64[ns]\n",
      " 3   AAAA                   696 non-null    int64         \n",
      " 4   MM                     696 non-null    int64         \n",
      " 5   DD                     696 non-null    int64         \n",
      " 6   HORA                   696 non-null    object        \n",
      " 7   HH                     696 non-null    object        \n",
      " 8   LUGAR_DEL_HECHO        696 non-null    object        \n",
      " 9   TIPO_DE_CALLE          696 non-null    object        \n",
      " 10  Calle                  695 non-null    object        \n",
      " 11  Altura                 129 non-null    float64       \n",
      " 12  Cruce                  525 non-null    object        \n",
      " 13  Dirección Normalizada  688 non-null    object        \n",
      " 14  COMUNA                 696 non-null    int64         \n",
      " 15  XY (CABA)              696 non-null    object        \n",
      " 16  pos x                  696 non-null    object        \n",
      " 17  pos y                  696 non-null    object        \n",
      " 18  PARTICIPANTES          696 non-null    object        \n",
      " 19  VICTIMA                696 non-null    object        \n",
      " 20  ACUSADO                696 non-null    object        \n",
      "dtypes: datetime64[ns](1), float64(1), int64(5), object(14)\n",
      "memory usage: 114.3+ KB\n"
     ]
    }
   ],
   "source": [
    "with pd.option_context('display.max_columns', None):\n",
    "    kills.info()"
   ]
  },
  {
   "cell_type": "markdown",
   "metadata": {},
   "source": [
    "## Duplicated values"
   ]
  },
  {
   "cell_type": "markdown",
   "metadata": {},
   "source": [
    "### Percentage of duplicated respect it's own column"
   ]
  },
  {
   "cell_type": "code",
   "execution_count": 4,
   "metadata": {},
   "outputs": [
    {
     "name": "stderr",
     "output_type": "stream",
     "text": [
      "C:\\Users\\Jhon\\AppData\\Local\\Temp\\ipykernel_15336\\2961727700.py:1: FutureWarning: 'any' with datetime64 dtypes is deprecated and will raise in a future version. Use (obj != pd.Timestamp(0)).any() instead.\n",
      "  duplicated_ratio = ((kills.any().duplicated() / len(kills))*100).sort_values(ascending=False)\n"
     ]
    },
    {
     "data": {
      "text/plain": [
       "Calle                    0.143678\n",
       "Altura                   0.143678\n",
       "VICTIMA                  0.143678\n",
       "PARTICIPANTES            0.143678\n",
       "pos y                    0.143678\n",
       "pos x                    0.143678\n",
       "XY (CABA)                0.143678\n",
       "COMUNA                   0.143678\n",
       "Dirección Normalizada    0.143678\n",
       "Cruce                    0.143678\n",
       "ACUSADO                  0.143678\n",
       "N_VICTIMAS               0.143678\n",
       "TIPO_DE_CALLE            0.143678\n",
       "LUGAR_DEL_HECHO          0.143678\n",
       "HH                       0.143678\n",
       "HORA                     0.143678\n",
       "DD                       0.143678\n",
       "MM                       0.143678\n",
       "AAAA                     0.143678\n",
       "FECHA                    0.143678\n",
       "ID                       0.000000\n",
       "dtype: float64"
      ]
     },
     "execution_count": 4,
     "metadata": {},
     "output_type": "execute_result"
    }
   ],
   "source": [
    "duplicated_ratio = ((kills.any().duplicated() / len(kills))*100).sort_values(ascending=False)\n",
    "duplicated_ratio"
   ]
  },
  {
   "cell_type": "markdown",
   "metadata": {},
   "source": [
    "## Null values"
   ]
  },
  {
   "cell_type": "code",
   "execution_count": 6,
   "metadata": {},
   "outputs": [
    {
     "data": {
      "text/plain": [
       "Altura                   0.814655\n",
       "Cruce                    0.245690\n",
       "Dirección Normalizada    0.011494\n",
       "Calle                    0.001437\n",
       "VICTIMA                  0.000000\n",
       "PARTICIPANTES            0.000000\n",
       "pos y                    0.000000\n",
       "pos x                    0.000000\n",
       "XY (CABA)                0.000000\n",
       "COMUNA                   0.000000\n",
       "ID                       0.000000\n",
       "N_VICTIMAS               0.000000\n",
       "TIPO_DE_CALLE            0.000000\n",
       "LUGAR_DEL_HECHO          0.000000\n",
       "HH                       0.000000\n",
       "HORA                     0.000000\n",
       "DD                       0.000000\n",
       "MM                       0.000000\n",
       "AAAA                     0.000000\n",
       "FECHA                    0.000000\n",
       "ACUSADO                  0.000000\n",
       "dtype: float64"
      ]
     },
     "execution_count": 6,
     "metadata": {},
     "output_type": "execute_result"
    }
   ],
   "source": [
    "(kills.isnull().sum() / len(kills)).sort_values(ascending=False)"
   ]
  },
  {
   "cell_type": "code",
   "execution_count": 14,
   "metadata": {},
   "outputs": [
    {
     "data": {
      "text/html": [
       "<div>\n",
       "<style scoped>\n",
       "    .dataframe tbody tr th:only-of-type {\n",
       "        vertical-align: middle;\n",
       "    }\n",
       "\n",
       "    .dataframe tbody tr th {\n",
       "        vertical-align: top;\n",
       "    }\n",
       "\n",
       "    .dataframe thead th {\n",
       "        text-align: right;\n",
       "    }\n",
       "</style>\n",
       "<table border=\"1\" class=\"dataframe\">\n",
       "  <thead>\n",
       "    <tr style=\"text-align: right;\">\n",
       "      <th></th>\n",
       "      <th>Altura</th>\n",
       "      <th>Cruce</th>\n",
       "      <th>Dirección Normalizada</th>\n",
       "      <th>Calle</th>\n",
       "    </tr>\n",
       "  </thead>\n",
       "  <tbody>\n",
       "    <tr>\n",
       "      <th>0</th>\n",
       "      <td>NaN</td>\n",
       "      <td>FERNANDEZ DE LA CRUZ, F., GRAL. AV.</td>\n",
       "      <td>PIEDRA BUENA AV. y FERNANDEZ DE LA CRUZ, F., G...</td>\n",
       "      <td>PIEDRA BUENA AV.</td>\n",
       "    </tr>\n",
       "    <tr>\n",
       "      <th>1</th>\n",
       "      <td>NaN</td>\n",
       "      <td>DE LOS CORRALES AV.</td>\n",
       "      <td>PAZ, GRAL. AV. y DE LOS CORRALES AV.</td>\n",
       "      <td>PAZ, GRAL. AV.</td>\n",
       "    </tr>\n",
       "    <tr>\n",
       "      <th>2</th>\n",
       "      <td>2034.0</td>\n",
       "      <td>NaN</td>\n",
       "      <td>ENTRE RIOS AV. 2034</td>\n",
       "      <td>ENTRE RIOS AV.</td>\n",
       "    </tr>\n",
       "    <tr>\n",
       "      <th>3</th>\n",
       "      <td>NaN</td>\n",
       "      <td>VILLEGAS, CONRADO, GRAL.</td>\n",
       "      <td>LARRAZABAL AV. y VILLEGAS, CONRADO, GRAL.</td>\n",
       "      <td>LARRAZABAL AV.</td>\n",
       "    </tr>\n",
       "    <tr>\n",
       "      <th>4</th>\n",
       "      <td>NaN</td>\n",
       "      <td>SAENZ PE?A, LUIS, PRES.</td>\n",
       "      <td>SAN JUAN AV. y SAENZ PEÃ‘A, LUIS, PRES.</td>\n",
       "      <td>SAN JUAN AV.</td>\n",
       "    </tr>\n",
       "  </tbody>\n",
       "</table>\n",
       "</div>"
      ],
      "text/plain": [
       "   Altura                                Cruce  \\\n",
       "0     NaN  FERNANDEZ DE LA CRUZ, F., GRAL. AV.   \n",
       "1     NaN                  DE LOS CORRALES AV.   \n",
       "2  2034.0                                  NaN   \n",
       "3     NaN             VILLEGAS, CONRADO, GRAL.   \n",
       "4     NaN              SAENZ PE?A, LUIS, PRES.   \n",
       "\n",
       "                               Dirección Normalizada             Calle  \n",
       "0  PIEDRA BUENA AV. y FERNANDEZ DE LA CRUZ, F., G...  PIEDRA BUENA AV.  \n",
       "1               PAZ, GRAL. AV. y DE LOS CORRALES AV.    PAZ, GRAL. AV.  \n",
       "2                                ENTRE RIOS AV. 2034    ENTRE RIOS AV.  \n",
       "3          LARRAZABAL AV. y VILLEGAS, CONRADO, GRAL.    LARRAZABAL AV.  \n",
       "4            SAN JUAN AV. y SAENZ PEÃ‘A, LUIS, PRES.      SAN JUAN AV.  "
      ]
     },
     "execution_count": 14,
     "metadata": {},
     "output_type": "execute_result"
    }
   ],
   "source": [
    "kills[['Altura', 'Cruce', 'Dirección Normalizada', 'Calle']][:5]"
   ]
  },
  {
   "cell_type": "code",
   "execution_count": 12,
   "metadata": {},
   "outputs": [
    {
     "data": {
      "text/html": [
       "<div>\n",
       "<style scoped>\n",
       "    .dataframe tbody tr th:only-of-type {\n",
       "        vertical-align: middle;\n",
       "    }\n",
       "\n",
       "    .dataframe tbody tr th {\n",
       "        vertical-align: top;\n",
       "    }\n",
       "\n",
       "    .dataframe thead th {\n",
       "        text-align: right;\n",
       "    }\n",
       "</style>\n",
       "<table border=\"1\" class=\"dataframe\">\n",
       "  <thead>\n",
       "    <tr style=\"text-align: right;\">\n",
       "      <th></th>\n",
       "      <th>Altura</th>\n",
       "      <th>Cruce</th>\n",
       "      <th>Dirección Normalizada</th>\n",
       "      <th>Calle</th>\n",
       "    </tr>\n",
       "  </thead>\n",
       "  <tbody>\n",
       "    <tr>\n",
       "      <th>38</th>\n",
       "      <td>NaN</td>\n",
       "      <td>NaN</td>\n",
       "      <td>NaN</td>\n",
       "      <td>LUGONES, LEOPOLDO AV.</td>\n",
       "    </tr>\n",
       "    <tr>\n",
       "      <th>106</th>\n",
       "      <td>NaN</td>\n",
       "      <td>NaN</td>\n",
       "      <td>NaN</td>\n",
       "      <td>AUTOPISTA BUENOS AIRES - LA PLATA</td>\n",
       "    </tr>\n",
       "    <tr>\n",
       "      <th>119</th>\n",
       "      <td>NaN</td>\n",
       "      <td>NaN</td>\n",
       "      <td>NaN</td>\n",
       "      <td>NaN</td>\n",
       "    </tr>\n",
       "    <tr>\n",
       "      <th>180</th>\n",
       "      <td>NaN</td>\n",
       "      <td>NaN</td>\n",
       "      <td>NaN</td>\n",
       "      <td>AUTOPISTA PERITO MORENO</td>\n",
       "    </tr>\n",
       "    <tr>\n",
       "      <th>181</th>\n",
       "      <td>NaN</td>\n",
       "      <td>NaN</td>\n",
       "      <td>NaN</td>\n",
       "      <td>AUTOPISTA DELLEPIANE LUIS TTE. GRAL.</td>\n",
       "    </tr>\n",
       "    <tr>\n",
       "      <th>313</th>\n",
       "      <td>NaN</td>\n",
       "      <td>NaN</td>\n",
       "      <td>NaN</td>\n",
       "      <td>LUGONES, LEOPOLDO AV.</td>\n",
       "    </tr>\n",
       "    <tr>\n",
       "      <th>546</th>\n",
       "      <td>NaN</td>\n",
       "      <td>NaN</td>\n",
       "      <td>NaN</td>\n",
       "      <td>LUGONES, LEOPOLDO AV.</td>\n",
       "    </tr>\n",
       "    <tr>\n",
       "      <th>621</th>\n",
       "      <td>NaN</td>\n",
       "      <td>NaN</td>\n",
       "      <td>NaN</td>\n",
       "      <td>AUTOPISTA BUENOS AIRES - LA PLATA</td>\n",
       "    </tr>\n",
       "  </tbody>\n",
       "</table>\n",
       "</div>"
      ],
      "text/plain": [
       "     Altura Cruce Dirección Normalizada                                 Calle\n",
       "38      NaN   NaN                   NaN                 LUGONES, LEOPOLDO AV.\n",
       "106     NaN   NaN                   NaN     AUTOPISTA BUENOS AIRES - LA PLATA\n",
       "119     NaN   NaN                   NaN                                   NaN\n",
       "180     NaN   NaN                   NaN               AUTOPISTA PERITO MORENO\n",
       "181     NaN   NaN                   NaN  AUTOPISTA DELLEPIANE LUIS TTE. GRAL.\n",
       "313     NaN   NaN                   NaN                 LUGONES, LEOPOLDO AV.\n",
       "546     NaN   NaN                   NaN                 LUGONES, LEOPOLDO AV.\n",
       "621     NaN   NaN                   NaN     AUTOPISTA BUENOS AIRES - LA PLATA"
      ]
     },
     "execution_count": 12,
     "metadata": {},
     "output_type": "execute_result"
    }
   ],
   "source": [
    "kills[kills[\"Dirección Normalizada\"].isnull()][['Altura', 'Cruce', 'Dirección Normalizada', 'Calle']]\n"
   ]
  },
  {
   "cell_type": "markdown",
   "metadata": {},
   "source": [
    "#### What is the % of nulls respect to the dataset?"
   ]
  },
  {
   "cell_type": "code",
   "execution_count": 31,
   "metadata": {},
   "outputs": [
    {
     "name": "stdout",
     "output_type": "stream",
     "text": [
      "Total of nulls:  747\n",
      "Total Values (Rowx * Columns):  14616\n",
      "Percentage respect to the dataset:  19.566265060240966\n"
     ]
    }
   ],
   "source": [
    "print(\"Total of nulls: \", kills.isnull().sum().sum())\n",
    "print(\"Total Values (Rowx * Columns): \", kills.shape[0] * kills.shape[1])\n",
    "print(\"Percentage respect to the dataset: \", ((kills.shape[0] * kills.shape[1]) / kills.isnull().sum().sum()) )"
   ]
  },
  {
   "cell_type": "markdown",
   "metadata": {},
   "source": [
    "#### We are going to delete useless columns"
   ]
  },
  {
   "cell_type": "code",
   "execution_count": 32,
   "metadata": {},
   "outputs": [],
   "source": [
    "kills.drop(['Altura'], axis=1, inplace=True)"
   ]
  },
  {
   "cell_type": "markdown",
   "metadata": {},
   "source": [
    "#### We are going to fill 'Dirección Normalizada' and 'Calle' columns"
   ]
  },
  {
   "cell_type": "code",
   "execution_count": 33,
   "metadata": {},
   "outputs": [],
   "source": [
    "kills.fillna('No data', inplace=True)"
   ]
  },
  {
   "cell_type": "markdown",
   "metadata": {},
   "source": [
    "#### Now, no more nulls"
   ]
  },
  {
   "cell_type": "code",
   "execution_count": 41,
   "metadata": {},
   "outputs": [
    {
     "data": {
      "text/plain": [
       "0"
      ]
     },
     "execution_count": 41,
     "metadata": {},
     "output_type": "execute_result"
    }
   ],
   "source": [
    "kills.isnull().sum().sum()"
   ]
  },
  {
   "cell_type": "markdown",
   "metadata": {},
   "source": [
    "#### Saving our dataframe"
   ]
  },
  {
   "cell_type": "code",
   "execution_count": 43,
   "metadata": {},
   "outputs": [],
   "source": [
    "kills.to_excel('Datasets/kills.xlsx', index=False)"
   ]
  },
  {
   "cell_type": "markdown",
   "metadata": {},
>>>>>>> 7ae54ca0791f86bebaa438af892a7d8d71b77f87
   "source": [
    "#### Using the right dataframe"
   ]
  },
  {
   "cell_type": "code",
<<<<<<< HEAD
   "execution_count": 9,
   "metadata": {},
   "outputs": [
    {
     "name": "stdout",
     "output_type": "stream",
     "text": [
      "(696, 20)\n",
      "Index(['ID', 'N_VICTIMAS', 'FECHA', 'AAAA', 'MM', 'DD', 'HORA', 'HH',\n",
      "       'LUGAR_DEL_HECHO', 'TIPO_DE_CALLE', 'Calle', 'Cruce',\n",
      "       'Dirección Normalizada', 'COMUNA', 'XY (CABA)', 'pos x', 'pos y',\n",
      "       'PARTICIPANTES', 'VICTIMA', 'ACUSADO'],\n",
      "      dtype='object')\n"
     ]
    }
   ],
   "source": [
    "print(kills.shape)\n",
    "print(kills.columns)"
=======
   "execution_count": 2,
   "metadata": {},
   "outputs": [],
   "source": [
    "kills = pd.read_excel('Datasets/kills.xlsx')"
>>>>>>> 7ae54ca0791f86bebaa438af892a7d8d71b77f87
   ]
  },
  {
   "cell_type": "markdown",
   "metadata": {},
   "source": [
    "#### Year with most kills"
   ]
  },
  {
   "cell_type": "code",
<<<<<<< HEAD
   "execution_count": 10,
=======
   "execution_count": 53,
>>>>>>> 7ae54ca0791f86bebaa438af892a7d8d71b77f87
   "metadata": {},
   "outputs": [
    {
     "data": {
      "image/png": "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",
      "text/plain": [
       "<Figure size 640x480 with 1 Axes>"
      ]
     },
     "metadata": {},
     "output_type": "display_data"
    }
   ],
   "source": [
    "most_kills = kills['AAAA'].value_counts().index[0]\n",
    "\n",
    "plt.bar(kills['AAAA'].unique(), kills['AAAA'].value_counts())\n",
    "plt.xlabel(\"Year\")\n",
    "plt.ylabel(\"Kills\")\n",
    "\n",
    "\n",
    "plt.bar(most_kills, kills['AAAA'].value_counts()[most_kills], color='red')\n",
    "\n",
    "plt.show()"
   ]
  },
  {
   "cell_type": "markdown",
   "metadata": {},
   "source": [
<<<<<<< HEAD
    "#### Most kills for type of street"
=======
    "#### Most kills for kind of street"
>>>>>>> 7ae54ca0791f86bebaa438af892a7d8d71b77f87
   ]
  },
  {
   "cell_type": "code",
<<<<<<< HEAD
   "execution_count": 11,
=======
   "execution_count": 47,
>>>>>>> 7ae54ca0791f86bebaa438af892a7d8d71b77f87
   "metadata": {},
   "outputs": [
    {
     "data": {
      "image/png": "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",
      "text/plain": [
       "<Figure size 640x480 with 1 Axes>"
      ]
     },
     "metadata": {},
     "output_type": "display_data"
    }
   ],
   "source": [
    "most_kind_street = kills['TIPO_DE_CALLE'].value_counts().index[0]\n",
    "\n",
    "\n",
    "plt.bar(kills['TIPO_DE_CALLE'].unique(), kills['TIPO_DE_CALLE'].value_counts())\n",
    "plt.xlabel(\"Kind of Street\")\n",
    "plt.ylabel(\"Kills\")\n",
    "\n",
    "\n",
    "plt.bar(most_kind_street, kills['TIPO_DE_CALLE'].value_counts()[most_kind_street], color='red')\n",
    "\n",
    "plt.show()"
   ]
  },
  {
   "cell_type": "markdown",
   "metadata": {},
   "source": [
    "## Outliers"
   ]
  },
  {
   "cell_type": "markdown",
   "metadata": {},
   "source": [
    "#### Let's graph a boxplot of outliers"
   ]
  },
  {
   "cell_type": "markdown",
   "metadata": {},
   "source": [
    "#### Let's graph a boxplot of outliers"
   ]
  },
  {
   "cell_type": "code",
<<<<<<< HEAD
   "execution_count": 12,
=======
   "execution_count": 72,
>>>>>>> 7ae54ca0791f86bebaa438af892a7d8d71b77f87
   "metadata": {},
   "outputs": [
    {
     "data": {
      "text/plain": [
       "array([4, 1, 7, 0, 5, 18, 19, 15, 11, 22, 16, 9, 23, 6, 10, 17, 12, 8, 20,\n",
       "       21, 14, 3, 2, 13, 'SD'], dtype=object)"
      ]
     },
<<<<<<< HEAD
     "execution_count": 12,
=======
     "execution_count": 72,
>>>>>>> 7ae54ca0791f86bebaa438af892a7d8d71b77f87
     "metadata": {},
     "output_type": "execute_result"
    }
   ],
   "source": [
    "kills['HH'].unique()"
   ]
  },
  {
   "cell_type": "markdown",
   "metadata": {},
   "source": [
    "We observe the column 'HH' which is the type of integer values about the hour, and we note a mistake named 'SD', so we're going to clean it."
   ]
  },
  {
   "cell_type": "code",
<<<<<<< HEAD
   "execution_count": 13,
=======
   "execution_count": 69,
>>>>>>> 7ae54ca0791f86bebaa438af892a7d8d71b77f87
   "metadata": {},
   "outputs": [],
   "source": [
    "kills[\"HH\"] = pd.to_numeric(kills [\"HH\"], errors=\"coerce\")\n",
    "kills[\"HH\"] = kills[\"HH\"].astype(\"Int64\")"
   ]
  },
  {
   "cell_type": "code",
<<<<<<< HEAD
   "execution_count": 14,
=======
   "execution_count": 70,
>>>>>>> 7ae54ca0791f86bebaa438af892a7d8d71b77f87
   "metadata": {},
   "outputs": [
    {
     "data": {
      "image/png": "iVBORw0KGgoAAAANSUhEUgAAA90AAAGGCAYAAABmGOKbAAAAOXRFWHRTb2Z0d2FyZQBNYXRwbG90bGliIHZlcnNpb24zLjguMSwgaHR0cHM6Ly9tYXRwbG90bGliLm9yZy/SrBM8AAAACXBIWXMAAA9hAAAPYQGoP6dpAACJnUlEQVR4nOzde1zO9/8/8MfV4bpEByo60IlQzjGHGAuRxsa0OYwPCRtyKoac9WGNIdtUdujAh5w2ObQtrCljmmmLISnHrINDKpUupev3h1/vr8tV6cp1dVUe99vtfdP79X69X+/n+3LJ9bxe79frJZLJZDIQERERERERkcppaToAIiIiIiIiooaKSTcRERERERGRmjDpJiIiIiIiIlITJt1EREREREREasKkm4iIiIiIiEhNmHQTERERERERqQmTbiIiIiIiIiI1YdJNREREREREpCY6mg6A6q+ysjJkZGTAwMAAIpFI0+HQc2QyGR49egRLS0toafG7NWXxvV238f1dc3xv1218b9cc39t1G9/bNcf3dt1W3fc2k26qsYyMDFhZWWk6DKpCeno6WrVqpekw6h2+t+sHvr+Vx/d2/cD3tvL43q4f+N5WHt/b9cPL3ttMuqnGDAwMADx7kxkaGmo4Gnpefn4+rKyshL8jUg7f23Ub3981x/d23cb3ds3xvV238b1dc3xv123VfW8z6aYaK3/ExdDQkL8E6ig+hlQzfG/XD3x/K4/v7fqB723l8b1dP/C9rTy+t+uHl723OaiCiIiIiIiISE2YdBMRERERERGpCZNuIiIiIiIiIjVh0k1ERERERESkJky6iYiIiIiIiNSESTcRERERERGRmjDpJiIiIiIiIlITJt1EREREREREasKkm4iIiIiIiEhNmHRrgKenJ0QiEWbMmKFwzNvbGyKRCJ6enkJZeno6vLy8YGlpCbFYDBsbG8ybNw8PHjwAANy8eRMikajKLSIiAgDw9OlTBAYGonPnzmjUqBGaNWsGd3d3nD59ujZunV5jAQEB6NmzJwwMDNCiRQuMGjUKKSkpcnWKi4vh7e0NExMT6Ovrw8PDA9nZ2cLx8+fPY/z48bCysoKenh4cHR3xxRdfyLWRmZmJDz/8EO3atYOWlhbmz59fG7dH9MpOnjyJd955B5aWlhCJRDh48KBwrKSkBIsXL0bnzp3RpEkTWFpaYtKkScjIyNBcwERERFQtTLo1xMrKCnv27MHjx4+FsuLiYkRGRsLa2loou379Ot544w2kpqZi9+7dSEtLw7Zt2xAbGwtnZ2fk5OTAysoKmZmZwrZgwQJ07NhRrmzs2LGQyWQYN24c/P39MW/ePCQnJyMuLg5WVlZwcXGR+4BHpGrx8fHw9vZGQkICjh8/jpKSEgwdOhSFhYVCHR8fHxw5cgT79+9HfHw8MjIyMHr0aOF4YmIiWrRogZ07d+LSpUtYtmwZ/Pz8sHXrVqGOVCpF8+bNsXz5cnTt2rVW75HoVRQWFqJr164ICgpSOFZUVIS//voLK1aswF9//YUDBw4gJSUF7777rgYiJSIiImXoaDqA11X37t1x7do1HDhwABMmTAAAHDhwANbW1rCzsxPqeXt7QywW49ixY9DT0wMAWFtbw8nJCW3atMGyZcsQEhICc3Nz4Rx9fX3o6OjIlQHA3r178f333+Pw4cN45513hPJvvvkGDx48wLRp0zBkyBA0adJEnbdOr6mYmBi5/YiICLRo0QKJiYkYMGAA8vLyEBoaisjISAwaNAgAEB4eDkdHRyQkJKBPnz7w8vKSa6N169Y4c+YMDhw4gNmzZwMAbG1thd7vsLCwWrgzItVwd3eHu7t7hceMjIxw/PhxubKtW7eiV69euH37ttyXtURERFS3sKdbg7y8vBAeHi7sh4WFYcqUKcJ+Tk4Ojh49ilmzZgkJdzlzc3NMmDABe/fuhUwmq9b1IiMj0a5dO7mEu9yCBQvw4MEDhQ91ROqSl5cHADA2NgbwrBe7pKQErq6uQh0HBwdYW1vjzJkzVbZT3gbR6yQvLw8ikQhNmzbVdChERERUBfZ0a9DEiRPh5+eHW7duAQBOnz6NPXv2IC4uDgCQmpoKmUwGR0fHCs93dHTEw4cPce/ePbRo0eKl17t69WqVbZXXqYxUKoVUKhX28/PzX3rNcjk5OXKPEb+qkpIS5OTkqKw9dTI2Noaurq7K2mvSpEm9TzLLysowf/589OvXD506dQIAZGVlQSwWKyQQZmZmyMrKqrCd33//HXv37sWPP/74SvG8yntb1Z48eVLp/dY15ubmEIvFmg7jtVRcXIzFixdj/PjxMDQ0rLReXXpvS6XSejUG3dLSEhKJRNNhUD0glUpx584dTYdRba1ateJ7m6rlyZMncnPr1HVmZmZ19nMJk24Nat68OYYPH46IiAjIZDIMHz4cpqamCvWq25NdHa/SVkBAANasWaP0eTk5OVi3bi1KSkprfG36P7q6Oli2bHm9Try9vb1x8eJFnDp1qsZtXLx4ESNHjsSqVaswdOjQV4qnpu9tdcjKysK6des0HUa1LFu2jI81a0BJSQnGjBkDmUyGkJCQKuvWpfd2RkYGli1bpukwqm3dunVyw72IKnPnzh34+PhoOoxqCwwMRJs2bTQdBtUD2dnZ2LRpk6bDqLYFCxbAyspK02FUiEm3hnl5eQljUV+cPMfe3h4ikQjJycl47733FM5NTk5Gs2bN0Lx582pdq127dkhOTq7wWHl5u3btKj3fz88Pvr6+wn5+fn613tiFhYUoKSnFyOaGMNXVrlasL1NaJkNu6VOVtKVuTXW0oaMlUklb90ue4tC9fBQWFtbbpHv27NmIjo7GyZMn0apVK6Hc3NwcT548QW5urlxvd3Z2tsL8BJcvX8bgwYPx0UcfYfny5a8cU03f2+pgbm6u8sQkMzMTYWFh8PLygoWFhcraffHvhdSvPOG+desWfv311yp7uYG69d62tLRU+RdK//77L4KDgzFr1iy0bNlSpW1bWlqqtD1quFq1aoXAwECVtpmeno7NmzfD19dX5f9mn/+/l6gqZmZmWLBggUrbzM7Oxs6dOzFx4kSYmZmptG1Vt6dKTLo1bNiwYXjy5AlEIhHc3NzkjpmYmGDIkCEIDg6Gj4+P3LjurKws7Nq1C5MmTYJIVL2Ebty4cfjwww9x5MgRhXHdmzZtEq5XGYlE8kqPI5nqasNCorrHrOvm91hUGZlMhjlz5iAqKgpxcXEKPUg9evSArq4uYmNj4eHhAQBISUnB7du34ezsLNS7dOkSBg0ahMmTJ6vsA/yrvrdVSSwWq6332MLCgj3T9Vh5wp2amooTJ07AxMTkpefUpfe2RCJRW89xy5Yt2StNGiORSNTWc2xlZcVeadIYsVisti9qzczM6myvtDow6dYwbW1toZdZW1uxF3jr1q3o27cv3NzcsHbtWtjZ2eHSpUv45JNP0LJlS6WSjnHjxmH//v2YPHkyPv/8cwwePBj5+fkICgrC4cOHsX//fs5cTmrj7e2NyMhIHDp0CAYGBsK4ZSMjI+jp6cHIyAhTp06Fr68vjI2NYWhoiDlz5sDZ2Rl9+vQB8OyR8kGDBsHNzQ2+vr5CG9ra2nJPfCQlJQEACgoKcO/ePSQlJUEsFqNDhw61e9NESigoKEBaWpqwf+PGDSQlJcHY2BgWFhZ4//338ddffyE6OhpPnz4V3v/GxsZ1dgwbERERMemuE6p6PLBt27Y4d+4cVq1ahTFjxiAnJwfm5uYYNWoUVq1apdQjxiKRCPv27cOWLVsQGBiIWbNmoVGjRnB2dkZcXBz69eunitshqlD52FMXFxe58vDwcHh6egJ4Ns5MS0sLHh4ekEqlcHNzQ3BwsFD3+++/x71797Bz507s3LlTKLexscHNmzeFfScnJ+HnxMREREZGKtQhqmvOnTuHgQMHCvvlj4VPnjwZq1evxuHDhwEA3bp1kzvvxIkTCv+uiIiIqO5g0q0BERERVR4/ePCg3L6Njc1Lz3ne6tWrsXr16gqP6ejoYOHChVi4cGG12yNShepM4teoUSMEBQUpzG9Qrqr3trLXIqprXFxcqnzv8n1NRERUP3GdbiIiIiJSm5CQEHTp0gWGhoYwNDSEs7Mzfv75Z+F4cXExvL29YWJiAn19fXh4eNSrZYqIiF6GSTcRERERqU2rVq3w2WefITExEefOncOgQYMwcuRIXLp0CQDg4+ODI0eOYP/+/YiPj0dGRgZGjx6t4aiJiFSHj5cTERERkdq8uGLKunXrEBISgoSEBLRq1QqhoaGIjIzEoEGDADyb68PR0REJCQnCRJpERPUZe7qJiIiIqFY8ffoUe/bsQWFhIZydnZGYmIiSkhK4uroKdRwcHGBtbY0zZ85oMFIiItVhTzcRERERqdU///wDZ2dnFBcXQ19fH1FRUejQoYOwpGPTpk3l6puZmQnL4lVEKpVCKpUK+/n5+eoKnYjolbGnm4iIiIjUqn379khKSsIff/yBmTNnYvLkybh8+XKN2wsICICRkZGwWVlZqTBaIiLVYtJNRERERGolFothb2+PHj16ICAgAF27dsUXX3wBc3NzPHnyBLm5uXL1s7OzYW5uXml7fn5+yMvLE7b09HQ13wERUc0x6SYiIiKiWlVWVgapVIoePXpAV1cXsbGxwrGUlBTcvn0bzs7OlZ4vkUiEJcjKNyKiuopjuomIiIhIbfz8/ODu7g5ra2s8evQIkZGRiIuLw9GjR2FkZISpU6fC19cXxsbGMDQ0xJw5c+Ds7MyZy4mowWDSTURERERqc/fuXUyaNAmZmZkwMjJCly5dcPToUQwZMgQAEBgYCC0tLXh4eEAqlcLNzQ3BwcEajpqISHWYdBMRERGR2oSGhlZ5vFGjRggKCkJQUFAtRUREVLs4ppuIiIiIiIhITZh0ExEREREREakJk24iIiIiIiIiNWHSTURERERERKQmTLqJiIiIiIiI1IRJNxEREREREZGaMOkmIiIiIiIiUhMm3URERERERERqwqSbiIiIiIiISE2YdBMRERERERGpCZNuIiIiIiIiIjVh0k1ERERERESkJky6iYiIiIiIiNSESTcRERERERGRmjDpJiIiIiIiIlITJt11xJkzZ6CtrY3hw4fLlcfFxUEkEiE3N1fhHFtbW2zZsgUREREQiURVbjdv3gQA5OTkYP78+bCxsYFYLIalpSW8vLxw+/btWrhLIiIiIiKi1wuT7joiNDQUc+bMwcmTJ5GRkaHUuWPHjkVmZqawOTs7Y/r06XJlVlZWyMnJQZ8+ffDLL79g27ZtSEtLw549e5CWloaePXvi+vXraro7IiIiIiKi15OOpgMgoKCgAHv37sW5c+eQlZWFiIgILF26tNrn6+npQU9PT9gXi8Vo3LgxzM3N5eotW7YMGRkZSEtLE45ZW1vj6NGjaNu2Lby9vfHzzz+r5qaIiIiIiIiISXddsG/fPjg4OKB9+/aYOHEi5s+fDz8/P4hEIpVdo6ysDHv27MGECRMUknE9PT3MmjULy5cvR05ODoyNjStsQyqVQiqVCvv5+flKxXD/SanygZMcvoZERERERPULk+46IDQ0FBMnTgQADBs2DHl5eYiPj4eLi4vKrnHv3j3k5ubC0dGxwuOOjo6QyWRIS0tDr169KqwTEBCANWvW1DiGQ/cf1fhcIiIiIiKi+ohJt4alpKTg7NmziIqKAgDo6Ohg7NixCA0NVWnSXU4mk9X4XD8/P/j6+gr7+fn5sLKyqvb5I00NYCrmW+5V3H9Syi8viIiIiIjqEWZAGhYaGorS0lJYWloKZTKZDBKJBFu3boWhoSEAIC8vD02bNpU7Nzc3F0ZGRtW6TvPmzdG0aVMkJydXeDw5ORkikQj29vaVtiGRSCCRSKp1vYqYinVgIdGt8flERERERHVFQEAADhw4gCtXrkBPTw99+/bF+vXr0b59e6FOcXExFixYgD179kAqlcLNzQ3BwcEwMzPTYORU2zh7uQaVlpZix44d2LRpE5KSkoTt/PnzsLS0xO7du9G2bVtoaWkhMTFR7tzr168jLy8P7dq1q9a1tLS0MGbMGERGRiIrK0vu2OPHjxEcHAw3N7dKx3MTEREREdH/iY+Ph7e3NxISEnD8+HGUlJRg6NChKCwsFOr4+PjgyJEj2L9/P+Lj45GRkYHRo0drMGrSBPZ0a1B0dDQePnyIqVOnKvRYe3h4IDQ0FDNmzMC0adOwYMEC6OjooHPnzkhPT8fixYvRp08f9O3bt9rX+/TTTxEbG4shQ4Zgw4YN6NSpE27cuIHly5ejpKQEQUFBqr5FIiIiIqIGKSYmRm4/IiICLVq0QGJiIgYMGIC8vDyEhoYiMjISgwYNAgCEh4fD0dERCQkJ6NOnjybCJg1gT7cGhYaGwtXVtcJHxD08PHDu3DlcuHABX3zxBSZPnozFixejY8eO8PT0RJcuXXDkyBGlZjg3MTFBQkICBg4ciI8//hht2rTBmDFj0KZNG/z5559o3bq1Km+PiIiIiOi1kZeXBwDCk6OJiYkoKSmBq6urUMfBwQHW1tY4c+aMRmIkzWBPtwYdOXKk0mO9evWSm/Rs9erVWL16dbXajYuLq/SYqakpvvzyS3z55ZfVDZOIiIiIiKpQVlaG+fPno1+/fujUqRMAICsrC2KxWGFeJjMzM4XhnuVedYleqpvY001ERERERPQKvL29cfHiRezZs+eV2gkICICRkZGwKbNSENVdTLqJiIiIiIhqaPbs2YiOjsaJEyfQqlUrodzc3BxPnjxBbm6uXP3s7GyYm5tX2Jafnx/y8vKELT09XZ2hUy1h0k1ERERERKQkmUyG2bNnIyoqCr/++ivs7Ozkjvfo0QO6urqIjY0VylJSUnD79m04OztX2KZEIoGhoaHcRvUfx3QTEREREREpydvbG5GRkTh06BAMDAyEcdpGRkbQ09ODkZERpk6dCl9fXxgbG8PQ0BBz5syBs7MzZy5/zTDpJiIiIiIiUlJISAgAwMXFRa48PDwcnp6eAIDAwEBoaWnBw8MDUqkUbm5uCA4OruVISdOYdBMRERERESnp+ZWGKtOoUSMEBQUhKCioFiKiuopjuomIiIiIiIjUhEk3ERERERERkZow6SYiIiIiIiJSEybdRERERERERGrCpJuIiIiIiIhITZh0ExEREREREakJk24iIqI64OTJk3jnnXdgaWkJkUiEgwcPyh2XyWRYuXIlLCwsoKenB1dXV6SmpmomWCIiIqo2Jt1ERER1QGFhIbp27VrpWq4bNmzAl19+iW3btuGPP/5AkyZN4ObmhuLi4lqOlIiIiJSho+kAiIiICHB3d4e7u3uFx2QyGbZs2YLly5dj5MiRAIAdO3bAzMwMBw8exLhx42ozVCIiIlICe7qJiIjquBs3biArKwuurq5CmZGREXr37o0zZ85oMDIiIiJ6GfZ0ExER1XFZWVkAADMzM7lyMzMz4VhFpFIppFKpsJ+fn1/ta96/fx+PHj1SMtLa9e+//8r9WVcZGBjA1NRU02EQEZGGMOkmIiJqoAICArBmzRqlz7t//z4WLFiIkpInaohK9YKDgzUdQpV0dcXYtGkjE28iotcUk24iqhUBAQE4cOAArly5Aj09PfTt2xfr169H+/bthTrFxcVYsGAB9uzZA6lUCjc3NwQHBwu9e+fPn8dnn32GU6dO4f79+7C1tcWMGTMwb948uWvFxcXB19cXly5dgpWVFZYvXw5PT8/avF0ilTI3NwcAZGdnw8LCQijPzs5Gt27dKj3Pz88Pvr6+wn5+fj6srKxeer1Hjx6hpOQJmukNhI52s5oHTih9+hAPH5/Ao0ePXtukuzq//11cXBAfHy933scff4xt27bVdrhERCrHpJuIakV8fDy8vb3Rs2dPlJaWYunSpRg6dCguX76MJk2aAAB8fHzw448/Yv/+/TAyMsLs2bMxevRonD59GgCQmJiIFi1aYOfOnbCyssLvv/+Ojz76CNra2pg9ezaAZ2Nfhw8fjhkzZmDXrl2IjY3FtGnTYGFhATc3N43dP9GrsLOzg7m5OWJjY4UkOz8/H3/88QdmzpxZ6XkSiQQSiaTG19XRbgax9uuZKJLqVOf3PwBMnz4d/v7+wn7jxo01ES4Rkcox6SaiWhETEyO3HxERgRYtWiAxMREDBgxAXl4eQkNDERkZiUGDBgEAwsPD4ejoiISEBPTp0wdeXl5ybbRu3RpnzpzBgQMHhKR727ZtsLOzw6ZNmwAAjo6OOHXqFAIDA5l0U51WUFCAtLQ0Yf/GjRtISkqCsbExrK2tMX/+fKxduxZt27aFnZ0dVqxYAUtLS4waNUpzQRNVw8t+/5dr3Lix8FQHEVFDwtnLiUgj8vLyAADGxsYAnvVil5SUyM3O7ODgAGtr6ypnZ87LyxPaAIAzZ87ItQEAbm5unOGZ6rxz587ByckJTk5OAABfX184OTlh5cqVAIBFixZhzpw5+Oijj9CzZ08UFBQgJiYGjRo10mTYREp78fd/uV27dsHU1BSdOnWCn58fioqKNBEeEZHKsaebiGpdWVkZ5s+fj379+qFTp04Ans3OLBaL0bRpU7m6Vc3O/Pvvv2Pv3r348ccfhbKsrKwKZ3jOz8/H48ePoaenp9DOq8zwnJOTg4KCgmrX14TMzEy5P+sqfX19hQ/hrxMXFxfIZLJKj4tEIvj7+8s9fktU31T0+x8APvzwQ9jY2MDS0hIXLlzA4sWLkZKSggMHDlTYzqv83iYiqm1Muomo1nl7e+PixYs4depUjdu4ePEiRo4ciVWrVmHo0KGvFE9NZ3jOycnBqpUr8aSk5JWuX1vCwsI0HUKVxLq6WOPv/1on3kQNXWW//z/66CPh586dO8PCwgKDBw/GtWvX0KZNG4V2avp7m4hIE5h0E1Gtmj17NqKjo3Hy5Em0atVKKDc3N8eTJ0+Qm5sr19udnZ2tMMbv8uXLGDx4MD766CMsX75c7pi5uTmys7PlyrKzs2FoaFhhLzdQ8xmeCwoK8KSkBCMdG8G0MUfrvIr7RWU4lFyMgoICJt1EDVRlv/8r0rt3bwBAWlpahUl3TX9vExFpApNuIqoVMpkMc+bMQVRUFOLi4mBnZyd3vEePHtDV1UVsbCw8PDwAACkpKbh9+zacnZ2FepcuXcKgQYMwefJkrFu3TuE6zs7O+Omnn+TKjh8/LtfGi151hmfTxlqwMNCu8flERA3Zy37/VyQpKQkA5JbIe96r/t4mIqpN7Jp5RZ6enhCJRBCJRBCLxbC3t4e/vz9KS0sRFxcnHHtxe3GM6p07dyAWi+XGN61evbrS88u3cunp6fDy8oKlpSXEYjFsbGwwb948PHjwQO46Li4uEIlE2LNnj1z5li1bYGtrq/oXiOj/8/b2xs6dOxEZGQkDAwNkZWUhKysLjx8/BgAYGRlh6tSp8PX1xYkTJ5CYmIgpU6bA2dkZffr0AfDskfKBAwdi6NCh8PX1Fdq4d++ecJ0ZM2bg+vXrWLRoEa5cuYLg4GDs27cPPj4+GrlvIqLX3ct+/1+7dg3//e9/kZiYiJs3b+Lw4cOYNGkSBgwYgC5dumg4eiKiV8ekWwWGDRuGzMxMpKamYsGCBVi9ejU+//xz4XhKSgoyMzPlthYtWsi1ERERgTFjxgjrrgLAwoUL5c5p1aoV/P395coA4Pr163jjjTeQmpqK3bt3Iy0tDdu2bUNsbCycnZ2Rk5Mjd61GjRph+fLlKKkn41CpYQgJCUFeXh5cXFxgYWEhbHv37hXqBAYGYsSIEfDw8MCAAQNgbm4uN4nO999/j3v37mHnzp1ybfTs2VOoY2dnhx9//BHHjx9H165dsWnTJnz33XdcLoyISENe9vtfLBbjl19+wdChQ+Hg4IAFCxbAw8MDR44c0XDkRESqwcfLVUAikQhjTmfOnImoqCgcPnxYeJy1RYsWCjMyP08mkyE8PBzBwcFo1aoVQkND0bt3b+jr60NfX1+op62tDQMDA4Xxrd7e3hCLxTh27JgwZtXa2hpOTk5o06YNli1bhpCQEKH++PHjcfjwYXz77beYNWuWql4GoipVNStzuUaNGiEoKAhBQUEVHl+9ejVWr1790nZcXFzw999/KxsiERGpwct+/1tZWSE+Pr6WoiEiqn1MutVAT09P4bHuqpw4cQJFRUVwdXVFy5Yt0bdvXwQGBqJJkyYvPTcnJwdHjx7FunXrFCaJMjc3x4QJE7B3714EBwcLj6MbGhpi2bJl8Pf3x+TJk6t1HeDVl+e4X/JUqfqkiK8hEREREVH9wqRbhWQyGWJjY3H06FHMmTNHKH9xhk4bGxtcunRJ2A8NDcW4ceOgra2NTp06oXXr1ti/fz88PT1fes3U1FTIZDI4OjpWeNzR0REPHz7EvXv35B5pnzVrFr744gts3rwZK1asqNb91XR5jiZNmkBXVweH7nENTVXQ1dWp9hclRERERESkWUy6VSA6Ohr6+vooKSlBWVkZPvzwQ6xevRp//vknAOC3336DgYGBUF9XV1f4OTc3FwcOHJBbr3LixIkIDQ2tVtJdrjqP7j5PIpHA398fc+bMwcyZM6t1Tk2X5zA2NsayZctRWFioVIy1LTs7Gzt27MCkSZNgZmam6XAq1aRJEy6pRERERERUTzDpVoGBAwciJCQEYrEYlpaW0NGRf1nt7OwqHdMdGRmJ4uJiYT1K4FkCXVZWhqtXr6Jdu3ZVXtve3h4ikQjJycl47733FI4nJyejWbNmaN68ucKxiRMnYuPGjVi7dm21Zi5/leU5jI2N602iaGZmxrU+iYiIiIhIJTh7uQo0adIE9vb2sLa2Vki4XyY0NBQLFixAUlKSsJ0/fx79+/dHWFjYS883MTHBkCFDEBwcLCy9US4rKwu7du3C2LFj5ZYXK6elpYWAgACEhITg5s2bSsVNREREREREL8ekuxbcvXtXWJOyfCspKUFSUhL++usvTJs2DZ06dZLbxo8fj+3bt6O0tPSl7W/duhVSqRRubm44efIk0tPTERMTgyFDhqBly5ZYt25dpecOHz4cvXv3xtdff63KWyYiIiIiIiLw8fJa0b59e4WyM2fOYNeuXejQoQMcHBwUjr/33nuYPXs2fvrpJ7z77rtVtt+2bVucO3cOq1atwpgxY5CTkwNzc3OMGjUKq1ateulj3evXr0ffvn2VuykiIiIiIqpTHj58iIKCAk2HUans7Gy5P+syfX19NGvWTCVtMel+RREREZUec3FxqXKCsz59+lR6zNzcHE+fyi8PVdUj4DY2NlXGUi4uLk6hzNnZWemJ2IiIiIiIqO54+PAhPv30U5SUlGg6lJfauXOnpkN4KV1dXSxdulQliTeTbiIiIiIionquoKAAJSUlMHN2g9iofkxgXFc9yctB9pmjKCgoYNJNRERERERE/0dsZIxGxi00HQY9hxOpEREREREREakJk24iIiIiIiIiNWHSTURERERERKQmTLqJiIiIiIiI1IRJNxEREREREZGacPZyIiIiInqt3Lt3D/n5+ZoOo1Lp6elyf9ZVhoaGaN68uabDIKrzmHQTERER0Wvj3r17mDVjBqQlJZoO5aU2b96s6RCqJNHVRfC2bUy8iV6CSTcRERERvTby8/MhLSnBf9LTYV5crOlw6q2sRo3wPysr5OfnM+kmegkm3URERET02jEvLoYVk24iqgWcSI2IiIiIiIhITZh0ExEREREREakJk24iIiIiIiIiNWHSTURERERERKQmTLqJiIiIiIiI1IRJNxEREREREZGaMOkmIiIiIiIiUhMm3URERERERERqwqSbiIiIiIiISE2YdBMRERERERGpCZNuIiIiIiIiIjVRSdKdm5urimaIiIiIiIiIGhSlk+7169dj7969wv6YMWNgYmKCli1b4vz58yoNjoiIiIiIiKg+Uzrp3rZtG6ysrAAAx48fx/Hjx/Hzzz/D3d0dn3zyicoDJCIiIiIiIqqvdJQ9ISsrS0i6o6OjMWbMGAwdOhS2trbo3bu3ygMkIiIiIiIiqq+U7ulu1qwZ0tPTAQAxMTFwdXUFAMhkMjx9+lS10ZHS7t27h5kzZ8La2hoSiQTm5uZwc3PD6dOnAQC2trYQiUQQiUTQ09ODra0txowZg19//VXDkRMRERERETU8Sifdo0ePxocffoghQ4bgwYMHcHd3BwD8/fffsLe3V3mApBwPDw/8/fff2L59O65evYrDhw/DxcUFDx48EOr4+/sjMzMTKSkp2LFjB5o2bQpXV1esW7dOg5ETERERERE1PEo/Xh4YGAhbW1ukp6djw4YN0NfXBwBkZmZi1qxZKg+Qqi83Nxe//fYb4uLi8NZbbwEAbGxs0KtXL7l6BgYGMDc3BwBYW1tjwIABsLCwwMqVK/H++++jffv2tR47ERERERFRQ6R0T7euri4WLlyIL774Ak5OTkK5j48Ppk2bptLgSDn6+vrQ19fHwYMHIZVKlTp33rx5kMlkOHToUKV1pFIp8vPz5TYiIiIiIiKqnNI93QCQkZGBU6dO4e7duygrK5M7NnfuXJUERsrT0dFBREQEpk+fjm3btqF79+546623MG7cOHTp0qXKc42NjdGiRQvcvHmz0joBAQFYs2aNiqMmIiIiIiJquJTu6Y6IiICdnR2mTp2KjRs3IjAwUNi2bNmihhBJGR4eHsjIyMDhw4cxbNgwxMXFoXv37oiIiHjpuTKZDCKRqNLjfn5+yMvLE7byCfWIiIiIiF5HJ0+exDvvvANLS0uIRCIcPHhQ7rinp6cwiXH5NmzYMM0ESxqjdNK9YsUKrFy5Enl5ebh58yZu3LghbNevX1dHjKSkRo0aYciQIVixYgV+//13eHp6YtWqVVWe8+DBA9y7dw92dnaV1pFIJDA0NJTbiIiIiIheV4WFhejatSuCgoIqrTNs2DBkZmYK2+7du2sxQqoLlH68vKioCOPGjYOWltL5OmlIhw4dFL51e9EXX3wBLS0tjBo1qlZiIiIiIiKq79zd3YXVnCpTvowvvb6UzpynTp2K/fv3qyMWekUPHjzAoEGDsHPnTly4cAE3btzA/v37sWHDBowcOVKo9+jRI2RlZSE9PR0nT57ERx99hLVr12LdunVc9o2IiIiISIXi4uLQokULtG/fHjNnzpRbyvdFnLi4YVK6pzsgIAAjRoxATEwMOnfuDF1dXbnjmzdvVllwpBx9fX307t0bgYGBuHbtGkpKSmBlZYXp06dj6dKlQr2VK1di5cqVEIvFMDc3R58+fRAbG4uBAwdqMHoiIiIiooZl2LBhGD16NOzs7HDt2jUsXboU7u7uOHPmDLS1tRXqc+LihqlGSffRo0eFtZyfn3irqkm4SP0kEgkCAgIQEBBQaZ2qZicnIqK66+nTp1i9ejV27tyJrKwsWFpawtPTE8uXL+f/v0REddS4ceOEnzt37owuXbqgTZs2iIuLw+DBgxXq+/n5wdfXV9jPz8+HlZVVrcRK6qN00r1p0yaEhYXB09NTDeEQERFRRdavX4+QkBBs374dHTt2xLlz5zBlyhQYGRlxuU6q0wICAnDgwAFcuXIFenp66Nu3L9avXy904ABAcXExFixYgD179kAqlcLNzQ3BwcEwMzPTYOREqte6dWuYmpoiLS2twqRbIpFAIpFoIDJSJ6XHdEskEvTr108dsRAREVElfv/9d4wcORLDhw+Hra0t3n//fQwdOhRnz57VdGhEVYqPj4e3tzcSEhJw/PhxlJSUYOjQoSgsLBTq+Pj44MiRI9i/fz/i4+ORkZGB0aNHazBqIvW4c+cOHjx4AAsLC02HQrVI6Z7uefPm4auvvsKXX36pjniIiIioAn379sU333yDq1evol27djh//jxOnTpV5VwqUqkUUqlU2OeEPKQJMTExcvsRERFo0aIFEhMTMWDAAOTl5SE0NBSRkZEYNGgQACA8PByOjo5ISEhAnz59NBE2UbUUFBQgLS1N2L9x4waSkpJgbGwMY2NjrFmzBh4eHjA3N8e1a9ewaNEi2Nvbw83NTYNRU21TOuk+e/Ysfv31V0RHR6Njx44KE6kdOHBAZcERERHRM0uWLEF+fj4cHBygra2Np0+fYt26dZgwYUKl53BCHqqL8vLyAADGxsYAgMTERJSUlMDV1VWo4+DgAGtra5w5c6bCpJtfKFFdce7cObnJiMvHY0+ePBkhISG4cOECtm/fjtzcXFhaWmLo0KH473//y0fIXzNKJ91Nmzbl4z5ERES1bN++fdi1axciIyPRsWNHJCUlYf78+bC0tMTkyZMrPIcT8lBdU1ZWhvnz56Nfv37o1KkTACArKwtisRhNmzaVq2tmZoasrKwK2+EXSlRXuLi4QCaTVXr86NGjtRgN1VVKJ93h4eHqiIOIiIiq8Mknn2DJkiXCTLidO3fGrVu3EBAQUGnSzQl5qK7x9vbGxYsXcerUqVdqh18oEVF9onTSTURERLWvqKgIWlry859qa2ujrKxMQxERKWf27NmIjo7GyZMn0apVK6Hc3NwcT548QW5urlxvd3Z2NszNzStsi18oEVF9Uq2ku3v37oiNjUWzZs3g5ORU5Xqgf/31l8qCIyIiomfeeecdrFu3DtbW1ujYsSP+/vtvbN68GV5eXpoOjahKMpkMc+bMQVRUFOLi4mBnZyd3vEePHtDV1UVsbCw8PDwAACkpKbh9+zacnZ01ETIRkUpVK+keOXKk8G3iyJEjq0y6iYiISPW++uorrFixArNmzcLdu3dhaWmJjz/+GCtXrtR0aERV8vb2RmRkJA4dOgQDAwNhnLaRkRH09PRgZGSEqVOnwtfXF8bGxjA0NMScOXPg7OzMmcuJqEGoVtK9atUq4efVq1erKxYiIiKqhIGBAbZs2YItW7ZoOhQipYSEhAB4NuHU88LDw+Hp6QkACAwMhJaWFjw8PCCVSuHm5obg4OBajpSISD2UHtPdunVr/PnnnzAxMZErz83NRffu3XH9+nWVBUdERERE9VtVMzuXa9SoEYKCghAUFFQLERER1S6tl1eRd/PmTTx9+lShXCqV4s6dOyoJioganoCAAPTs2RMGBgZo0aIFRo0ahZSUFLk6xcXF8Pb2homJCfT19eHh4YHs7Gy5OnPnzkWPHj0gkUjQrVu3Cq+1b98+dOvWDY0bN4aNjQ0+//xzdd0WEREREVGVqt3TffjwYeHno0ePwsjISNh/+vQpYmNjFSbGICIqFx8fD29vb/Ts2ROlpaVYunQphg4disuXL6NJkyYAAB8fH/z444/Yv38/jIyMMHv2bIwePRqnT5+Wa8vLywt//PEHLly4oHCdn3/+GRMmTMBXX32FoUOHIjk5GdOnT4eenh5mz55dK/dKRERERFSu2kn3qFGjAAAikUhhPVBdXV3Y2tpi06ZNKg2OiBqOmJgYuf2IiAi0aNECiYmJGDBgAPLy8hAaGorIyEgMGjQIwLPxfo6OjkhISBAm0/nyyy8BAPfu3asw6f7f//6HUaNGYcaMGQCeDYnx8/PD+vXr4e3tzYkgiYiIiKhWVTvpLl8H1M7ODn/++SdMTU3VFhQRNXx5eXkAAGNjYwBAYmIiSkpK4OrqKtRxcHCAtbU1zpw5U+0ZbKVSKRo3bixXpqenhzt37uDWrVuwtbWt8BypVCrs5+fnK3s7REREREQVUnpM940bN5hwE9ErKSsrw/z589GvXz906tQJAJCVlQWxWIymTZvK1TUzMxOWl6kONzc3HDhwALGxsSgrK8PVq1eFp3AyMzMrPCcgIABGRkbCZmVlVbMbIyIiIiJ6gdJJ99y5c4XHO5+3detWzJ8/XxUxEVED5+3tjYsXL2LPnj0qb3v69OmYPXs2RowYAbFYjD59+mDcuHEAAC2tin/l+fn5IS8vT9jS09NVHhcRERERvZ6UTrp/+OEH9OvXT6G8b9+++P7771USFBE1XLNnz0Z0dDROnDiBVq1aCeXm5uZ48uQJcnNz5epnZ2fD3Ny82u2LRCKsX78eBQUFuHXrFrKystCrVy8Az8Z3V0QikcDQ0FBuIyIiIiJSBaWT7gcPHsjNXF7O0NAQ9+/fV0lQRNTwyGQyzJ49G1FRUfj1118VVjvo0aMHdHV1ERsbK5SlpKTg9u3bcHZ2Vvp62traaNmyJcRiMXbv3g1nZ2c0b978le+DiIiIiEgZ1Z5IrZy9vT1iYmIUlt75+eefK+1FIiLy9vZGZGQkDh06BAMDA2GctpGREfT09GBkZISpU6fC19cXxsbGMDQ0xJw5c+Ds7Cw3iVpaWhoKCgqQlZWFx48fIykpCQDQoUMHiMVi3L9/H99//z1cXFxQXFyM8PBw7N+/H/Hx8Zq4bSIiIiJ6zSmddPv6+mL27Nm4d++esKxPbGwsNm3ahC1btqg6PiJqIEJCQgAALi4ucuXh4eHw9PQEAAQGBkJLSwseHh6QSqVwc3NDcHCwXP1p06bJJdBOTk4Ank3yWD4z+fbt27Fw4ULIZDI4OzsjLi5OeMSciIiIiKg2KZ10e3l5QSqVYt26dfjvf/8LALC1tUVISAgmTZqk8gCJqGGQyWQvrdOoUSMEBQUhKCio0jpxcXFVtmFqaoozZ84oGx4RERERkVoonXQDwMyZMzFz5kzcu3cPenp60NfXV3VcRERERERERPVejZLucpyUiIiIiIiIiKhy1Uq6u3fvjtjYWDRr1gxOTk4QiUSV1v3rr79UFhwRERERERFRfVatpHvkyJGQSCTCz1Ul3URERERERET0TLXW6V61ahWuX78OAFi9ejVWrVpV6fY6ycrKwpw5c9C6dWtIJBJYWVnhnXfekVtnGAACAgKgra2Nzz//XKGNiIgIiEQiiEQiaGlpwcLCAmPHjsXt27cV6qalpcHLywvW1taQSCRo2bIlBg8ejF27dqG0tFSh/scffwxtbW3s379f4VhRURH8/PzQpk0bNGrUCM2bN8dbb72FQ4cOvcIrQkRERERERM+rVtINAF26dEHv3r3x7bff4tGjR+qMqV64efMmevTogV9//RWff/45/vnnH8TExGDgwIHw9vaWqxsWFoZFixYhLCyswrYMDQ2RmZmJf//9Fz/88ANSUlLwwQcfyNU5e/YsunfvjuTkZAQFBeHixYuIi4vDtGnTEBISgkuXLsnVLyoqwp49eyq97owZM3DgwAF89dVXuHLlCmJiYvD+++/jwYMHr/jKEBG9frZv344ff/xR2F+0aBGaNm2Kvn374tatWxqMjIiIiDSt2hOpxcfHIzw8HAsWLICPjw88PDwwbdo09O/fX53x1VmzZs2CSCTC2bNn0aRJE6G8Y8eO8PLyEvbj4+Px+PFj+Pv7Y8eOHfj999/Rt29fubZEIhHMzc0BABYWFpg6dSrmzp2L/Px8GBoaQiaTwdPTE+3atcPp06ehpfV/35W0bdsW48ePV1iOaf/+/ejQoQOWLFkCS0tLpKenw8rKSjh++PBhfPHFF3j77bcBPFv2rUePHqp7gYiIXiOffvqpsBb9mTNnEBQUhMDAQERHR8PHxwcHDhzQcIRERESkKdXu6e7fvz/CwsKQmZmJr776Cjdv3sRbb72Fdu3aYf369cjKylJnnHVKTk4OYmJi4O3tLZdwl2vatKnwc2hoKMaPHw9dXV2MHz8eoaGhVbZ99+5dREVFQVtbG9ra2gCApKQkJCcnY+HChXIJ9/NeHGcfGhqKiRMnwsjICO7u7oiIiJA7bm5ujp9++kmppxakUiny8/PlNiIiAtLT02Fvbw8AOHjwIDw8PPDRRx8hICAAv/32m4ajIyIiIk2qdtJdrkmTJpgyZQri4+Nx9epVfPDBBwgKCoK1tTXeffdddcRY56SlpUEmk8HBwaHKevn5+fj+++8xceJEAMDEiROxb98+FBQUyNXLy8uDvr4+mjRpAjMzM5w4cUIuob969SoAoH379sI5d+/ehb6+vrAFBwcLx1JTU5GQkICxY8cK1w0PD5frDf/mm2/w+++/w8TEBD179oSPjw9Onz5d5f0EBATAyMhI2J7vOSciep3p6+sLw3OOHTuGIUOGAAAaNWqEx48fazI0IiIi0jClk+7n2dvbY+nSpVi+fDkMDAzkxrM1ZC8+yl2Z3bt3o02bNujatSsAoFu3brCxscHevXvl6hkYGCApKQnnzp3Dpk2b0L17d6xbt67Ktk1MTJCUlISkpCQ0bdoUT548EY6FhYXBzc0NpqamAIC3334beXl5+PXXX4U6AwYMwPXr1xEbG4v3338fly5dQv/+/fHf//630mv6+fkhLy9P2NLT06v1OhARNXRDhgzBtGnTMG3aNFy9elUYunPp0iXY2tpqNjgiIiLSqGqP6X7RyZMnERYWhh9++AFaWloYM2YMpk6dqsrY6qy2bdtCJBLhypUrVdYLDQ3FpUuXoKPzfy9zWVkZwsLC5F4rLS0t4bFER0dHXLt2DTNnzsT//vc/4XoAkJKSAicnJwCAtra2cM7z7T99+hTbt29HVlaWQnlYWBgGDx4slOnq6qJ///7o378/Fi9ejLVr18Lf3x+LFy+GWCxWuB+JRCIsHUevh5iYGOjr6+PNN98EAAQFBeHbb79Fhw4dEBQUhGbNmmk4QqK6ISgoCMuXL0d6ejp++OEHmJiYAAASExMxfvx4DUdXcyVPH2o6hHqPryFR3cTPOFSblEq6MzIyEBERgYiICKSlpaFv37748ssvMWbMmArHNjdUxsbGcHNzQ1BQEObOnatw77m5uUhPT8e5c+cQFxcHY2Nj4VhOTg5cXFxw5cqVSh9PX7JkCdq0aQMfHx90794dTk5OcHBwwMaNGzFmzJhKx3UDEMZp//3338KYcAC4ePEipkyZgtzcXLkx58/r0KEDSktLUVxcXGHSTa+fTz75BOvXrwcA/PPPP1iwYAF8fX1x4sQJ+Pr6Ijw8XMMREtUNTZs2xdatWxXK16xZo4FoVCf38QlNh0BEpBb8jEO1qdpJt7u7O3755ReYmppi0qRJ8PLykhtj/LoJCgpCv3790KtXL/j7+6NLly4oLS3F8ePHERISAjc3N/Tq1QsDBgxQOLdnz54IDQ2tcN1uALCyssJ7772HlStXIjo6GiKRCOHh4RgyZAj69esHPz8/ODo6oqSkBCdPnsS9e/eEBDs0NBTDhw8XHmkv16FDB/j4+GDXrl3w9vaGi4sLxo8fjzfeeAMmJia4fPkyli5dioEDB8LQ0FD1LxjVSzdu3ECHDh0AAD/88ANGjBiBTz/9FH/99Zfw+CwRPZObm4uzZ8/i7t27KCsrE8pFIhH+85//aDCymmuqNxC62uzteRUlTx82uC8vqvoCn6i+4Gccqk3VTrp1dXXx/fffY8SIEXI9qK+r1q1b46+//sK6deuwYMECZGZmonnz5ujRowe++OILfPjhh1i8eHGF53p4eGDTpk349NNPK23fx8cHzs7OOHv2LHr16oU+ffogMTERn376Kby9vZGVlYUmTZqga9euCAwMhJeXF7Kzs/Hjjz8iMjJSoT0tLS289957CA0Nhbe3N9zc3LB9+3YsXboURUVFsLS0xIgRI7By5UqVvUZU/4nFYhQVFQEAfvnlF0yaNAnAs6c9OHs90f85cuQIJkyYgIKCAhgaGsqtKFGfk25d7WYQa5tqOgzSoPXr18PW1laYnHXMmDH44YcfhFVQXvySn6i+4Gccqk3VTroPHz6szjjqJQsLC2zdurXCRwrv379f6XmLFi3CokWLAACenp7w9PRUqNOnTx+FCdvatWunsPTX88zMzFBSUlLp8ednOPfz84Ofn1+ldYkAoF+/fvD19UW/fv1w9uxZYRLAq1evolWrVhqOjqjuWLBgAby8vPDpp5+icePGmg6HSGW2bduGXbt2AQCOHz+O48eP4+eff8a+ffvwySef4NixYxqOkKhm+BmHatMrzV5ORA1bUFCQ8JRLSEgIWrZsCQD4+eefMWzYMA1HR1R3/Pvvv5g7dy4TbmpwsrKyhCVCo6OjMWbMGAwdOhSLFi3Cn3/+qeHoiGqOn3GoNtV49nIiathKS0sRFxeHb7/9Fubm5nLHAgMDNRQVUd3k5uaGc+fOoXXr1poOhUilmjVrhvT0dFhZWSEmJgZr164F8Gz51KdPn2o4OqKa4Wccqm1MuomoQjo6OpgxYwaSk5M1HQpRnfT8sKvhw4fjk08+weXLl9G5c2fo6urK1X333XdrOzwilRg9ejQ+/PBDtG3bFg8ePIC7uzsA4O+//xaWLiWqb/gZh2pbtZLu7t27IzY2Fs2aNYO/vz8WLlzIR+iIXgO9evXC33//DRsbG02HQlTnjBo1SqHM399foUwkErFHkOqtwMBA2NraIj09HRs2bIC+vj4AIDMzE7NmzdJwdEQ1x884VJuqlXQnJyejsLAQzZo1w5o1azBjxgwm3USvgVmzZmHBggW4c+cOevToobAmfZcuXTQUGZHmPb8sGFFD9eTJEyxcuFCh3MfHRwPREKkOP+NQbapW0t2tWzdMmTIFb775JmQyGTZu3Ch80/kiLjlF1HCMGzcOADB37lyhTCQSQSaTsfeO6Dk7duzA2LFjIZFI5MqfPHmCPXv2CEvRENU3ZmZmGDNmDLy8vPDmm29qOhwileFnHKpN1Uq6IyIisGrVKkRHR0MkEuHnn3+Gjo7iqSKRiEk3UQNy48YNTYdAVC9MmTIFw4YNQ4sWLeTKHz16hClTpjDppnpr586diIiIwKBBg2BrawsvLy9MmjQJlpaWmg6N6JXwMw7Vpmol3e3bt8eePXsAAFpaWoiNjVX4YEFEDQ/HORFVT3nPyIvu3LkDIyMjDUREpBqjRo3CqFGjcO/ePfzvf/9DREQEVqxYATc3N3h5eeHdd9+tsCOGqK7jZxyqTUr/luQYNqLXz+XLl3H79m08efJErpwzMtPrzsnJCSKRCCKRCIMHD5ZLPp4+fYobN25wvVdqEJo3bw5fX1/4+vriq6++wieffIKffvoJpqammDFjBpYsWcL5fqhe2bFjR5XH+YQSqVKNvpq8du0atmzZIkyz36FDB8ybNw9t2rRRaXBEpFnXr1/He++9h3/++UcY5wRA6NHjeCd63ZXPYJ6UlAQ3Nze5+U7EYjFsbW3h4eGhoeiIVCc7Oxvbt29HREQEbt26hffffx9Tp07FnTt3sH79eiQkJODYsWOaDpOo2ubNmye3X1JSgqKiIojFYjRu3JhJN6mU0kn30aNH8e6776Jbt27o168fAOD06dPo2LEjjhw5giFDhqg8SCLSjHnz5sHOzg6xsbGws7PD2bNn8eDBAyxYsAAbN27UdHhEGrdq1SoAgK2tLcaOHYtGjRppOCIi1Tpw4ADCw8Nx9OhRdOjQAbNmzcLEiRPRtGlToU7fvn3h6OiouSCJauDhw4cKZampqZg5cyY++eQTDUREDZnSSfeSJUvg4+ODzz77TKF88eLFTLqJGpAzZ87g119/hampKbS0tKClpYU333wTAQEBmDt3Lv7++29Nh0hUJ0yePBnAs9nK7969qzAUy9raWhNhEb2yKVOmYNy4cTh9+jR69uxZYR1LS0ssW7asliN7ddkvrDZAymmIr1/btm3x2WefYeLEibhy5Yqmw6EGROmkOzk5Gfv27VMo9/LywpYtW1QRExHVEU+fPoWBgQEAwNTUFBkZGWjfvj1sbGyQkpKi4eiI6o7U1FR4eXnh999/lyvn0jNU32VmZr50rLaenp7w1Ed9soNfhlEFdHR0kJGRoekwqIFROulu3rw5kpKS0LZtW7nypKQkzmhO1MB06tQJ58+fh52dHXr37o0NGzZALBbjm2++QevWrTUdHlGd4enpCR0dHURHR8PCwqLCmcyJ6qPnE+7i4mKFCTUNDQ1rOySVmXT7NsykUk2HUW9lSyT1+ouLw4cPy+3LZDJkZmZi69atwhBaIlVROumePn06PvroI1y/fh19+/YF8GxM9/r16+Hr66vyAIlIc5YvX47CwkIAgL+/P0aMGIH+/fvDxMQEe/fu1XB0RHVHUlISEhMT4eDgoOlQiFSqsLAQixcvxr59+/DgwQOF4/X5KQ4zqRRWxcWaDoM0pHwizHIikQjNmzfHoEGDsGnTJs0ERQ2W0kn3ihUrYGBggE2bNsHPzw/As7E8q1evxty5c1UeIBFpjpubm/Czvb09rly5gpycHDRr1ow9eUTP6dChA+7fv6/pMIhUbtGiRThx4gRCQkLwn//8B0FBQfj333/x9ddfK8zvQ1SfcBlkqk1KJ90ikQg+Pj7w8fHBo0ePAEAY80lEDVNaWhquXbuGAQMGwNjYWFg6jIieWb9+PRYtWoRPP/0UnTt3hq6urtzx+vwILr3ejhw5gh07dsDFxQVTpkxB//79YW9vDxsbG+zatQsTJkzQdIhEr+zFJVGJVE3rVU42MDBgwk3UgD148ACDBw9Gu3bt8PbbbyMzMxMAMHXqVCxYsEDD0RHVHa6urkhISMDgwYPRokULNGvWDM2aNUPTpk3RrFkzTYdHVGM5OTnCHB6GhobIyckBALz55ps4efKkJkMjemU7duxA586doaenBz09PXTp0gX/+9//NB0WNUBK93QT0evDx8cHurq6uH37ttwarGPHjoWvry/HPBH9fydOnNB0CERq0bp1a9y4cQPW1tZwcHDAvn370KtXLxw5ckRure6qnDx5Ep9//jkSExORmZmJqKgoufG0np6e2L59u9w5bm5uiImJUeGdEMnbvHkzVqxYgdmzZwsTp506dQozZszA/fv34ePjo+EIa+5JXo6mQ6j3VP0aMukmokodO3YMR48eRatWreTK27Zti1u3bmkoKqK656233tJ0CERqMWXKFJw/fx5vvfUWlixZgnfeeQdbt25FSUkJNm/eXK02CgsL0bVrV3h5eWH06NEV1hk2bBjCw8OFfUkDXAOa6pavvvoKISEhmDRpklD27rvvomPHjli9enW9TrqzzxzVdAj0AibdRFSpwsLCCtdnzcnJ4Qciohfk5uYiNDQUycnJAICOHTvCy8sLRkZGGo6MqOaeTzxcXV1x5coVJCYmwt7eHl26dKlWG+7u7nB3d6+yjkQigbm5+SvFSqSMzMxMYSWm5/Xt21cYTldfmTm7QWxkrOkw6rUneTkq/fJCqaS7pKQEw4YNw7Zt2xTW6SaihiMjIwOWlpbo378/duzYgf/+978Ank0wUlZWhg0bNmDgwIEajpKo7jh37hzc3Nygp6eHXr16AXj26OK6detw7NgxdO/eXcMREimvrKwMEREROHDgAG7evAmRSAQ7Ozu8//776Ny5s0qvFRcXJ8yHMGjQIKxduxYmJiYqvQbR8+zt7bFv3z4sXbpUrnzv3r31Ps8RGxmjkXELTYdBz1Eq6dbV1cWFCxfUFQsR1REdO3ZEUFAQPv/8cwwaNAjnzp3DkydPsGjRIly6dAk5OTk4ffq0psMkqjN8fHzw7rvv4ttvv4WOzrP/WktLSzFt2jTMnz9fZRNO/fvvv1i8eDF+/vlnFBUVwd7eHuHh4XjjjTdU0j5ROZlMhnfffRc//fQTunbtis6dO0MmkyE5ORmenp44cOAADh48qJJrDRs2DKNHj4adnR2uXbuGpUuXwt3dHWfOnIG2tnaF50ilUkilUmE/Pz9fJbHQ62PNmjUYO3YsTp48KYzpPn36NGJjY7Fv3z4NR0cNjdKPl0+cOBGhoaFcm5GoAVu3bh0+/vhjDBs2DJcvX8a2bdtgYGCAgoICjB49Gt7e3rCwsNB0mER1xrlz5+QSbgDQ0dHBokWLVJYQP3z4EP369cPAgQPx888/o3nz5khNTeXs6KQWEREROHnyJGJjYxWebPr1118xatQo7NixQ248bE2NGzdO+Llz587o0qUL2rRpg7i4OAwePLjCcwICArBmzZpXvja9vjw8PPDHH38gMDBQ+ALJ0dERZ8+ehZOTk2aDowZH6aS7tLQUYWFh+OWXX9CjRw80adJE7nh1J9Ugorpr1qxZcHd3x9SpU9GxY0d88803WLZsmabDIqqzDA0Ncfv2bTg4OMiVp6enq2xpzfXr18PKykpusik7OzuVtE30ot27d2Pp0qUVDiUaNGgQlixZgl27dqkk6X5R69atYWpqirS0tEqTbj8/P/j6+gr7+fn5sLKyUnks1PA8/1RE27ZtERwcXGEdQ0PD2gyLGjilk+6LFy8KY9OuXr0qd4wLyhM1HHZ2dvj111+xdetWeHh4wNHRUa4XDwD++usvDUVHVLeMHTsWU6dOxcaNG4WJeU6fPo1PPvkE48ePV8k1Dh8+DDc3N3zwwQeIj49Hy5YtMWvWLEyfPl0l7RM978KFC9iwYUOlx93d3fHll1+q5dp37tzBgwcPqnyiSiKRcEJPqpGmTZtWK2d5+vRpLURDrwulk+6GuBbpi+tDGhsbo2fPntiwYYMwM6dIJFJYV/LEiRP4/PPP8ccff+Dx48ewtbWFu7s7fH190bJlS8TFxWHgwIF4+PChsJalTCbDt99+i9DQUFy6dAk6Ojqwt7fHxIkT8dFHH6Fx48ZYvXo1Dh48iKSkpArjdXFxQXx8vEL5xx9/jD59+mDKlClV3u+NGzdga2uLM2fO4M0338SwYcPw448/Kvei0Wvh1q1bOHDgAJo1a4aRI0cqJN1E9MzGjRshEokwadIklJaWQiaTQSwWY+bMmSobjnX9+nWEhITA19cXS5cuxZ9//om5c+dCLBZj8uTJFZ7Dca9UUzk5OTAzM6v0uJmZGR4+fFittgoKCpCWlibs37hxA0lJSTA2NoaxsTHWrFkDDw8PmJub49q1a1i0aBHs7e3h5ub2yvdB9KLncxmZTIa3334b3333HVq2bKnBqKihq/En6LS0NFy7dg0DBgyAnp4eZDJZve7pfn59yKysLCxfvhwjRozA7du3K6z/9ddfY9asWZg8eTJ++OEH2Nra4vbt29ixYwc2bdpU6WP2//nPf3DgwAEsX74cW7duRfPmzXH+/Hls2bIFtra2ckl9VaZPnw5/f3+5ssaNG0NXVxfDhg0TykaPHo1OnTrJ1W3evDkAIDQ0FHPmzEFoaKgwWzVRuW+//RYLFiyAq6srLl26JLxviEiRWCzGF198gYCAAFy7dg0A0KZNmwqX3KupsrIyvPHGG/j0008BAE5OTrh48SK2bdtWadLNca9UU0+fPq3yi1ZtbW2UlpZWq61z587JPaZe/lj45MmTERISggsXLmD79u3Izc2FpaUlhg4div/+97/sySa1eOutt+T2tbW10adPH7Ru3VpDEdHrQOmk+8GDBxgzZgxOnDgBkUiE1NRUtG7dGlOnTkWzZs2wadMmdcSpds+vD2lubo4lS5agf//+uHfvnkKycefOHcydOxdz585FYGCgUG5ra4sBAwYgNze3wmvs27cPu3btwsGDBzFy5Ei58959912leiAaN25c6XqWenp6ws9isbjCugUFBdi7dy/OnTuHrKwsREREKCyZQK+vYcOG4ezZs9i6dataxusRNRReXl7VqhcWFvbK17KwsECHDh3kyhwdHfHDDz9Ueg7HvVJNyWQyeHp6Vpr4Pv8Excu4uLhAJpNVevzoUdWthUtEVBcpnXT7+PhAV1cXt2/fhqOjo1A+duxY+Pr61tuk+3kFBQXYuXMn7O3tK1wjcv/+/cLySRUpf5T8Rbt27UL79u3lEu5yIpEIRkZGrxS3Mvbt2wcHBwe0b98eEydOxPz58+Hn51fl0wp16THFJ0+eIDs7W6Vtlren6nbNzMwgFotV2qa6PX36FBcuXECrVq00HQpRnRYREQEbGxs4OTlVmVSoQr9+/ZCSkiJXdvXqVdjY2FR6Dse9Uk1V9vTE8/ilLBFw8uRJfP7550hMTERmZqbCcFSZTIZVq1bh22+/RW5uLvr164eQkJB6vxY4KUfppPvYsWM4evSowofxtm3b4tatWyoLrLZFR0dDX18fAFBYWAgLCwtER0dDS0tLoW5qaioMDQ2VXjIpNTUV7du3V0m8wcHB+O677+TKvv76a0yYMKFa54eGhmLixIkAnvVq5uXlIT4+Hi4uLpWeU5ceU8zOzsbnn3+ulrZ37Nih0vY++eSTetezdPz4cU2HQFQvzJw5E7t378aNGzcwZcoUTJw4EcbGxmq5lo+PD/r27YtPP/0UY8aMwdmzZ/HNN9/gm2++Ucv16PX2/Cz5RA3dqwyRLSwsRNeuXeHl5YXRo0crHN+wYQO+/PJLbN++HXZ2dlixYgXc3Nxw+fJlNGrU6FXCpnpE6aS7sLCwwjFqOTk59frb9IEDByIkJATAs7VQg4OD4e7ujrNnzyr0ItR0/Loqe0EmTJigsIRTVROePC8lJQVnz55FVFQUgGdryY4dOxahoaFVJt116TFFMzMzfPLJJxq5trKq+/dCRPVPUFAQNm/ejAMHDiAsLAx+fn4YPnw4pk6diqFDh6p0rpOePXsiKioKfn5+8Pf3h52dHbZs2VLtL1uJiAgKiXFxcTFmzJihsAzygQMHqtWeu7s73N3dKzwmk8mwZcsWLF++XHjSdceOHTAzM8PBgwfl1qinhk3ppLt///7YsWMH/vvf/wJ49s1QWVkZNmzYUOFajvVFkyZNYG9vL+x/9913MDIywrfffou1a9fK1W3Xrh3y8vKQmZmpVG93u3btcOXKFZXEa2RkJBevMkJDQ1FaWio3cZpMJoNEIsHWrVsrfcy9Lj2mKBaL613vMRE1TBKJBOPHj8f48eNx69YtREREYNasWSgtLcWlS5eEp6hUYcSIERgxYoTK2iMiet28+Dm3/MlPdbhx4waysrLg6uoqd/3evXvjzJkzFSbddWk4J6mO0kn3hg0bMHjwYJw7d04Y13zp0iXk5OTg9OnT6ohRI0QiEbS0tPD48WOFY++//z6WLFmCDRs2yE2kVi43N7fCcd0ffvghxo0bh0OHDimM65bJZMjPz1f7uO7S0lJhhvWhQ4fKHRs1ahR2796NGTNmqDUGIqKGSktLCyKRCDKZjGu8EhHVQbU5dCIrKwuA4lOPZmZmwrEX1aXhnKQ6SifdnTp1wtWrV7F161YYGBigoKAAo0ePhre3t9JjnOsSqVQqvPkfPnyIrVu3oqCgAO+8845CXSsrKwQGBmL27NnIz8/HpEmTYGtrizt37mDHjh3Q19evcEK5MWPGICoqCuPHj8fy5csxdOhQNG/eHP/88w8CAwMxZ84cYeKFx48fK6zTbWBggDZt2gAAioqKFP6xSiQSNGvWrMr7jI6OxsOHDzF16lSFBN/DwwOhoaFMuomIlCCVSoXHy0+dOoURI0Zg69atGDZsWIXzghAREVWmLg3nJNWp0TrdRkZGCuOJ67uYmBjhSwMDAwM4ODhg//79lY5xnjVrFtq1a4eNGzfivffew+PHj2Fra4sRI0bI/UN5nkgkQmRkJL755huEhYVh3bp10NHRQdu2bTFp0iS4ubkJda9evQonJye58wcPHoxffvkFwLM1lL/99lu5425uboiJianyPkNDQ+Hq6lphj7qHhwc2bNiACxcuoEuXLlW2Q0REz/4v2LNnD6ysrODl5YXdu3fD1NRU02EREVEdUL5kb3Z2tlznZHZ2Nrp161bhOXVpOCepTo2S7ocPHyI0NBTJyckAgA4dOmDKlClqm7FV3SIiIhAREVFlnYomQXN1dZUbo/Giital1NLSwowZM6rsTV69ejVWr15d6fG4uLgqY62q7pEjRyqt26tXL7UveUNE1JBs27YN1tbWaN26NeLj4xEfH19hvepOyENERA2HnZ0dzM3NERsbKyTZ+fn5+OOPPzBz5kzNBke1Sumk++TJk3jnnXdgZGSEN954AwDw5Zdfwt/fH0eOHMGAAQNUHiQREVFdNGnSJJXOUE5ERPVLQUEB0tLShP0bN24gKSkJxsbGsLa2xvz587F27Vq0bdtWWDLM0tJSbi1vaviUTrq9vb0xduxYhISEQFtbGwDw9OlTzJo1C97e3vjnn39UHiQREVFd9LKnpIiIqGE7d+6c3ApO5cNMJ0+ejIiICCxatAiFhYX46KOPkJubizfffBMxMTFco/s1o3TSnZaWhu+//15IuAFAW1sbvr6+2LFjh0qDIyIiIiIiqqsqGk76PJFIBH9/f/j7+9diVFTXKD2tavfu3YWx3M9LTk5G165dVRIUETU8AQEB6NmzJwwMDNCiRQuMGjUKKSkpcnWKi4vh7e0NExMT6Ovrw8PDA9nZ2XJ15s6dix49ekAikVQ6CcnRo0fRp08fGBgYoHnz5vDw8MDNmzfVdGdERERERJWrVtJ94cIFYZs7dy7mzZuHjRs34tSpUzh16hQ2btwIHx8f+Pj4qDteIqqn4uPj4e3tjYSEBBw/fhwlJSUYOnQoCgsLhTo+Pj44cuQI9u/fj/j4eGRkZGD06NEKbXl5eWHs2LEVXufGjRsYOXIkBg0ahKSkJBw9ehT379+vsB0iIiIiInWr1uPl3bp1g0gkknt0YtGiRQr1Pvzww0o/CBPR6+3F5ewiIiLQokULJCYmYsCAAcjLy0NoaCgiIyMxaNAgAEB4eDgcHR2RkJCAPn36AHg2cSMA3Lt3DxcuXFC4TmJiIp4+fYq1a9cKayQvXLgQI0eORElJCXR1ddV5m0REREREcqqVdN+4cUPdcRDRayYvLw8AhKUGExMTUVJSIrcMn4ODA6ytrXHmzBkh6X6ZHj16QEtLC+Hh4fD09ERBQQH+97//wdXVlQk3EREREdW6aiXdNjY26o6DiF4jZWVlmD9/Pvr164dOnToBALKysiAWi9G0aVO5umZmZsjKyqp223Z2djh27BjGjBmDjz/+GE+fPoWzszN++umnSs+RSqWQSqXCfn5+vlL3c7+oTKn6pIivIRERETVUSs9eDgAZGRk4deoU7t69i7Iy+Q9Kc+fOVUlgRNRweXt74+LFizh16pTK287KysL06dMxefJkjB8/Ho8ePcLKlSvx/vvv4/jx4xWuqRwQEIA1a9bU+JqHkotfJWQiIiIiasCUTrojIiLw8ccfQywWw8TERO4DrEgkYtJNRFWaPXs2oqOjcfLkSbRq1UooNzc3x5MnT5CbmyvX252dnQ1zc/Nqtx8UFAQjIyNs2LBBKNu5cyesrKzwxx9/VPiYup+fn7CuJvCsp9vKyqra1xzp2AimjZVeDIKec7+ojF9eEBERUYOkdNK9YsUKrFy5En5+fsIkRURELyOTyTBnzhxERUUhLi4OdnZ2csd79OgBXV1dxMbGwsPDAwCQkpKC27dvw9nZudrXKSoqUvjdpK2tDQAKT+aUk0gkkEgkytyOHNPGWrAw0K7x+URERETUcCmddBcVFWHcuHFMuIlIKd7e3oiMjMShQ4dgYGAgjNM2MjKCnp4ejIyMMHXqVPj6+sLY2BiGhoaYM2cOnJ2d5Xqn09LSUFBQgKysLDx+/BhJSUkAgA4dOkAsFmP48OEIDAyEv7+/8Hj50qVLYWNjAycnJ03cOhERERG9xpTOnKdOnYr9+/erIxYiasBCQkKQl5cHFxcXWFhYCNvevXuFOoGBgRgxYgQ8PDwwYMAAmJub48CBA3LtTJs2DU5OTvj6669x9epVODk5wcnJCRkZGQCAQYMGITIyEgcPHoSTkxOGDRsGiUSCmJgY6Onp1eo9ExEREREp3dMdEBCAESNGICYmBp07d1ZYgmfz5s0qC46IGg6ZTPbSOo0aNUJQUBCCgoIqrRMXF/fSdsaNG4dx48YpEx4RERERkVrUKOk+evQo2rdvDwAKE6kRERERERER0TNKJ92bNm1CWFgYPD091RAOERERERERUcOh9JhuiUSCfv36qSMWIiIiIiIiogZF6aR73rx5+Oqrr9QRCxEREREREVGDovTj5WfPnsWvv/6K6OhodOzYUWEitRdnGiYiIiIiIiJ6XSmddDdt2hSjR49WRyxEREREREREDYrSSXd4eLg64iAiIiIiIiJqcJQe001ERERERERE1aN0T7ednV2V63Ffv379lQIiIiIiIiIiaiiUTrrnz58vt19SUoK///4bMTEx+OSTT1QVFxEREREREVG9p3TSPW/evArLg4KCcO7cuVcOiIiIiIiIiKihUNmYbnd3d/zwww+qak7lPD09IRKJIBKJIBaLYW9vD39/f5SWlgp13NzcoK2tjT///FPh/Hv37mHmzJmwtraGRCKBubk53NzccPr0aYW6Z86cgba2NoYPH65w7ObNmxCJREhKSpLbr2hLSEgAAERERAhlWlpasLCwwNixY3H79m2F9i9duoQxY8agefPmkEgkaNeuHVauXImioiK5eufPn8e7776LFi1aoFGjRrC1tcXYsWNx9+5dpV7XhqKoqAibN2/GypUrsXnzZoXXi4iIiIiIqCaU7umuzPfffw9jY2NVNacWw4YNQ3h4OKRSKX766Sd4e3tDV1cXfn5+uH37Nn7//XfMnj0bYWFh6Nmzp9y5Hh4eePLkCbZv347WrVsjOzsbsbGxePDggcJ1QkNDMWfOHISGhiIjIwOWlpYvje2XX35Bx44d5cpMTEyEnw0NDZGSkgKZTIYbN25g1qxZ+OCDD/DHH38IdRISEuDq6gpXV1f8+OOPMDMzw9mzZ7FgwQLExsbixIkTEIvFuHfvHgYPHowRI0bg6NGjaNq0KW7evInDhw+jsLBQ2Ze13vP398f9+/eF/dzcXCxZsgSmpqZYuXKlBiMjIiIiIqL6Tumk28nJSW4iNZlMhqysLNy7dw/BwcEqDU7VynuoAWDmzJmIiorC4cOH4efnh/DwcIwYMQIzZ85Enz59sHnzZujp6QF4loT99ttviIuLw1tvvQUAsLGxQa9evRSuUVBQgL179+LcuXPIyspCREQEli5d+tLYTExMhNgqIhKJhOMWFhaYOnUq5s6di/z8fBgaGkImk2Hq1KlwdHTEgQMHoKWlJcTZrl07ODk5ITAwEIsXL8bp06eRl5eH7777Djo6z94CdnZ2GDhwoBKvZsPwfMLt6OiIYcOGISYmBsnJybh//z78/f2ZeBMRERERUY0pnXSPGjVKbl9LSwvNmzeHi4sLHBwcVBVXrdDT08ODBw8gk8kQHh6OoKAgODg4wN7eHt9//z3+85//AAD09fWhr6+PgwcPok+fPpBIJJW2uW/fPjg4OKB9+/aYOHEi5s+fDz8/vypnfFfW3bt3ERUVBW1tbWhrawMAkpKScPnyZURGRgoJd7muXbvC1dUVu3fvxuLFi2Fubo7S0lJERUXh/fffV2ls9UlRUZGQcH/22Wdo3LgxgGdfyBQVFWHJkiW4f/8+ioqKhGNERERERETKUDrpXrVqlTriqFUymQyxsbE4evQo5syZg19++QVFRUVwc3MDAEycOBGhoaFC0q2jo4OIiAhMnz4d27ZtQ/fu3fHWW29h3Lhx6NKli1zboaGhmDhxIoBnj7Pn5eUhPj4eLi4uVcbUt29fhWS5oKBA+DkvLw/6+vqQyWTCeOO5c+eiSZMmAICrV68CeNZbWxFHR0ecOnUKANCnTx8sXboUH374IWbMmIFevXph0KBBmDRpEszMzCqNUSqVQiqVCvv5+flV3lNdt23bNgDPXpsXk+rGjRvDwcEBV65cwbZt2+Dr66uJEImIiIiIqJ5T2URq9UF0dDT09fXRqFEjuLu7Y+zYsVi9ejXCwsIwduxY4VHr8ePH4/Tp07h27ZpwroeHBzIyMnD48GEMGzYMcXFx6N69OyIiIoQ6KSkpOHv2LMaPHw/gWbI+duxYhIaGvjS2vXv3IikpSW57noGBAZKSknDu3Dls2rQJ3bt3x7p16xTakclk1Xot1q1bh6ysLGzbtg0dO3bEtm3b4ODggH/++afScwICAmBkZCRsVlZW1bpWXZWbmwvg2ZcjFRk6dKhcPSIiIiIiImVVO+nW0tISHmeubCtPWuuqgQMHIikpCampqXj8+DG2b98OqVSKqKgoBAcHQ0dHBzo6OmjZsiVKS0sRFhYmd36jRo0wZMgQrFixAr///js8PT3lev5DQ0NRWloKS0tLoa2QkBD88MMPyMvLqzI2Kysr2Nvby23P09LSgr29PRwdHeHr64s+ffpg5syZwvF27doBAJKTkytsPzk5WahTzsTEBB988AE2btyI5ORkWFpaYuPGjZXG6Ofnh7y8PGFLT0+v8p7quqZNmwIAYmJiKjx+7NgxuXpERERERETKqnaWHBUVVemxM2fO4Msvv0RZWZlKglKXJk2aKCSzu3btQqtWrXDw4EG58mPHjmHTpk3w9/cXxk2/qEOHDsJ5paWl2LFjBzZt2iT0kJYbNWoUdu/ejRkzZqjsXpYsWYI2bdrAx8cH3bt3R7du3eDg4IDAwECMGzdO7lH18+fP45dffkFAQECl7YnFYrRp06bK2cslEkmV49nrmxkzZmDJkiVITk5WGLddVFSEK1euCPWIiIiIiIhqotpJ98iRIxXKUlJSsGTJEhw5cgQTJkyAv7+/SoOrDaGhoXj//ffRqVMnuXIrKyv4+fkhJiYGffr0wQcffAAvLy906dIFBgYGOHfuHDZs2CC8LtHR0Xj48CGmTp0KIyMjubY8PDwQGhpaZfL24MEDZGVlyZU1bdoUjRo1qrC+lZUV3nvvPaxcuRLR0dEQiUQIDQ3FkCFD4OHhAT8/P5ibm+OPP/7AggUL4OzsjPnz5wux7tmzB+PGjUO7du0gk8lw5MgR/PTTTwgPD1f2Jay3GjduDFNTU9y/fx9LliyBg4MDhg4dimPHjgkJt6mpKSdRIyIiIiKiGqvRmO6MjAxMnz4dnTt3RmlpKZKSkrB9+3bY2NioOj61SkxMxPnz5+Hh4aFwzMjICIMHD0ZoaCj09fXRu3dvBAYGYsCAAejUqRNWrFiB6dOnY+vWrQCeJe+urq4KCTfwLOk+d+4cLly4IDwN8OKj+K6urrCwsJDbXux9f5GPjw9+/PFHnD17FsCzydgSEhKgra0Nd3d32Nvbw8/PD5MnT8bx48eFXuoOHTqgcePGWLBgAbp164Y+ffpg3759+O6774TJ414XK1euhKmpKQDgypUr+PLLL+USbi4XRkREREREr0KpQdh5eXn49NNP8dVXX6Fbt26IjY1F//791RWbSj0/4Vm5Hj16VDnx2E8//ST8HBAQUOXj2UeOHKn0WK9evYTrJCQkAICw5ratre1LJz/z9PSEp6enQnmfPn0Uzu3cuTO+//77Kttr3bo1vvnmmyrrvE5WrlyJoqIibNu2Dbm5uWjatClmzJjBHm4iIiIiInpl1e7p3rBhA1q3bo3o6Gjs3r0bv//+e71JuOuC0tJSpKWl4fPPP0fXrl2F3lWqGxo3bgxfX1/4+/vD19eXCTcREZGKnDx5Eu+88w4sLS0hEokUnuSTyWRYuXIlLCwsoKenB1dXV6SmpmomWCIiNah2T/eSJUugp6cHe3t7bN++Hdu3b6+w3oEDB1QWXENy8eJF9O3bF926dcOOHTs0HQ4RERFRrSgsLETXrl3h5eWF0aNHKxzfsGEDvvzyS2zfvh12dnZYsWIF3NzccPny5UrntiEiqk+qnXRPmjQJIpFInbE0aN26dUNRUZGmwyAiIiKqVe7u7nB3d6/wmEwmw5YtW7B8+XJhctodO3bAzMwMBw8exLhx42ozVCIitah20l3RmGgiIiIiopq6ceMGsrKy4OrqKpQZGRmhd+/eOHPmDJNuImoQlJpIjYiIiIhIVcqXSzUzM5MrNzMzU1hK9XlSqRRSqVTYz8/PV0+AREQqUKMlw4iIiIiINCUgIABGRkbCZmVlpemQiIgqxaSbiIiIiDSifAnV7OxsufLs7GzhWEX8/PyQl5cnbOnp6WqNk4joVTDpJiIiIiKNsLOzg7m5OWJjY4Wy/Px8/PHHH3B2dq70PIlEAkNDQ7mNiKiu4phuIiIiIlKbgoICpKWlCfs3btxAUlISjI2NYW1tjfnz52Pt2rVo27atsGSYpaUlRo0apbmgiYhUiEk3EREREanNuXPnMHDgQGHf19cXADB58mRERERg0aJFKCwsxEcffYTc3Fy8+eabiImJ4RrdRNRg8PFyIiKieuizzz6DSCTC/PnzNR0KUZVcXFwgk8kUtvLlaEUiEfz9/ZGVlYXi4mL88ssvaNeunWaDJiJSISbdRERE9cyff/6Jr7/+Gl26dNF0KERERPQSTLqJiIjqkYKCAkyYMAHffvstmjVrpulwiIiI6CU4ppuIiKge8fb2xvDhw+Hq6oq1a9dWWVcqlUIqlQr7+fn5Sl2r9OnDGsVI/4evIRERMekmIiKqJ/bs2YO//voLf/75Z7XqBwQEYM2aNUpfx8DAALq6Yjx8fELpc0mRrq4YBgYGmg6DiIg0hEk3ERFRPZCeno558+bh+PHj1Z7V2c/PT5gpGnjW021lZfXS80xNTbFp00Y8evSoxvHWhn///RfBwcGYNWsWWrZsqelwKmVgYABTU1NNh0EvyOLs6K+Erx9R9THpJiIiqgcSExNx9+5ddO/eXSh7+vQpTp48ia1bt0IqlUJbW1vuHIlEAolEUqPrmZqa1ptEsWXLlrCzs9N0GFRPGBoaQqKri/9V4wsoqppEVxeGhoaaDoOozmPSTUREVA8MHjwY//zzj1zZlClT4ODggMWLFysk3ERUsebNmyN42zal5zioTenp6di8eTN8fX2r9XSKphgaGqJ58+aaDoNe8CQvR9Mh1Huqfg2ZdBMREdUDBgYG6NSpk1xZkyZNYGJiolBORFVr3rx5vUgWrays0KZNG02HQfWEvr4+dHV1kX3mqKZDaRB0dXWhr6+vkraYdBMREREREdVzzZo1w9KlS1FQUKDpUCqVnZ2NnTt3YuLEiTAzM9N0OFXS19dX2dKcTLqJiIjqqbi4OE2HQEREdUizZs1Uliiqk5mZWZ0eOqFqWpoOgIiIiIiIiKihYtJNREREREREpCZMuomIiIiIiIjUhEk3ERERERERkZow6SYiIiIiIiJSEybdtczT0xMikQgzZsxQOObt7Q2RSARPT0+hLD09HV5eXrC0tIRYLIaNjQ3mzZuHBw8eAHg27b6uri727NlT4fWmTp2K7t27AwBWr16Nbt26Ccde3H+dlZaW4sSJE9i/fz9OnDiB0tJSTYdEREREREQNAJNuDbCyssKePXvw+PFjoay4uBiRkZGwtrYWyq5fv4433ngDqamp2L17N9LS0rBt2zbExsbC2dkZOTk5MDMzw/DhwxEWFqZwncLCQuzbtw9Tp06tlfuqrw4dOoSFCxciKioKv/32G6KiorBw4UIcOnRI06EREREREVE9x6RbA7p37w4rKyscOHBAKDtw4ACsra3h5OQklHl7e0MsFuPYsWN46623YG1tDXd3d/zyyy/4999/sWzZMgDPerNjY2Nx+/Ztuevs378fpaWlmDBhQu3cWD106NAhxMbGokmTJhg3bhzWrl2LcePGoUmTJoiNjWXiTUREREQ1tnr1aohEIrnNwcFB02FRLWPSrSFeXl4IDw8X9sPCwjBlyhRhPycnB0ePHsWsWbOgp6cnd665uTkmTJiAvXv3QiaT4e2334aZmRkiIiLk6oWHh2P06NFo2rSpOm+l3ip/pNzAwABr1qxB3759YWhoiL59+2LNmjUwMDDgo+ZERERE9Eo6duyIzMxMYTt16pSmQ6JaxqRbQyZOnIhTp07h1q1buHXrFk6fPo2JEycKx1NTUyGTyeDo6Fjh+Y6Ojnj48CHu3bsHbW1tTJ48GREREZDJZACAa9eu4bfffoOXl5fKYpZKpcjPz5fb6rPffvsNZWVlGD58OHR0dOSO6ejo4O2330ZZWRl+++03DUVIRERERPWdjo4OzM3Nhc3U1FTTIVEtY9KtIc2bN8fw4cMRERGB8PBwDB8+vMJ/gOVJ9Mt4eXnhxo0bOHHiBIBnvdy2trYYNGiQymIOCAiAkZGRsFlZWamsbU24f/8+AKBTp04VHu/YsaNcPSIiIiIiZaWmpsLS0hKtW7fGhAkTFIaEPq+hdXLRM0y6NcjLywsRERHYvn27Qo+0vb09RCIRkpOTKzw3OTkZzZo1Q/PmzQEAbdu2Rf/+/REeHo6ysjLs2LEDU6ZMgUgkUlm8fn5+yMvLE7b09HSVta0J5V9yXLx4scLjly5dkqtHRERERKSM3r17IyIiAjExMQgJCcGNGzfQv39/PHr0qML6Da2Ti55h0q1Bw4YNw5MnT1BSUgI3Nze5YyYmJhgyZAiCg4PlZjkHgKysLOzatQtjx46VS6qnTp2KH374AT/88AP+/fdfuaXHVEEikcDQ0FBuq8/69+8PLS0t/PjjjwrjtktLS/HTTz9BS0sL/fv311CERERERFSfubu744MPPkCXLl3g5uaGn376Cbm5udi3b1+F9RtaJxc9w6Rbg7S1tZGcnIzLly9DW1tb4fjWrVshlUrh5uaGkydPIj09HTExMRgyZAhatmyJdevWydX/4IMPoKuri48//hhDhw6t1jdjjx8/RlJSktx27do1ld1jXaajo4OBAwfi0aNHWLVqFU6fPo3c3FycPn0aq1atwqNHjzBw4ECF8d5UMwEBAejZsycMDAzQokULjBo1CikpKXJ1iouL4e3tDRMTE+jr68PDwwPZ2dlydebOnYsePXpAIpFUuM58RbOEikQiNGnSRJ23R0RERPRSTZs2Rbt27ZCWllbh8YbWyUXPMOnWsKr+MbVt2xbnzp1D69atMWbMGLRp0wYfffQRBg4ciDNnzsDY2FiufuPGjTFu3Dg8fPiw2hOoXb16FU5OTnLbxx9//Mr3VV+MHDkSgwcPRmFhIfbu3YuVK1di7969KCwsxODBgzFy5EhNh9hgxMfHw9vbGwkJCTh+/DhKSkowdOhQFBYWCnV8fHxw5MgR7N+/H/Hx8cjIyMDo0aMV2vLy8sLYsWMrvM7ChQvlZgjNzMxEhw4d8MEHH6jt3oiIiIiqo6CgANeuXYOFhYWmQ6FaxC68Wvbisl4vOnjwoNy+jY3NS8953tdff42vv/66wmOrV6/G6tWrK91/XY0cORLDhw/Hb7/9hvv378PU1BT9+/dnD7eKxcTEyO1HRESgRYsWSExMxIABA5CXl4fQ0FBERkYKEwCGh4fD0dERCQkJ6NOnDwDgyy+/BADcu3cPFy5cULiOvr4+9PX1hf3z58/j8uXL2LZtm7pujYiIiKhCCxcuxDvvvAMbGxtkZGRg1apV0NbWxvjx4zUdGtUiZhVE+L9Hzan25OXlAYDwxEZiYiJKSkrg6uoq1HFwcIC1tTXOnDkjJN3K+u6779CuXbsqx+ZLpVJIpVJhX9mZQu8XldUoNvo/fA2JiKghunPnDsaPH48HDx6gefPmePPNN5GQkCBMhkyvBybdRFTrysrKMH/+fPTr109Ysi0rKwtisRhNmzaVq2tmZoasrKwaXae4uBi7du3CkiVLqqwXEBCANWvWKN2+vr4+xLq6OJRcXKP4SJ5YV1fuKQUiIqL6bs+ePZoOgeoAJt1EVOu8vb1x8eJFnDp1Sq3XiYqKwqNHjzB58uQq6/n5+cHX11fYz8/Pr9ZEhMbGxljj74+CgoJXjlWdMjMzERYWBi8vrzo9hkxfX19hrgoiIiKi+o5JNxHVqtmzZyM6OhonT55Eq1athHJzc3M8efIEubm5cr3d2dnZMDc3r9G1vvvuO4wYMQJmZmZV1pNIJJBIJDW6hrGxcb1JFC0sLGBtba3pMIiIiIheK5y9nIhqhUwmw+zZsxEVFYVff/0VdnZ2csd79OgBXV1dxMbGCmUpKSm4ffs2nJ2dlb7ejRs3cOLECUydOvWVYyciIiIiqin2dBNRrfD29kZkZCQOHToEAwMDYZy2kZER9PT0YGRkhKlTp8LX1xfGxsYwNDTEnDlz4OzsLDeJWlpaGgoKCpCVlSWsMw8AHTp0gFgsFuqFhYXBwsIC7u7utXqfRERERETPY9JNRLUiJCQEAODi4iJXHh4eDk9PTwBAYGAgtLS04OHhAalUCjc3NwQHB8vVnzZtGuLj44V9JycnAM96tm1tbQE8m6gtIiICnp6e0NbWVs8NERERERFVA5NuIqoVMpnspXUaNWqEoKAgBAUFVVonLi7upe1oaWkhPT1dmfCIiIiIiNSCY7qJiIiIiIiI1IRJNxEREREREZGaMOkmIiIiIiIiUhMm3URERERERERqwqSbiIiIiIiISE2YdBMRERERERGpCZNuIiIiIiIiIjVh0k1ERERERESkJky6iYiIiIiIiNSESTcRERERERGRmjDpJiIiIiIiIlITJt1EREREpFGrV6+GSCSS2xwcHDQdFhGRSuhoOgAiIiIioo4dO+KXX34R9nV0+DGViBoG/jYjIiIiIo3T0dGBubm5psMgIlI5Pl5ORERERBqXmpoKS0tLtG7dGhMmTMDt27crrSuVSpGfny+3ERHVVUy6iYiIiEijevfujYiICMTExCAkJAQ3btxA//798ejRowrrBwQEwMjISNisrKxqOWIioupj0k1EREREGuXu7o4PPvgAXbp0gZubG3766Sfk5uZi3759Fdb38/NDXl6esKWnp9dyxERE1ccx3URERERUpzRt2hTt2rVDWlpahcclEgkkEkktR0VEVDMNrqc7PT0dXl5esLS0hFgsho2NDebNm4cHDx7I1XNxcZFblsLMzAwffPABbt26JdS5efMmRCIRkpKS5PYr2hISEhTafHFzcXER2v7999/x9ttvo1mzZmjUqBE6d+6MzZs34+nTp1Xen6enZ4Vtl/+n5OnpiVGjRsnVf35fmdfodVJWVobU1FQkJiYiNTUVZWVlmg6JiIjotVVQUIBr167BwsJC06EQEb2yBtXTff36dTg7O6Ndu3bYvXs37OzscOnSJXzyySf4+eefkZCQAGNjY6H+9OnT4e/vD5lMhlu3bmH+/PmYOHEifvvttyqv88svv6Bjx45yZSYmJjhw4ACePHkC4Fli26tXL7m6YrEYABAVFYUxY8ZgypQpOHHiBJo2bYpffvkFixYtwpkzZ7Bv3z6IRKJKrz9s2DCEh4fLlTVv3lwtr9Hr4Pz584iKikJOTo5QZmxsjPfeew9du3bVYGRERESvh4ULF+Kdd96BjY0NMjIysGrVKmhra2P8+PGaDo2I6JU1qKTb29sbYrEYx44dg56eHgDA2toaTk5OaNOmDZYtW4aQkBChfuPGjYWlKSwsLDB79mx8/PHHL72OiYlJhUtaPJ+sFhcXV1i3sLAQ06dPx7vvvotvvvlGKJ82bRrMzMzw7rvvYt++fRg7dmyl15dIJDVeUkPZ16ihO3/+PMLCwtCxY0dMnjwZlpaWyMjIwPHjxxEWFgYvLy8m3kRERGp2584djB8/Hg8ePEDz5s3x5ptvIiEhodqdCkREdVmDebw8JycHR48exaxZs4Rkspy5uTkmTJiAvXv3QiaTVXr+vn370Lt3b7XGeezYMTx48AALFy5UOPbOO+8IPdDq8KqvUUNTVlaGqKgodOzYEdOmTYOdnR0kEgns7Owwbdo0dOzYEQcPHuSj5kRERGq2Z88eZGRkQCqV4s6dO9izZw/atGmj6bCIiFSiwSTdqampkMlkcHR0rPC4o6MjHj58iHv37gllwcHB0NfXR5MmTWBiYoKUlBSEhYW99Fp9+/aFvr6+3FZdV69eFeKpiIODg1CnMtHR0XLX/uCDD6p17Zq8Rs9raGtiXrt2DTk5ORgyZAi0tOT/KWhpaWHIkCF48OABrl27pqEIiYiIiIiovmtQj5cDUKqXdsKECVi2bBkAIDs7G59++imGDh2KxMREGBgYVHre3r17K01c1RHniwYOHCj3CHiTJk1q5doBAQFYs2ZNjc6ti8q/NLC0tKzwePnkLfX9ywUiIiIiItKcBtPTbW9vD5FIhOTk5AqPJycno1mzZnJjg4yMjGBvbw97e3v069cPoaGhSE1Nxd69e6u8lpWVlXBe+VZd7dq1E+KpLM7yOpVp0qSJ3LWrO7NnTV6j5zW0NTENDQ0BABkZGRUez8zMlKtHRERERESkrAaTdJuYmGDIkCEIDg7G48eP5Y5lZWVh165dGDt2bJWzgmtrawOAwvmqNHToUBgbG2PTpk0Kxw4fPozU1FS1zdT5qq+RRCKBoaGh3FaftWnTBsbGxjh+/LjCuO2ysjIcP34cJiYmHFNGRHVGQEAAevbsCQMDA7Ro0QKjRo1CSkqKpsMiIiKiKjSYpBsAtm7dCqlUCjc3N5w8eRLp6emIiYnBkCFD0LJlS6xbt06uflFREbKyspCVlYXz589j5syZaNSoEYYOHVrldR48eCCcV76Vz1b+Mk2aNMHXX3+NQ4cO4aOPPsKFCxdw8+ZNhIaGwtPTE++//z7GjBlT49fgZZR9jRoyLS0tvPfee7h06RK+++473LhxA8XFxbhx4wa+++47XLp0CaNGjVIY701EpCnx8fHw9vZGQkICjh8/jpKSEgwdOhSFhYWaDo2IiIgq0aDGdLdt2xbnzp3DqlWrMGbMGOTk5MDc3ByjRo3CqlWrFNaf/vbbb/Htt98CAJo1a4YuXbrgp59+Qvv27QFA6P3U0ZF/mVxdXRWuvXv3bowbN65acb7//vs4ceIE1q1bh/79+6O4uBht27bFsmXLMH/+/Cp745VVVlYmF7+yr1FD17VrV3h5eSEqKgqBgYFCuYmJCZcLI6I6JyYmRm4/IiICLVq0QGJiIgYMGKChqIiIiKgqDSrpBgAbGxtERES8tF5cXNxL69y9excAhDWxbW1tqz0J2cvq9u/fX+HDU3W87N5ePH737l2FMefVfY1eF127dkXnzp1x7do15Ofnw9DQEG3atGEPNxHVeXl5eQBQ6RemUqkUUqlU2OfEkERERLWvwSXdqlBaWoqbN2/i888/R9euXWFqaqrpkJT28OFDnD59GnFxcZgxY4amw6nztLS00LZtW02HQURUbWVlZZg/fz769euHTp06VVinoa06QUREVB+xK68CFy9eRJcuXZCZmYkdO3ZoOpwa8fLywowZM7BgwQKMHDlS0+EQEZGKeXt74+LFi9izZ0+ldRraqhNERET1EXu6K9CtWzcUFRVpOoxXEhUVpekQiIhITWbPno3o6GicPHkSrVq1qrSeRCKBRCKpxciIiIjoRUy6iYiI6gmZTIY5c+YgKioKcXFxsLOz03RIRERE9BJMuomIiOoJb29vREZG4tChQzAwMEBWVhYAwMjICHp6ehqOjoiIiCrCMd1ERET1REhICPLy8uDi4gILCwth27t3r6ZDIyIiokqwp5uIiKieqO6ylURERFR3sKebiIiIiIiISE2YdBMRERERERGpCZNuIiIiIiIiIjVh0k1ERERERESkJky6iYiIiIiIiNSESTcRERERERGRmjDpJiIiIiIiIlITJt1EREREREREasKkm4iIiIiIiEhNmHQTERERERERqQmTbiIiIiIiIiI1YdJNREREREREpCZMuomIiIiIiIjUhEk3ERERERERkZow6SYiIiIiIiJSEybdRERERERERGrCpJuIiIiIiIhITZh0ExEREREREakJk24iIiIiIiIiNdFo0u3p6QmRSASRSASxWAx7e3v4+/ujtLQUcXFxwrEXt6ysLLl27ty5A7FYjE6dOgllq1evrvT88q1ceno6vLy8YGlpCbFYDBsbG8ybNw8PHjyQu46LiwtEIhH27NkjV75lyxbY2tpW654jIiIgEong6OiocGz//v0QiUQKbT1+/BirVq1Cu3btIJFIYGpqig8++ACXLl0S6tja2lZ5r56enkLd6OhovPXWWzAwMEDjxo3Rs2dPREREVCv+hqqsrAypqalITExEamoqysrKNB1SgxMQEICePXvCwMAALVq0wKhRo5CSkiJXp7i4GN7e3jAxMYG+vj48PDyQnZ0tV2fu3Lno0aMHJBIJunXrVuG1ZDIZNm7cKPybadmyJdatW6euWyMiIiKqUlBQEGxtbdGoUSP07t0bZ8+e1XRIVIs03tM9bNgwZGZmIjU1FQsWLMDq1avx+eefC8dTUlKQmZkpt7Vo0UKujYiICIwZMwb5+fn4448/AAALFy6UO6dVq1bw9/eXKwOA69ev44033kBqaip2796NtLQ0bNu2DbGxsXB2dkZOTo7ctRo1aoTly5ejpKSkxvfcpEkT3L17F2fOnJErDw0NhbW1tVyZVCqFq6srwsLCsHbtWly9ehU//fQTSktL0bt3byQkJAAA/vzzT+G+fvjhB4XX7osvvgAAfPXVVxg5ciT69euHP/74AxcuXMC4ceMwY8YMLFy4sMb3VJ+dP38e/v7++Oqrr7B9+3Z89dVX8Pf3x/nz5zUdWoMSHx8Pb29vJCQk4Pjx4ygpKcHQoUNRWFgo1PHx8cGRI0ewf/9+xMfHIyMjA6NHj1Zoy8vLC2PHjq30WvPmzcN3332HjRs34sqVKzh8+DB69eqllvsiIiIiqsrevXvh6+uLVatW4a+//kLXrl3h5uaGu3fvajo0qi0yDZo8ebJs5MiRcmVDhgyR9enTR3bixAkZANnDhw+rbKOsrEzWunVrWUxMjGzx4sWy6dOnV1jPxsZGFhgYqFA+bNgwWatWrWRFRUVy5ZmZmbLGjRvLZsyYIZS99dZbsilTpshMTExkQUFBQnlgYKDMxsamyjjLhYeHy4yMjGSzZ8+WTZs2TShPT0+XSSQS2ZIlS+Ta+uyzz2QikUiWlJQk187Tp09lb7zxhqxDhw6ysrIyuWOVvXa3b9+W6erqynx9fRXi+vLLL2UAZAkJCdW6D5lMJsvLy5MBkOXl5VX7nLomKSlJNnfuXNnXX38tu379uqy4uFh2/fp12ddffy2bO3euwuteX9SHv5u7d+/KAMji4+NlMplMlpubK9PV1ZXt379fqJOcnCwDIDtz5ozC+atWrZJ17dpVofzy5csyHR0d2ZUrV2ocW314/ZRx69Yt2UcffSS7deuWpkNRiYb291ObGtprd/36ddn48eNl169f13QoKtHQ/n5qU0N77dLS0mTvvPOOLC0tTdOhqERD+/tRVq9evWTe3t7C/tOnT2WWlpaygICAl57b0F6727dvy+bNmye7ffu2pkNRier+/Wi8p/tFenp6ePLkSbXrnzhxAkVFRXB1dcXEiROxZ88euZ6zquTk5ODo0aOYNWsW9PT05I6Zm5tjwoQJ2Lt3L2QymVBuaGiIZcuWwd/fv9rXqYiXlxf27duHoqIiAM9664cNGwYzMzO5epGRkRgyZAi6du0qV66lpQUfHx9cvny52j2y33//PUpKSirs0f7444+hr6+P3bt31/CO6p+ysjJERUWhY8eOmDZtGuzs7CCRSGBnZ4dp06ahY8eOOHjwIB81V5O8vDwAgLGxMQAgMTERJSUlcHV1Feo4ODjA2tpa4amQqhw5cgStW7dGdHQ07OzsYGtri2nTpik8tUJERESkbk+ePEFiYqLc5xstLS24uroq9fmG6jcdTQdQTiaTITY2FkePHsWcOXOE8latWsnVs7GxkRvLHBoainHjxkFbWxudOnVC69atsX//frkxzJVJTU2FTCarcHw1ADg6OuLhw4e4d++e3CPts2bNwhdffIHNmzdjxYoVSt7pM05OTmjdujW+//57/Oc//0FERAQ2b96M69evy9W7evUqBg4cWGl85XUqG9v6YltGRkawsLBQOCYWi9G6dWtcvXq10vOlUimkUqmwn5+f/9Jr1mXXrl1DTk4OJk+eDC0t+e+ftLS0MGTIEAQGBuLatWto27athqJsmMrKyjB//nz069dPmIshKysLYrEYTZs2latrZmamMI9DVa5fv45bt25h//792LFjB54+fQofHx+8//77+PXXXys8py69t588eaLU/VZH+XCa8j9VxdzcHGKxWKVtUsMllUqRkZGh0jb//fdfuT9VydLSEhKJROXtUsMjlUpx584dlbaZnp4u96cqtWrViu/tWnT//n08ffpUoWPNzMwMV65cUahf1z6TvDi3zqsqb0/V7QLPXtO6+rlE40l3dHQ09PX1UVJSgrKyMnz44YdYvXo1/vzzTwDAb7/9BgMDA6G+rq6u8HNubi4OHDiAU6dOCWUTJ05EaGhotZLucs/3ZFeHRCKBv78/5syZg5kzZyp17vO8vLwQHh4Oa2trFBYW4u2338bWrVtfOT51CQgIwJo1azQdhsqU/xKztLSs8Hj5lxP1/cuFusjb2xsXL16U+7erKmVlZZBKpdixYwfatWsH4NmXcz169EBKSgrat2+vcE5dem9nZWWpbdK3sLAwlba3bNkyhXkoiCqTkZGBZcuWqaXt4OBglbe5bt062NnZqbxdanju3LkDHx8ftbS9efNmlbcZGBiINm3aqLxdUo269JkkOzsbmzZtUkvbO3fuVHmbCxYsgJWVlcrbVQWNJ90DBw5ESEgIxGIxLC0toaMjH5KdnZ1Cz1e5yMhIFBcXo3fv3kKZTCZDWVkZrl69Knzgroy9vT1EIhGSk5Px3nvvKRxPTk5Gs2bN0Lx5c4VjEydOxMaNG7F27dpqz1z+ogkTJmDRokVYvXo1/vOf/yjcOwC0a9cOycnJFZ5fXv6y+3y+rby8PGRkZCgkmk+ePMG1a9cq7VUHAD8/P/j6+gr7+fn5dfaNXR2GhoYAnn0QrOiDVXmvYHk9Uo3Zs2cjOjoaJ0+elHuSxdzcHE+ePEFubq7cv/ns7GyYm5tXu30LCwvo6OjI/bsofyrk9u3bFSbddem9bW5urrbERNWU+XshsrS0rFerCFT2hSzRi1q1aoXAwEBNh1FtLz5FSuplamoKbW1thZ7dyj7f1KXPJGZmZliwYIFGrl0TLz5NUJdoPOlu0qQJ7O3ta3RuaGgoFixYoNCrPWvWLISFheGzzz6r8nwTExMMGTIEwcHB8PHxkRvXnZWVhV27dmHSpElyy4uV09LSQkBAAEaPHl3j3m5jY2O8++672LdvH7Zt21ZhnXHjxmHZsmU4f/683LjusrIyBAYGokOHDgrjvSvj4eGB/9fe/YU01cdxHP+4yBmlgwySwJJEiAy0FpoFUaBIRKEIiVehGRFNqAWVBe6uKMoMCo3sj5BBdOFFJIKsfzdGpe1G9CKRHIT/CJxImbo9Fz2Ox8f5qNM9O5vvF5yLnZ0zfzvnM9n3nN/vt4sXL+rWrVuzrlrV1dVpbGxMJSUlc+5vNpujqjtSamqq1q9fr9bWVpWXl8/oYu71etXa2qrExESuBi8Tn8+niooKNTU16e3bt7MudFitVq1evVpOp1NFRUWS/szA39fXp5ycnAX/nX379mlyclI9PT3+czc9bGLLli0B9zFStmNjY7l7jKg0PWcGEG3MZjPfFTCn2NhYWa1WOZ1OFRQUSPrzPdPpdMpms83a3mjfSSL5BpuRGG4itX8bHBxUf3//jGViYkIul0sdHR0qLy/Xjh07ZiwlJSVqaGjQ5OTkvK9/9+5djY+PKz8/X+/fv5fb7VZLS4vy8vLm/W3fw4cPKzs7W/fv3w/6/T158kTDw8Patm1bwOfPnTunrKwsHTlyRC9evFBfX58+ffqkoqIidXV16eHDhwEvCgSyefNm3bhxQzU1Nbpy5Yq6u7vV09Oj6upqXbhwQefPn5/RayDamUwmFRYWqrOzU/X19ert7dWvX7/U29ur+vp6dXZ2qqCgYNZ4bwTnzJkzevr0qZ49e6b4+Hj/5/nnz5+SJIvFohMnTshut+vNmzdqb29XaWmpcnJytGfPHv/rfP36VS6Xy7+vy+WSy+XyT8CYm5urXbt2qaysTF++fFF7e7tOnTqlvLy8BfcKAQAAWC52u10PHjxQQ0ODurq6dPr0aY2Njam0tDTcTcP/JOx3uucTqCtoW1ubGhsbtX379oDFamFhoWw2m5qbm3X06NH/fP20tDR9/vxZDodDx44d048fP5SUlKSCggI5HA7/zMpzuX79uvbu3bu4N/UPa9asmTVz+j/FxcXp9evXunr1qi5fvqxv374pPj5eBw8e1IcPH/yTUC3U2bNntXXrVt28eVN37tzR1NSU0tPTVVtbuyI/+BkZGSorK1NTU9OMrmGJiYkqKytbcC8CzK+2tlaSdODAgRnrHz9+7O+tcvv2bZlMJhUVFfkvhv17rGZ5ebnevXvnf7xz505JUm9vr1JSUmQymfTy5UtVVFRo//79Wrt2rQ4dOhSyMUkAAAD/pbi4WENDQ6qqqlJ/f78yMzPV0tJi6O7QWF4xPqPM0oWI4/F4ZLFYNDIyEvHjnr1er3p6euTxeJSQkKDU1NSIvsMdTecmHDh+xsb5CR7Hztg4P8Hj2Bkb5yd4HDtjW+j5idyqAlhGJpNJaWlpslqtSktLi+iCGwCASHXv3j2lpKQoLi5O2dnZ+vjxY7ibBABLRmWxzNLT07Vu3bqAS2NjY7ibBwAAYEjPnz+X3W6Xw+FQR0eHMjIylJ+fr8HBwXA3DQCWxPBjuiNNc3OzJiYmAj7HuA0AAIDAqqurdfLkSf8cM3V1dXr16pUePXqkS5cuhbl1ABA8iu5lNtdPEgEAACCw379/q729XZWVlf51JpNJubm5amtrC2PLAGDpKLoBAAAQVsPDw5qamprVK3Djxo3q7u6etf34+LjGx8f9jz0eT8jbCADBYkw3AAAAIsq1a9dksVj8S3JycribBABzougGAABAWG3YsEGrVq3SwMDAjPUDAwNKSkqatX1lZaVGRkb8i9vt/r+aCgCLRtENAACAsIqNjZXVapXT6fSv83q9cjqdysnJmbW92WxWQkLCjAUAjIox3QAAAAg7u92u48ePa/fu3crKylJNTY3Gxsb8s5kDQKSi6EbQfD6fJCYvMaLpczJ9jrA4ZNvYyHfwyLaxrfRsFxcXa2hoSFVVVerv71dmZqZaWloW9JOrZNvYVnq2l4JsG9tCs03RjaCNjo5KEpOXGNjo6KgsFku4mxFxyHZkIN+LR7Yjw0rOts1mk81mW/R+ZDsyrORsB4tsR4b5sh3j45ITguT1evX9+3fFx8crJiYm3M1ZMo/Ho+TkZLnd7ogfG+bz+TQ6OqpNmzbJZGLqhsUi28ZGvoNHto2NbAePbBsb2Q4e2Ta2hWabohv4m8fjkcVi0cjISFT8EwCmkW1EK7KNaEW2Ea1Wara51AQAAAAAQIhQdAMAAAAAECIU3cDfzGazHA6HzGZzuJsCLCuyjWhFthGtyDai1UrNNmO6AQAAAAAIEe50AwAAAAAQIhTdAAAAAACECEU3AAAAAAAhQtENAAAAAECIUHQDAAAAABAiFN0AAAAAAIQIRTcAAAAAACFC0Q0AAAAAQIj8BVe8wXzII8+jAAAAAElFTkSuQmCC",
      "text/plain": [
       "<Figure size 1000x400 with 5 Axes>"
      ]
     },
     "metadata": {},
     "output_type": "display_data"
    }
   ],
   "source": [
    "plt.figure(figsize=(10, 4))\n",
    "\n",
    "\n",
    "plt.subplot(1, 5, 1) \n",
    "sns.boxplot(data=kills, y='VICTIMA', color = \"#FA8072\")\n",
    "plt.ylabel('Number of Victims')\n",
    "\n",
    "plt.subplot(1, 5, 2) \n",
    "sns.boxplot(data=kills, y='AAAA', color = \"#F4A460\")\n",
    "plt.ylabel('Years')\n",
    "\n",
    "plt.subplot(1, 5, 3) \n",
    "sns.boxplot(data=kills, y='MM', color = \"#6A5ACD\")\n",
    "plt.ylabel('Months')\n",
    "\n",
    "plt.subplot(1, 5, 4) \n",
    "sns.boxplot(data=kills, y='DD', color = \"red\")\n",
    "plt.ylabel('Days')\n",
    "\n",
    "plt.subplot(1, 5, 5) \n",
    "sns.boxplot(data=kills, y='HH', color = \"#87CEEB\")\n",
    "plt.ylabel('Hours')\n",
    "\n",
    "\n",
    "plt.tight_layout()\n",
    "\n",
    "plt.show()"
   ]
  },
  {
   "cell_type": "markdown",
   "metadata": {},
   "source": [
    "#### Correlations"
   ]
  },
  {
   "cell_type": "code",
<<<<<<< HEAD
   "execution_count": 15,
=======
   "execution_count": 4,
>>>>>>> 7ae54ca0791f86bebaa438af892a7d8d71b77f87
   "metadata": {},
   "outputs": [
    {
     "data": {
<<<<<<< HEAD
      "image/png": "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",
=======
      "image/png": "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",
>>>>>>> 7ae54ca0791f86bebaa438af892a7d8d71b77f87
      "text/plain": [
       "<Figure size 600x500 with 2 Axes>"
      ]
     },
     "metadata": {},
     "output_type": "display_data"
    }
   ],
   "source": [
    "numeric = kills.select_dtypes(include=['number'])  # We pick only columns with numbers\n",
    "corr = numeric.corr().round(2) # We find the correlation\n",
    "\n",
    "# We plot the correlation in a map\n",
    "plt.figure(figsize=(6,5))\n",
    "sns.heatmap(corr, cmap=\"coolwarm\", annot=True)\n",
    "plt.title('Correlation Map - Numeric Variables')\n",
    "plt.show()"
   ]
  },
  {
   "cell_type": "markdown",
   "metadata": {},
   "source": [
    "#### Victims per Month"
   ]
  },
  {
   "cell_type": "code",
<<<<<<< HEAD
   "execution_count": 16,
=======
   "execution_count": 14,
>>>>>>> 7ae54ca0791f86bebaa438af892a7d8d71b77f87
   "metadata": {},
   "outputs": [
    {
     "name": "stderr",
     "output_type": "stream",
     "text": [
<<<<<<< HEAD
      "C:\\Users\\Jhon\\AppData\\Local\\Temp\\ipykernel_7176\\4159914521.py:7: FutureWarning: \n",
=======
      "C:\\Users\\Jhon\\AppData\\Local\\Temp\\ipykernel_6864\\29375497.py:7: FutureWarning: \n",
>>>>>>> 7ae54ca0791f86bebaa438af892a7d8d71b77f87
      "\n",
      "Passing `palette` without assigning `hue` is deprecated and will be removed in v0.14.0. Assign the `x` variable to `hue` and set `legend=False` for the same effect.\n",
      "\n",
      "  ax = sns.barplot(x='MM', y='N_VICTIMAS', data=data, palette=\"winter\")\n"
     ]
    },
    {
     "data": {
      "image/png": "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",
      "text/plain": [
       "<Figure size 1000x400 with 1 Axes>"
      ]
     },
     "metadata": {},
     "output_type": "display_data"
    }
   ],
   "source": [
    "data = kills.groupby(['MM'])['N_VICTIMAS'].sum().reset_index()\n",
    "data[\"MM\"]=data[\"MM\"].astype(\"Int64\")\n",
    "\n",
    "\n",
    "plt.figure(figsize=(10,4))\n",
    "\n",
    "ax = sns.barplot(x='MM', y='N_VICTIMAS', data=data, palette=\"winter\")\n",
    "ax.set_title('Victims per Month')\n",
    "ax.set_xlabel('Month') ; ax.set_ylabel('Quantity of Victims')\n",
    "\n",
    "\n",
    "for p in ax.patches:\n",
    "    ax.annotate(f'{int(p.get_height())}', (p.get_x() + p.get_width() / 2., p.get_height()),\n",
    "                ha='center', va='center', fontsize=8, color='black', xytext=(0, 5),\n",
    "                textcoords='offset points')\n",
    "\n",
    "\n",
    "plt.show()"
   ]
  },
  {
   "cell_type": "markdown",
   "metadata": {},
   "source": [
    "#### Victims Age"
   ]
  },
  {
   "cell_type": "code",
<<<<<<< HEAD
   "execution_count": 17,
   "metadata": {},
   "outputs": [],
   "source": [
    "kills_victims = pd.read_excel('Datasets/kills_victims.xlsx')"
=======
   "execution_count": 4,
   "metadata": {},
   "outputs": [],
   "source": [
    "kills_victims = pd.read_excel('Datasets/homicidios.xlsx', sheet_name = \"VICTIMAS\")"
>>>>>>> 7ae54ca0791f86bebaa438af892a7d8d71b77f87
   ]
  },
  {
   "cell_type": "code",
<<<<<<< HEAD
   "execution_count": 18,
=======
   "execution_count": 5,
>>>>>>> 7ae54ca0791f86bebaa438af892a7d8d71b77f87
   "metadata": {},
   "outputs": [
    {
     "data": {
      "text/plain": [
       "Index(['ID_hecho', 'FECHA', 'AAAA', 'MM', 'DD', 'ROL', 'VICTIMA', 'SEXO',\n",
       "       'EDAD', 'FECHA_FALLECIMIENTO'],\n",
       "      dtype='object')"
      ]
     },
<<<<<<< HEAD
     "execution_count": 18,
=======
     "execution_count": 5,
>>>>>>> 7ae54ca0791f86bebaa438af892a7d8d71b77f87
     "metadata": {},
     "output_type": "execute_result"
    }
   ],
   "source": [
    "kills_victims.columns"
   ]
  },
  {
   "cell_type": "markdown",
   "metadata": {},
   "source": [
    "#### We got an error about a value named 'SD' in the next columns:"
   ]
  },
  {
   "cell_type": "code",
<<<<<<< HEAD
   "execution_count": 19,
=======
   "execution_count": 11,
>>>>>>> 7ae54ca0791f86bebaa438af892a7d8d71b77f87
   "metadata": {},
   "outputs": [
    {
     "data": {
      "text/plain": [
       "Index(['ROL', 'VICTIMA', 'SEXO', 'EDAD', 'FECHA_FALLECIMIENTO'], dtype='object')"
      ]
     },
<<<<<<< HEAD
     "execution_count": 19,
=======
     "execution_count": 11,
>>>>>>> 7ae54ca0791f86bebaa438af892a7d8d71b77f87
     "metadata": {},
     "output_type": "execute_result"
    }
   ],
   "source": [
    "kills_victims.columns[kills_victims.isin(['SD']).any()]"
   ]
  },
  {
   "cell_type": "markdown",
   "metadata": {},
   "source": [
    "#### Fixing the error"
   ]
  },
  {
   "cell_type": "code",
<<<<<<< HEAD
   "execution_count": 20,
=======
   "execution_count": 19,
>>>>>>> 7ae54ca0791f86bebaa438af892a7d8d71b77f87
   "metadata": {},
   "outputs": [
    {
     "name": "stdout",
     "output_type": "stream",
     "text": [
      "<class 'pandas.core.frame.DataFrame'>\n",
      "RangeIndex: 717 entries, 0 to 716\n",
      "Data columns (total 10 columns):\n",
      " #   Column               Non-Null Count  Dtype         \n",
      "---  ------               --------------  -----         \n",
      " 0   ID_hecho             717 non-null    object        \n",
      " 1   FECHA                717 non-null    datetime64[ns]\n",
      " 2   AAAA                 717 non-null    int64         \n",
      " 3   MM                   717 non-null    int64         \n",
      " 4   DD                   717 non-null    int64         \n",
      " 5   ROL                  717 non-null    object        \n",
      " 6   VICTIMA              717 non-null    object        \n",
      " 7   SEXO                 717 non-null    object        \n",
      " 8   EDAD                 717 non-null    object        \n",
      " 9   FECHA_FALLECIMIENTO  717 non-null    object        \n",
      "dtypes: datetime64[ns](1), int64(3), object(6)\n",
      "memory usage: 56.1+ KB\n"
     ]
    }
   ],
   "source": [
    "kills_victims.info()"
   ]
  },
  {
   "cell_type": "code",
<<<<<<< HEAD
   "execution_count": 21,
=======
   "execution_count": 20,
>>>>>>> 7ae54ca0791f86bebaa438af892a7d8d71b77f87
   "metadata": {},
   "outputs": [],
   "source": [
    "kills_victims[\"ROL\"] = pd.to_numeric(kills_victims [\"ROL\"], errors=\"coerce\")\n",
    "kills_victims[\"ROL\"] = kills_victims[\"ROL\"].astype(\"object\")"
   ]
  },
  {
   "cell_type": "code",
<<<<<<< HEAD
   "execution_count": 22,
=======
   "execution_count": 21,
>>>>>>> 7ae54ca0791f86bebaa438af892a7d8d71b77f87
   "metadata": {},
   "outputs": [],
   "source": [
    "kills_victims[\"VICTIMA\"] = pd.to_numeric(kills_victims [\"VICTIMA\"], errors=\"coerce\")\n",
    "kills_victims[\"VICTIMA\"] = kills_victims[\"VICTIMA\"].astype(\"object\")"
   ]
  },
  {
   "cell_type": "code",
<<<<<<< HEAD
   "execution_count": 23,
=======
   "execution_count": 22,
>>>>>>> 7ae54ca0791f86bebaa438af892a7d8d71b77f87
   "metadata": {},
   "outputs": [],
   "source": [
    "kills_victims[\"SEXO\"] = pd.to_numeric(kills_victims [\"SEXO\"], errors=\"coerce\")\n",
    "kills_victims[\"SEXO\"] = kills_victims[\"SEXO\"].astype(\"object\")"
   ]
  },
  {
   "cell_type": "code",
<<<<<<< HEAD
   "execution_count": 24,
=======
   "execution_count": 23,
>>>>>>> 7ae54ca0791f86bebaa438af892a7d8d71b77f87
   "metadata": {},
   "outputs": [],
   "source": [
    "kills_victims[\"EDAD\"] = pd.to_numeric(kills_victims [\"EDAD\"], errors=\"coerce\")\n",
    "kills_victims[\"EDAD\"] = kills_victims[\"EDAD\"].astype(\"object\")"
   ]
  },
  {
   "cell_type": "code",
<<<<<<< HEAD
   "execution_count": 25,
=======
   "execution_count": 24,
>>>>>>> 7ae54ca0791f86bebaa438af892a7d8d71b77f87
   "metadata": {},
   "outputs": [],
   "source": [
    "kills_victims[\"FECHA_FALLECIMIENTO\"] = pd.to_numeric(kills_victims [\"FECHA_FALLECIMIENTO\"], errors=\"coerce\")\n",
    "kills_victims[\"FECHA_FALLECIMIENTO\"] = kills_victims[\"FECHA_FALLECIMIENTO\"].astype(\"object\")"
   ]
  },
  {
   "cell_type": "code",
<<<<<<< HEAD
   "execution_count": 26,
=======
   "execution_count": 27,
>>>>>>> 7ae54ca0791f86bebaa438af892a7d8d71b77f87
   "metadata": {},
   "outputs": [
    {
     "data": {
      "image/png": "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",
      "text/plain": [
       "<Figure size 1200x600 with 2 Axes>"
      ]
     },
     "metadata": {},
     "output_type": "display_data"
    }
   ],
   "source": [
    "fig, ax = plt.subplots(2, 1, figsize=(12, 6), sharex=True)\n",
    "\n",
    "sns.histplot(kills_victims['EDAD'], kde=True, ax=ax[0]) \n",
    "ax[0].set_title('Histogram about Victims Age') ; ax[0].set_ylabel('Frequency')\n",
    "\n",
    "\n",
    "for p in ax[0].patches:\n",
    "    ax[0].annotate(f'{int(p.get_height())}', (p.get_x() + p.get_width() / 2., p.get_height()),\n",
    "                ha='center', va='bottom', fontsize=8, color='black')\n",
    "\n",
    "sns.boxplot(x=kills_victims['EDAD'], ax=ax[1])\n",
    "ax[1].set_title('Victims Age') ; ax[1].set_xlabel('Age')\n",
    "\n",
    "\n",
    "plt.tight_layout()\n",
    "plt.show()"
   ]
  },
  {
   "cell_type": "code",
<<<<<<< HEAD
   "execution_count": 27,
=======
   "execution_count": 36,
>>>>>>> 7ae54ca0791f86bebaa438af892a7d8d71b77f87
   "metadata": {},
   "outputs": [
    {
     "data": {
      "text/plain": [
       "Index(['ID', 'N_VICTIMAS', 'FECHA', 'AAAA', 'MM', 'DD', 'HORA', 'HH',\n",
       "       'LUGAR_DEL_HECHO', 'TIPO_DE_CALLE', 'Calle', 'Cruce',\n",
       "       'Dirección Normalizada', 'COMUNA', 'XY (CABA)', 'pos x', 'pos y',\n",
       "       'PARTICIPANTES', 'VICTIMA', 'ACUSADO'],\n",
       "      dtype='object')"
      ]
     },
<<<<<<< HEAD
     "execution_count": 27,
=======
     "execution_count": 36,
>>>>>>> 7ae54ca0791f86bebaa438af892a7d8d71b77f87
     "metadata": {},
     "output_type": "execute_result"
    }
   ],
   "source": [
    "kills.columns"
   ]
  },
  {
   "cell_type": "markdown",
   "metadata": {},
   "source": [
<<<<<<< HEAD
    "#### Victims per \"Comuna\""
=======
    "#### Victims per Comuna"
>>>>>>> 7ae54ca0791f86bebaa438af892a7d8d71b77f87
   ]
  },
  {
   "cell_type": "code",
<<<<<<< HEAD
   "execution_count": 28,
=======
   "execution_count": 30,
>>>>>>> 7ae54ca0791f86bebaa438af892a7d8d71b77f87
   "metadata": {},
   "outputs": [
    {
     "data": {
      "text/html": [
       "<div>\n",
       "<style scoped>\n",
       "    .dataframe tbody tr th:only-of-type {\n",
       "        vertical-align: middle;\n",
       "    }\n",
       "\n",
       "    .dataframe tbody tr th {\n",
       "        vertical-align: top;\n",
       "    }\n",
       "\n",
       "    .dataframe thead th {\n",
       "        text-align: right;\n",
       "    }\n",
       "</style>\n",
       "<table border=\"1\" class=\"dataframe\">\n",
       "  <thead>\n",
       "    <tr style=\"text-align: right;\">\n",
       "      <th></th>\n",
       "      <th>COMUNA</th>\n",
       "      <th>N_VICTIMAS</th>\n",
       "    </tr>\n",
       "  </thead>\n",
       "  <tbody>\n",
       "    <tr>\n",
       "      <th>0</th>\n",
       "      <td>0</td>\n",
       "      <td>2</td>\n",
       "    </tr>\n",
       "    <tr>\n",
       "      <th>1</th>\n",
       "      <td>1</td>\n",
       "      <td>93</td>\n",
       "    </tr>\n",
       "    <tr>\n",
       "      <th>2</th>\n",
       "      <td>2</td>\n",
       "      <td>25</td>\n",
       "    </tr>\n",
       "    <tr>\n",
       "      <th>3</th>\n",
       "      <td>3</td>\n",
       "      <td>46</td>\n",
       "    </tr>\n",
       "    <tr>\n",
       "      <th>4</th>\n",
       "      <td>4</td>\n",
       "      <td>79</td>\n",
       "    </tr>\n",
       "    <tr>\n",
       "      <th>5</th>\n",
       "      <td>5</td>\n",
       "      <td>22</td>\n",
       "    </tr>\n",
       "    <tr>\n",
       "      <th>6</th>\n",
       "      <td>6</td>\n",
       "      <td>22</td>\n",
       "    </tr>\n",
       "    <tr>\n",
       "      <th>7</th>\n",
       "      <td>7</td>\n",
       "      <td>62</td>\n",
       "    </tr>\n",
       "    <tr>\n",
       "      <th>8</th>\n",
       "      <td>8</td>\n",
       "      <td>67</td>\n",
       "    </tr>\n",
       "    <tr>\n",
       "      <th>9</th>\n",
       "      <td>9</td>\n",
       "      <td>75</td>\n",
       "    </tr>\n",
       "    <tr>\n",
       "      <th>10</th>\n",
       "      <td>10</td>\n",
       "      <td>30</td>\n",
       "    </tr>\n",
       "    <tr>\n",
       "      <th>11</th>\n",
       "      <td>11</td>\n",
       "      <td>33</td>\n",
       "    </tr>\n",
       "    <tr>\n",
       "      <th>12</th>\n",
       "      <td>12</td>\n",
       "      <td>39</td>\n",
       "    </tr>\n",
       "    <tr>\n",
       "      <th>13</th>\n",
       "      <td>13</td>\n",
       "      <td>40</td>\n",
       "    </tr>\n",
       "    <tr>\n",
       "      <th>14</th>\n",
       "      <td>14</td>\n",
       "      <td>37</td>\n",
       "    </tr>\n",
       "    <tr>\n",
       "      <th>15</th>\n",
       "      <td>15</td>\n",
       "      <td>45</td>\n",
       "    </tr>\n",
       "  </tbody>\n",
       "</table>\n",
       "</div>"
      ],
      "text/plain": [
       "    COMUNA  N_VICTIMAS\n",
       "0        0           2\n",
       "1        1          93\n",
       "2        2          25\n",
       "3        3          46\n",
       "4        4          79\n",
       "5        5          22\n",
       "6        6          22\n",
       "7        7          62\n",
       "8        8          67\n",
       "9        9          75\n",
       "10      10          30\n",
       "11      11          33\n",
       "12      12          39\n",
       "13      13          40\n",
       "14      14          37\n",
       "15      15          45"
      ]
     },
<<<<<<< HEAD
     "execution_count": 28,
=======
     "execution_count": 30,
>>>>>>> 7ae54ca0791f86bebaa438af892a7d8d71b77f87
     "metadata": {},
     "output_type": "execute_result"
    }
   ],
   "source": [
    "comuna=kills.groupby([\"COMUNA\"])[\"N_VICTIMAS\"].sum().reset_index()\n",
    "comuna=comuna.sort_values(by=\"COMUNA\", ascending=True)\n",
    "comuna"
   ]
  },
  {
   "cell_type": "code",
<<<<<<< HEAD
   "execution_count": 29,
=======
   "execution_count": 31,
>>>>>>> 7ae54ca0791f86bebaa438af892a7d8d71b77f87
   "metadata": {},
   "outputs": [
    {
     "data": {
      "image/png": "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",
      "text/plain": [
       "<Figure size 1500x1000 with 1 Axes>"
      ]
     },
     "metadata": {},
     "output_type": "display_data"
    }
   ],
   "source": [
    "plt.figure(figsize=(15,10))\n",
    "\n",
    "plt.barh(comuna[\"COMUNA\"], comuna[\"N_VICTIMAS\"], color = 'black')\n",
    "\n",
    "plt.xlabel('Number of Victims')\n",
    "plt.ylabel('Comunas')\n",
    "\n",
    "plt.title(\"Victimes per Comuna\")\n",
    "\n",
    "for i, v in enumerate(comuna[\"N_VICTIMAS\"]):\n",
    "    plt.text(v, i, str(v), va='center', fontsize=8, color='black')\n",
    "\n",
    "plt.tight_layout()\n",
    "plt.show()"
   ]
  },
  {
   "cell_type": "code",
<<<<<<< HEAD
   "execution_count": 30,
=======
   "execution_count": 49,
   "metadata": {},
   "outputs": [
    {
     "data": {
      "text/plain": [
       "Index(['ID', 'N_VICTIMAS', 'FECHA', 'AAAA', 'MM', 'DD', 'HORA', 'HH',\n",
       "       'LUGAR_DEL_HECHO', 'TIPO_DE_CALLE', 'Calle', 'Cruce',\n",
       "       'Dirección Normalizada', 'COMUNA', 'XY (CABA)', 'pos x', 'pos y',\n",
       "       'PARTICIPANTES', 'VICTIMA', 'ACUSADO'],\n",
       "      dtype='object')"
      ]
     },
     "execution_count": 49,
     "metadata": {},
     "output_type": "execute_result"
    }
   ],
   "source": [
    "kills.columns"
   ]
  },
  {
   "cell_type": "code",
   "execution_count": 32,
>>>>>>> 7ae54ca0791f86bebaa438af892a7d8d71b77f87
   "metadata": {},
   "outputs": [
    {
     "name": "stderr",
     "output_type": "stream",
     "text": [
<<<<<<< HEAD
      "C:\\Users\\Jhon\\AppData\\Local\\Temp\\ipykernel_7176\\3147512845.py:3: FutureWarning: \n",
=======
      "C:\\Users\\Jhon\\AppData\\Local\\Temp\\ipykernel_14432\\653639066.py:4: FutureWarning: \n",
>>>>>>> 7ae54ca0791f86bebaa438af892a7d8d71b77f87
      "\n",
      "Passing `palette` without assigning `hue` is deprecated and will be removed in v0.14.0. Assign the `x` variable to `hue` and set `legend=False` for the same effect.\n",
      "\n",
      "  ax=sns.countplot(kills, x=\"PARTICIPANTES\", palette=\"winter\")\n"
     ]
    },
    {
     "data": {
      "image/png": "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",
      "text/plain": [
       "<Figure size 1400x400 with 1 Axes>"
      ]
     },
     "metadata": {},
     "output_type": "display_data"
    }
   ],
   "source": [
    "plt.figure(figsize=(14, 4))\n",
    "\n",
    "ax=sns.countplot(kills, x=\"PARTICIPANTES\", palette=\"winter\")\n",
    "\n",
    "# Agrega el número de víctimas en las barras\n",
    "for p in ax.patches:\n",
    "    ax.annotate(f'{p.get_height()}', (p.get_x() + p.get_width() / 2., p.get_height()), ha='center', va='bottom', fontsize=8)\n",
    "\n",
    "\n",
    "plt.xticks(rotation=90)\n",
    "\n",
    "\n",
    "plt.xlabel('Participants of the accident')\n",
    "plt.ylabel('Victims Quantity')\n",
    "plt.title('Victims per Participants')\n",
    "\n",
    "plt.show()"
   ]
  },
  {
   "cell_type": "code",
<<<<<<< HEAD
   "execution_count": 31,
=======
   "execution_count": 33,
>>>>>>> 7ae54ca0791f86bebaa438af892a7d8d71b77f87
   "metadata": {},
   "outputs": [
    {
     "name": "stderr",
     "output_type": "stream",
     "text": [
<<<<<<< HEAD
      "C:\\Users\\Jhon\\AppData\\Local\\Temp\\ipykernel_7176\\1997110047.py:3: FutureWarning: \n",
=======
      "C:\\Users\\Jhon\\AppData\\Local\\Temp\\ipykernel_14432\\3571492890.py:3: FutureWarning: \n",
>>>>>>> 7ae54ca0791f86bebaa438af892a7d8d71b77f87
      "\n",
      "Passing `palette` without assigning `hue` is deprecated and will be removed in v0.14.0. Assign the `x` variable to `hue` and set `legend=False` for the same effect.\n",
      "\n",
      "  ax=sns.countplot(kills, x=\"VICTIMA\", palette=\"winter\")\n"
     ]
    },
    {
     "data": {
      "image/png": "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",
      "text/plain": [
       "<Figure size 1400x400 with 1 Axes>"
      ]
     },
     "metadata": {},
     "output_type": "display_data"
    }
   ],
   "source": [
    "plt.figure(figsize=(14, 4))\n",
    "\n",
    "ax=sns.countplot(kills, x=\"VICTIMA\", palette=\"winter\")\n",
    "\n",
    "for p in ax.patches:\n",
    "    ax.annotate(f'{p.get_height()}', (p.get_x() + p.get_width() / 2., p.get_height()), ha='center', va='bottom', fontsize=8)\n",
    "\n",
    "\n",
    "#Se titulan los ejes\n",
    "plt.xlabel('Victims')\n",
    "plt.ylabel('Quantity of Victims')\n",
    "plt.title('Victims per Vehicle')\n",
    "\n",
    "plt.show()"
   ]
  },
  {
   "cell_type": "markdown",
   "metadata": {},
   "source": [
    "#### Confusion Matrix"
   ]
  },
  {
   "cell_type": "code",
<<<<<<< HEAD
   "execution_count": 32,
=======
   "execution_count": 53,
>>>>>>> 7ae54ca0791f86bebaa438af892a7d8d71b77f87
   "metadata": {},
   "outputs": [
    {
     "data": {
      "text/html": [
       "<div>\n",
       "<style scoped>\n",
       "    .dataframe tbody tr th:only-of-type {\n",
       "        vertical-align: middle;\n",
       "    }\n",
       "\n",
       "    .dataframe tbody tr th {\n",
       "        vertical-align: top;\n",
       "    }\n",
       "\n",
       "    .dataframe thead th {\n",
       "        text-align: right;\n",
       "    }\n",
       "</style>\n",
       "<table border=\"1\" class=\"dataframe\">\n",
       "  <thead>\n",
       "    <tr style=\"text-align: right;\">\n",
       "      <th>ACUSADO</th>\n",
       "      <th>AUTO</th>\n",
       "      <th>BICICLETA</th>\n",
       "      <th>CARGAS</th>\n",
       "      <th>MOTO</th>\n",
       "      <th>MULTIPLE</th>\n",
       "      <th>OBJETO FIJO</th>\n",
       "      <th>OTRO</th>\n",
       "      <th>PASAJEROS</th>\n",
       "      <th>SD</th>\n",
       "      <th>TREN</th>\n",
       "    </tr>\n",
       "    <tr>\n",
       "      <th>VICTIMA</th>\n",
       "      <th></th>\n",
       "      <th></th>\n",
       "      <th></th>\n",
       "      <th></th>\n",
       "      <th></th>\n",
       "      <th></th>\n",
       "      <th></th>\n",
       "      <th></th>\n",
       "      <th></th>\n",
       "      <th></th>\n",
       "    </tr>\n",
       "  </thead>\n",
       "  <tbody>\n",
       "    <tr>\n",
       "      <th>AUTO</th>\n",
       "      <td>31</td>\n",
       "      <td>0</td>\n",
       "      <td>14</td>\n",
       "      <td>0</td>\n",
       "      <td>3</td>\n",
       "      <td>21</td>\n",
       "      <td>1</td>\n",
       "      <td>9</td>\n",
       "      <td>4</td>\n",
       "      <td>0</td>\n",
       "    </tr>\n",
       "    <tr>\n",
       "      <th>BICICLETA</th>\n",
       "      <td>8</td>\n",
       "      <td>0</td>\n",
       "      <td>10</td>\n",
       "      <td>0</td>\n",
       "      <td>1</td>\n",
       "      <td>0</td>\n",
       "      <td>1</td>\n",
       "      <td>8</td>\n",
       "      <td>0</td>\n",
       "      <td>1</td>\n",
       "    </tr>\n",
       "    <tr>\n",
       "      <th>CARGAS</th>\n",
       "      <td>1</td>\n",
       "      <td>0</td>\n",
       "      <td>4</td>\n",
       "      <td>0</td>\n",
       "      <td>0</td>\n",
       "      <td>1</td>\n",
       "      <td>0</td>\n",
       "      <td>1</td>\n",
       "      <td>0</td>\n",
       "      <td>0</td>\n",
       "    </tr>\n",
       "    <tr>\n",
       "      <th>MOTO</th>\n",
       "      <td>83</td>\n",
       "      <td>2</td>\n",
       "      <td>78</td>\n",
       "      <td>25</td>\n",
       "      <td>8</td>\n",
       "      <td>40</td>\n",
       "      <td>4</td>\n",
       "      <td>46</td>\n",
       "      <td>9</td>\n",
       "      <td>0</td>\n",
       "    </tr>\n",
       "    <tr>\n",
       "      <th>MOVIL</th>\n",
       "      <td>0</td>\n",
       "      <td>0</td>\n",
       "      <td>1</td>\n",
       "      <td>0</td>\n",
       "      <td>0</td>\n",
       "      <td>0</td>\n",
       "      <td>0</td>\n",
       "      <td>1</td>\n",
       "      <td>0</td>\n",
       "      <td>0</td>\n",
       "    </tr>\n",
       "    <tr>\n",
       "      <th>OBJETO FIJO</th>\n",
       "      <td>1</td>\n",
       "      <td>0</td>\n",
       "      <td>0</td>\n",
       "      <td>0</td>\n",
       "      <td>0</td>\n",
       "      <td>0</td>\n",
       "      <td>0</td>\n",
       "      <td>0</td>\n",
       "      <td>0</td>\n",
       "      <td>0</td>\n",
       "    </tr>\n",
       "    <tr>\n",
       "      <th>PASAJEROS</th>\n",
       "      <td>1</td>\n",
       "      <td>0</td>\n",
       "      <td>0</td>\n",
       "      <td>0</td>\n",
       "      <td>0</td>\n",
       "      <td>0</td>\n",
       "      <td>0</td>\n",
       "      <td>3</td>\n",
       "      <td>1</td>\n",
       "      <td>0</td>\n",
       "    </tr>\n",
       "    <tr>\n",
       "      <th>PEATON</th>\n",
       "      <td>77</td>\n",
       "      <td>5</td>\n",
       "      <td>38</td>\n",
       "      <td>30</td>\n",
       "      <td>5</td>\n",
       "      <td>0</td>\n",
       "      <td>0</td>\n",
       "      <td>105</td>\n",
       "      <td>4</td>\n",
       "      <td>0</td>\n",
       "    </tr>\n",
       "    <tr>\n",
       "      <th>PEATON_MOTO</th>\n",
       "      <td>0</td>\n",
       "      <td>0</td>\n",
       "      <td>0</td>\n",
       "      <td>1</td>\n",
       "      <td>0</td>\n",
       "      <td>0</td>\n",
       "      <td>0</td>\n",
       "      <td>0</td>\n",
       "      <td>0</td>\n",
       "      <td>0</td>\n",
       "    </tr>\n",
       "    <tr>\n",
       "      <th>SD</th>\n",
       "      <td>2</td>\n",
       "      <td>0</td>\n",
       "      <td>1</td>\n",
       "      <td>1</td>\n",
       "      <td>0</td>\n",
       "      <td>0</td>\n",
       "      <td>0</td>\n",
       "      <td>0</td>\n",
       "      <td>5</td>\n",
       "      <td>0</td>\n",
       "    </tr>\n",
       "  </tbody>\n",
       "</table>\n",
       "</div>"
      ],
      "text/plain": [
       "ACUSADO      AUTO  BICICLETA  CARGAS  MOTO  MULTIPLE  OBJETO FIJO  OTRO  \\\n",
       "VICTIMA                                                                   \n",
       "AUTO           31          0      14     0         3           21     1   \n",
       "BICICLETA       8          0      10     0         1            0     1   \n",
       "CARGAS          1          0       4     0         0            1     0   \n",
       "MOTO           83          2      78    25         8           40     4   \n",
       "MOVIL           0          0       1     0         0            0     0   \n",
       "OBJETO FIJO     1          0       0     0         0            0     0   \n",
       "PASAJEROS       1          0       0     0         0            0     0   \n",
       "PEATON         77          5      38    30         5            0     0   \n",
       "PEATON_MOTO     0          0       0     1         0            0     0   \n",
       "SD              2          0       1     1         0            0     0   \n",
       "\n",
       "ACUSADO      PASAJEROS  SD  TREN  \n",
       "VICTIMA                           \n",
       "AUTO                 9   4     0  \n",
       "BICICLETA            8   0     1  \n",
       "CARGAS               1   0     0  \n",
       "MOTO                46   9     0  \n",
       "MOVIL                1   0     0  \n",
       "OBJETO FIJO          0   0     0  \n",
       "PASAJEROS            3   1     0  \n",
       "PEATON             105   4     0  \n",
       "PEATON_MOTO          0   0     0  \n",
       "SD                   0   5     0  "
      ]
     },
<<<<<<< HEAD
     "execution_count": 32,
=======
     "execution_count": 53,
>>>>>>> 7ae54ca0791f86bebaa438af892a7d8d71b77f87
     "metadata": {},
     "output_type": "execute_result"
    }
   ],
   "source": [
    "co_matrix = pd.crosstab(kills['VICTIMA'], kills['ACUSADO'])\n",
    "\n",
    "co_matrix"
   ]
  },
  {
   "cell_type": "markdown",
   "metadata": {},
   "source": [
    "#### Victims per Genre"
   ]
  },
  {
   "cell_type": "code",
<<<<<<< HEAD
   "execution_count": 33,
=======
   "execution_count": 43,
>>>>>>> 7ae54ca0791f86bebaa438af892a7d8d71b77f87
   "metadata": {},
   "outputs": [
    {
     "data": {
      "text/plain": [
       "(717, 10)"
      ]
     },
<<<<<<< HEAD
     "execution_count": 33,
=======
     "execution_count": 43,
>>>>>>> 7ae54ca0791f86bebaa438af892a7d8d71b77f87
     "metadata": {},
     "output_type": "execute_result"
    }
   ],
   "source": [
    "kills_victims.shape"
   ]
  },
  {
   "cell_type": "code",
<<<<<<< HEAD
   "execution_count": 34,
=======
   "execution_count": 42,
   "metadata": {},
   "outputs": [
    {
     "data": {
      "text/plain": [
       "ID_hecho               0.000000\n",
       "FECHA                  0.000000\n",
       "AAAA                   0.000000\n",
       "MM                     0.000000\n",
       "DD                     0.000000\n",
       "ROL                    1.000000\n",
       "VICTIMA                1.000000\n",
       "SEXO                   1.000000\n",
       "EDAD                   0.073919\n",
       "FECHA_FALLECIMIENTO    1.000000\n",
       "dtype: float64"
      ]
     },
     "execution_count": 42,
     "metadata": {},
     "output_type": "execute_result"
    }
   ],
   "source": [
    "kills_victims.isnull().sum() / len(kills_victims)"
   ]
  },
  {
   "cell_type": "code",
   "execution_count": 52,
   "metadata": {},
   "outputs": [],
   "source": [
    "kills_victims = pd.read_excel('Datasets/homicidios.xlsx', sheet_name='VICTIMAS')"
   ]
  },
  {
   "cell_type": "code",
   "execution_count": 53,
   "metadata": {},
   "outputs": [
    {
     "data": {
      "text/plain": [
       "ID_hecho               0.0\n",
       "FECHA                  0.0\n",
       "AAAA                   0.0\n",
       "MM                     0.0\n",
       "DD                     0.0\n",
       "ROL                    0.0\n",
       "VICTIMA                0.0\n",
       "SEXO                   0.0\n",
       "EDAD                   0.0\n",
       "FECHA_FALLECIMIENTO    0.0\n",
       "dtype: float64"
      ]
     },
     "execution_count": 53,
     "metadata": {},
     "output_type": "execute_result"
    }
   ],
   "source": [
    "kills_victims.isnull().sum() / len(kills_victims)"
   ]
  },
  {
   "cell_type": "code",
   "execution_count": 55,
   "metadata": {},
   "outputs": [
    {
     "data": {
      "text/plain": [
       "0     MASCULINO\n",
       "1     MASCULINO\n",
       "2     MASCULINO\n",
       "3     MASCULINO\n",
       "4     MASCULINO\n",
       "5     MASCULINO\n",
       "6     MASCULINO\n",
       "7     MASCULINO\n",
       "8     MASCULINO\n",
       "9     MASCULINO\n",
       "10     FEMENINO\n",
       "11     FEMENINO\n",
       "Name: SEXO, dtype: object"
      ]
     },
     "execution_count": 55,
     "metadata": {},
     "output_type": "execute_result"
    }
   ],
   "source": [
    "kills_victims['SEXO'][:12]"
   ]
  },
  {
   "cell_type": "code",
   "execution_count": 57,
>>>>>>> 7ae54ca0791f86bebaa438af892a7d8d71b77f87
   "metadata": {},
   "outputs": [
    {
     "data": {
      "text/plain": [
       "Text(0.5, 1.0, 'Victims per Genre')"
      ]
     },
<<<<<<< HEAD
     "execution_count": 34,
=======
     "execution_count": 57,
>>>>>>> 7ae54ca0791f86bebaa438af892a7d8d71b77f87
     "metadata": {},
     "output_type": "execute_result"
    },
    {
     "data": {
<<<<<<< HEAD
      "image/png": "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",
=======
      "image/png": "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",
>>>>>>> 7ae54ca0791f86bebaa438af892a7d8d71b77f87
      "text/plain": [
       "<Figure size 1200x600 with 1 Axes>"
      ]
     },
     "metadata": {},
     "output_type": "display_data"
    }
   ],
   "source": [
    "proportion = kills_victims['SEXO'].value_counts(normalize=True) * 100\n",
    "\n",
    "labels = proportion.index\n",
    "sizes = proportion.values\n",
    "\n",
    "\n",
    "plt.figure(figsize=(12, 6))\n",
    "\n",
    "\n",
    "\n",
    "plt.pie(sizes, labels=labels, autopct='%1.1f%%', startangle=140, colors=['red', 'lightcoral'])\n",
    "plt.title('Victims per Genre')"
   ]
  },
  {
   "cell_type": "markdown",
   "metadata": {},
   "source": [
    "# Injuries"
   ]
  },
  {
   "cell_type": "markdown",
   "metadata": {},
   "source": [
    "## Reading Data"
   ]
  },
  {
   "cell_type": "code",
<<<<<<< HEAD
   "execution_count": 35,
=======
   "execution_count": 107,
>>>>>>> 7ae54ca0791f86bebaa438af892a7d8d71b77f87
   "metadata": {},
   "outputs": [],
   "source": [
    "injuries = pd.read_excel('Datasets/Injuries.xlsx')"
   ]
  },
  {
   "cell_type": "code",
   "execution_count": 36,
   "metadata": {},
   "outputs": [
    {
     "name": "stdout",
     "output_type": "stream",
     "text": [
      "(23785, 26)\n",
      "Index(['id', 'n_victimas', 'AAAA', 'MM', 'DD', 'fecha', 'hora', 'franja_hora',\n",
      "       'direccion_normalizada', 'comuna', 'tipo_calle', 'otra_direccion',\n",
      "       'calle', 'cruce', 'geocodificacion_CABA', 'longitud', 'latitud',\n",
      "       'victima', 'acusado', 'participantes', 'moto', 'auto',\n",
      "       'transporte_publico', 'camion', 'ciclista', 'gravedad'],\n",
      "      dtype='object')\n"
     ]
    }
   ],
   "source": [
    "print(injuries.shape)\n",
    "print(injuries.columns)"
   ]
  },
  {
   "cell_type": "code",
   "execution_count": 37,
   "metadata": {},
   "outputs": [
    {
     "name": "stdout",
     "output_type": "stream",
     "text": [
      "<class 'pandas.core.frame.DataFrame'>\n",
      "RangeIndex: 23785 entries, 0 to 23784\n",
      "Data columns (total 26 columns):\n",
      " #   Column                 Non-Null Count  Dtype \n",
      "---  ------                 --------------  ----- \n",
      " 0   id                     23785 non-null  object\n",
      " 1   n_victimas             23785 non-null  int64 \n",
      " 2   AAAA                   23785 non-null  int64 \n",
      " 3   MM                     23785 non-null  int64 \n",
      " 4   DD                     23785 non-null  int64 \n",
      " 5   fecha                  23785 non-null  object\n",
      " 6   hora                   23785 non-null  object\n",
      " 7   franja_hora            23785 non-null  object\n",
      " 8   direccion_normalizada  23785 non-null  object\n",
      " 9   comuna                 23785 non-null  object\n",
      " 10  tipo_calle             23785 non-null  object\n",
      " 11  otra_direccion         23785 non-null  object\n",
      " 12  calle                  23785 non-null  object\n",
      " 13  cruce                  23785 non-null  object\n",
      " 14  geocodificacion_CABA   23785 non-null  object\n",
      " 15  longitud               23785 non-null  object\n",
      " 16  latitud                23785 non-null  object\n",
      " 17  victima                23785 non-null  object\n",
      " 18  acusado                23785 non-null  object\n",
      " 19  participantes          23785 non-null  object\n",
      " 20  moto                   23785 non-null  object\n",
      " 21  auto                   23785 non-null  object\n",
      " 22  transporte_publico     23785 non-null  object\n",
      " 23  camion                 23785 non-null  object\n",
      " 24  ciclista               23785 non-null  object\n",
      " 25  gravedad               23785 non-null  object\n",
      "dtypes: int64(4), object(22)\n",
      "memory usage: 4.7+ MB\n",
      "None\n"
     ]
    }
   ],
   "source": [
    "print(injuries.info())"
   ]
  },
  {
   "cell_type": "code",
   "execution_count": 38,
   "metadata": {},
   "outputs": [
    {
     "data": {
      "text/html": [
       "<div>\n",
       "<style scoped>\n",
       "    .dataframe tbody tr th:only-of-type {\n",
       "        vertical-align: middle;\n",
       "    }\n",
       "\n",
       "    .dataframe tbody tr th {\n",
       "        vertical-align: top;\n",
       "    }\n",
       "\n",
       "    .dataframe thead th {\n",
       "        text-align: right;\n",
       "    }\n",
       "</style>\n",
       "<table border=\"1\" class=\"dataframe\">\n",
       "  <thead>\n",
       "    <tr style=\"text-align: right;\">\n",
       "      <th></th>\n",
       "      <th>id</th>\n",
       "      <th>n_victimas</th>\n",
       "      <th>AAAA</th>\n",
       "      <th>MM</th>\n",
       "      <th>DD</th>\n",
       "      <th>fecha</th>\n",
       "      <th>hora</th>\n",
       "      <th>franja_hora</th>\n",
       "      <th>direccion_normalizada</th>\n",
       "      <th>comuna</th>\n",
       "      <th>...</th>\n",
       "      <th>latitud</th>\n",
       "      <th>victima</th>\n",
       "      <th>acusado</th>\n",
       "      <th>participantes</th>\n",
       "      <th>moto</th>\n",
       "      <th>auto</th>\n",
       "      <th>transporte_publico</th>\n",
       "      <th>camion</th>\n",
       "      <th>ciclista</th>\n",
       "      <th>gravedad</th>\n",
       "    </tr>\n",
       "  </thead>\n",
       "  <tbody>\n",
       "    <tr>\n",
       "      <th>0</th>\n",
       "      <td>LC-2019-0000179</td>\n",
       "      <td>1</td>\n",
       "      <td>2019</td>\n",
       "      <td>1</td>\n",
       "      <td>1</td>\n",
       "      <td>2019-01-01 00:00:00</td>\n",
       "      <td>09:00:00</td>\n",
       "      <td>9</td>\n",
       "      <td>SD</td>\n",
       "      <td>14</td>\n",
       "      <td>...</td>\n",
       "      <td>-34.559658</td>\n",
       "      <td>CICLISTA</td>\n",
       "      <td>SD</td>\n",
       "      <td>CICLISTA-SD</td>\n",
       "      <td>SD</td>\n",
       "      <td>SD</td>\n",
       "      <td>SD</td>\n",
       "      <td>SD</td>\n",
       "      <td>x</td>\n",
       "      <td>SD</td>\n",
       "    </tr>\n",
       "    <tr>\n",
       "      <th>1</th>\n",
       "      <td>LC-2019-0000053</td>\n",
       "      <td>1</td>\n",
       "      <td>2019</td>\n",
       "      <td>1</td>\n",
       "      <td>1</td>\n",
       "      <td>2019-01-01 00:00:00</td>\n",
       "      <td>01:55:00</td>\n",
       "      <td>1</td>\n",
       "      <td>SD</td>\n",
       "      <td>8</td>\n",
       "      <td>...</td>\n",
       "      <td>-34.669125</td>\n",
       "      <td>AUTO</td>\n",
       "      <td>SD</td>\n",
       "      <td>AUTO-SD</td>\n",
       "      <td>SD</td>\n",
       "      <td>x</td>\n",
       "      <td>SD</td>\n",
       "      <td>SD</td>\n",
       "      <td>SD</td>\n",
       "      <td>SD</td>\n",
       "    </tr>\n",
       "    <tr>\n",
       "      <th>2</th>\n",
       "      <td>LC-2019-0000063</td>\n",
       "      <td>1</td>\n",
       "      <td>2019</td>\n",
       "      <td>1</td>\n",
       "      <td>1</td>\n",
       "      <td>2019-01-01 00:00:00</td>\n",
       "      <td>02:00:00</td>\n",
       "      <td>2</td>\n",
       "      <td>SD</td>\n",
       "      <td>8</td>\n",
       "      <td>...</td>\n",
       "      <td>-34.677556</td>\n",
       "      <td>SD</td>\n",
       "      <td>SD</td>\n",
       "      <td>SD-SD</td>\n",
       "      <td>SD</td>\n",
       "      <td>SD</td>\n",
       "      <td>SD</td>\n",
       "      <td>SD</td>\n",
       "      <td>SD</td>\n",
       "      <td>SD</td>\n",
       "    </tr>\n",
       "    <tr>\n",
       "      <th>3</th>\n",
       "      <td>LC-2019-0000079</td>\n",
       "      <td>1</td>\n",
       "      <td>2019</td>\n",
       "      <td>1</td>\n",
       "      <td>1</td>\n",
       "      <td>2019-01-01 00:00:00</td>\n",
       "      <td>02:30:00</td>\n",
       "      <td>2</td>\n",
       "      <td>SD</td>\n",
       "      <td>7</td>\n",
       "      <td>...</td>\n",
       "      <td>-34.647349</td>\n",
       "      <td>PEATON</td>\n",
       "      <td>SD</td>\n",
       "      <td>PEATON-SD</td>\n",
       "      <td>x</td>\n",
       "      <td>SD</td>\n",
       "      <td>SD</td>\n",
       "      <td>SD</td>\n",
       "      <td>SD</td>\n",
       "      <td>SD</td>\n",
       "    </tr>\n",
       "    <tr>\n",
       "      <th>4</th>\n",
       "      <td>LC-2019-0000082</td>\n",
       "      <td>4</td>\n",
       "      <td>2019</td>\n",
       "      <td>1</td>\n",
       "      <td>1</td>\n",
       "      <td>2019-01-01 00:00:00</td>\n",
       "      <td>04:30:00</td>\n",
       "      <td>4</td>\n",
       "      <td>SD</td>\n",
       "      <td>3</td>\n",
       "      <td>...</td>\n",
       "      <td>-34.604579</td>\n",
       "      <td>AUTO</td>\n",
       "      <td>SD</td>\n",
       "      <td>AUTO-SD</td>\n",
       "      <td>SD</td>\n",
       "      <td>SD</td>\n",
       "      <td>x</td>\n",
       "      <td>SD</td>\n",
       "      <td>SD</td>\n",
       "      <td>SD</td>\n",
       "    </tr>\n",
       "    <tr>\n",
       "      <th>...</th>\n",
       "      <td>...</td>\n",
       "      <td>...</td>\n",
       "      <td>...</td>\n",
       "      <td>...</td>\n",
       "      <td>...</td>\n",
       "      <td>...</td>\n",
       "      <td>...</td>\n",
       "      <td>...</td>\n",
       "      <td>...</td>\n",
       "      <td>...</td>\n",
       "      <td>...</td>\n",
       "      <td>...</td>\n",
       "      <td>...</td>\n",
       "      <td>...</td>\n",
       "      <td>...</td>\n",
       "      <td>...</td>\n",
       "      <td>...</td>\n",
       "      <td>...</td>\n",
       "      <td>...</td>\n",
       "      <td>...</td>\n",
       "      <td>...</td>\n",
       "    </tr>\n",
       "    <tr>\n",
       "      <th>23780</th>\n",
       "      <td>LC-2021-0652849</td>\n",
       "      <td>1</td>\n",
       "      <td>2021</td>\n",
       "      <td>12</td>\n",
       "      <td>31</td>\n",
       "      <td>2021-12-31 00:00:00</td>\n",
       "      <td>19:30:00</td>\n",
       "      <td>19</td>\n",
       "      <td>ALBERDI, JUAN BAUTISTA AV. y GUAMINI</td>\n",
       "      <td>9</td>\n",
       "      <td>...</td>\n",
       "      <td>-34.659713573880</td>\n",
       "      <td>SD</td>\n",
       "      <td>SD</td>\n",
       "      <td>SD-SD</td>\n",
       "      <td>SD</td>\n",
       "      <td>SD</td>\n",
       "      <td>SD</td>\n",
       "      <td>SD</td>\n",
       "      <td>SD</td>\n",
       "      <td>SD</td>\n",
       "    </tr>\n",
       "    <tr>\n",
       "      <th>23781</th>\n",
       "      <td>LC-2021-0652865</td>\n",
       "      <td>2</td>\n",
       "      <td>2021</td>\n",
       "      <td>12</td>\n",
       "      <td>31</td>\n",
       "      <td>2021-12-31 00:00:00</td>\n",
       "      <td>19:40:00</td>\n",
       "      <td>19</td>\n",
       "      <td>ALBERDI, JUAN BAUTISTA AV. 4436</td>\n",
       "      <td>9</td>\n",
       "      <td>...</td>\n",
       "      <td>-34.641753304864</td>\n",
       "      <td>SD</td>\n",
       "      <td>SD</td>\n",
       "      <td>SD-SD</td>\n",
       "      <td>SD</td>\n",
       "      <td>SD</td>\n",
       "      <td>SD</td>\n",
       "      <td>SD</td>\n",
       "      <td>SD</td>\n",
       "      <td>SD</td>\n",
       "    </tr>\n",
       "    <tr>\n",
       "      <th>23782</th>\n",
       "      <td>LC-2021-0652907</td>\n",
       "      <td>1</td>\n",
       "      <td>2021</td>\n",
       "      <td>12</td>\n",
       "      <td>31</td>\n",
       "      <td>2021-12-31 00:00:00</td>\n",
       "      <td>20:00:00</td>\n",
       "      <td>20</td>\n",
       "      <td>SD</td>\n",
       "      <td>1</td>\n",
       "      <td>...</td>\n",
       "      <td>-34.583083</td>\n",
       "      <td>SD</td>\n",
       "      <td>SD</td>\n",
       "      <td>SD-SD</td>\n",
       "      <td>SD</td>\n",
       "      <td>SD</td>\n",
       "      <td>SD</td>\n",
       "      <td>SD</td>\n",
       "      <td>SD</td>\n",
       "      <td>SD</td>\n",
       "    </tr>\n",
       "    <tr>\n",
       "      <th>23783</th>\n",
       "      <td>LC-2021-0652921</td>\n",
       "      <td>1</td>\n",
       "      <td>2021</td>\n",
       "      <td>12</td>\n",
       "      <td>31</td>\n",
       "      <td>2021-12-31 00:00:00</td>\n",
       "      <td>22:00:00</td>\n",
       "      <td>22</td>\n",
       "      <td>LINIERS VIRREY y MORENO</td>\n",
       "      <td>5</td>\n",
       "      <td>...</td>\n",
       "      <td>-34.614288229345</td>\n",
       "      <td>MOTO</td>\n",
       "      <td>TRANSPORTE PUBLICO</td>\n",
       "      <td>MOTO-TRANSPORTE PUBLICO</td>\n",
       "      <td>x</td>\n",
       "      <td>0</td>\n",
       "      <td>x</td>\n",
       "      <td>0</td>\n",
       "      <td>0</td>\n",
       "      <td>GRAVE</td>\n",
       "    </tr>\n",
       "    <tr>\n",
       "      <th>23784</th>\n",
       "      <td>LC-2020-0244615</td>\n",
       "      <td>1</td>\n",
       "      <td>2020</td>\n",
       "      <td>5</td>\n",
       "      <td>17</td>\n",
       "      <td>5/17/2020</td>\n",
       "      <td>21:00:00</td>\n",
       "      <td>21</td>\n",
       "      <td>SD</td>\n",
       "      <td>SD</td>\n",
       "      <td>...</td>\n",
       "      <td>-3472890716</td>\n",
       "      <td>MOTO</td>\n",
       "      <td>AUTO</td>\n",
       "      <td>MOTO-AUTO</td>\n",
       "      <td>x</td>\n",
       "      <td>x</td>\n",
       "      <td>0</td>\n",
       "      <td>0</td>\n",
       "      <td>0</td>\n",
       "      <td>SD</td>\n",
       "    </tr>\n",
       "  </tbody>\n",
       "</table>\n",
       "<p>23785 rows × 26 columns</p>\n",
       "</div>"
      ],
      "text/plain": [
       "                    id  n_victimas  AAAA  MM  DD                fecha  \\\n",
       "0      LC-2019-0000179           1  2019   1   1  2019-01-01 00:00:00   \n",
       "1      LC-2019-0000053           1  2019   1   1  2019-01-01 00:00:00   \n",
       "2      LC-2019-0000063           1  2019   1   1  2019-01-01 00:00:00   \n",
       "3      LC-2019-0000079           1  2019   1   1  2019-01-01 00:00:00   \n",
       "4      LC-2019-0000082           4  2019   1   1  2019-01-01 00:00:00   \n",
       "...                ...         ...   ...  ..  ..                  ...   \n",
       "23780  LC-2021-0652849           1  2021  12  31  2021-12-31 00:00:00   \n",
       "23781  LC-2021-0652865           2  2021  12  31  2021-12-31 00:00:00   \n",
       "23782  LC-2021-0652907           1  2021  12  31  2021-12-31 00:00:00   \n",
       "23783  LC-2021-0652921           1  2021  12  31  2021-12-31 00:00:00   \n",
       "23784  LC-2020-0244615           1  2020   5  17            5/17/2020   \n",
       "\n",
       "           hora franja_hora                 direccion_normalizada comuna  ...  \\\n",
       "0      09:00:00           9                                    SD     14  ...   \n",
       "1      01:55:00           1                                    SD      8  ...   \n",
       "2      02:00:00           2                                    SD      8  ...   \n",
       "3      02:30:00           2                                    SD      7  ...   \n",
       "4      04:30:00           4                                    SD      3  ...   \n",
       "...         ...         ...                                   ...    ...  ...   \n",
       "23780  19:30:00          19  ALBERDI, JUAN BAUTISTA AV. y GUAMINI      9  ...   \n",
       "23781  19:40:00          19       ALBERDI, JUAN BAUTISTA AV. 4436      9  ...   \n",
       "23782  20:00:00          20                                    SD      1  ...   \n",
       "23783  22:00:00          22               LINIERS VIRREY y MORENO      5  ...   \n",
       "23784  21:00:00          21                                    SD     SD  ...   \n",
       "\n",
       "                latitud   victima             acusado  \\\n",
       "0            -34.559658  CICLISTA                  SD   \n",
       "1            -34.669125      AUTO                  SD   \n",
       "2            -34.677556        SD                  SD   \n",
       "3            -34.647349    PEATON                  SD   \n",
       "4            -34.604579      AUTO                  SD   \n",
       "...                 ...       ...                 ...   \n",
       "23780  -34.659713573880        SD                  SD   \n",
       "23781  -34.641753304864        SD                  SD   \n",
       "23782        -34.583083        SD                  SD   \n",
       "23783  -34.614288229345      MOTO  TRANSPORTE PUBLICO   \n",
       "23784       -3472890716      MOTO                AUTO   \n",
       "\n",
       "                 participantes moto auto transporte_publico camion ciclista  \\\n",
       "0                  CICLISTA-SD   SD   SD                 SD     SD        x   \n",
       "1                      AUTO-SD   SD    x                 SD     SD       SD   \n",
       "2                        SD-SD   SD   SD                 SD     SD       SD   \n",
       "3                    PEATON-SD    x   SD                 SD     SD       SD   \n",
       "4                      AUTO-SD   SD   SD                  x     SD       SD   \n",
       "...                        ...  ...  ...                ...    ...      ...   \n",
       "23780                    SD-SD   SD   SD                 SD     SD       SD   \n",
       "23781                    SD-SD   SD   SD                 SD     SD       SD   \n",
       "23782                    SD-SD   SD   SD                 SD     SD       SD   \n",
       "23783  MOTO-TRANSPORTE PUBLICO    x    0                  x      0        0   \n",
       "23784                MOTO-AUTO    x    x                  0      0        0   \n",
       "\n",
       "      gravedad  \n",
       "0           SD  \n",
       "1           SD  \n",
       "2           SD  \n",
       "3           SD  \n",
       "4           SD  \n",
       "...        ...  \n",
       "23780       SD  \n",
       "23781       SD  \n",
       "23782       SD  \n",
       "23783    GRAVE  \n",
       "23784       SD  \n",
       "\n",
       "[23785 rows x 26 columns]"
      ]
     },
     "execution_count": 38,
     "metadata": {},
     "output_type": "execute_result"
    }
   ],
   "source": [
    "injuries"
   ]
  },
  {
   "cell_type": "markdown",
   "metadata": {},
   "source": [
<<<<<<< HEAD
=======
    "## Duplicated Values"
   ]
  },
  {
   "cell_type": "code",
   "execution_count": 18,
   "metadata": {},
   "outputs": [
    {
     "data": {
      "text/plain": [
       "altura                   0.000042\n",
       "cruce                    0.000042\n",
       "ciclista                 0.000042\n",
       "camion                   0.000042\n",
       "transporte_publico       0.000042\n",
       "auto                     0.000042\n",
       "moto                     0.000042\n",
       "participantes            0.000042\n",
       "acusado                  0.000042\n",
       "victima                  0.000042\n",
       "latutid                  0.000042\n",
       "longitud                 0.000042\n",
       "geocodificacion_CABA     0.000042\n",
       "gravedad                 0.000042\n",
       "n_victimas               0.000042\n",
       "calle                    0.000042\n",
       "otra_direccion           0.000042\n",
       "tipo_calle               0.000042\n",
       "comuna                   0.000042\n",
       "direccion_normalizada    0.000042\n",
       "franja_hora              0.000042\n",
       "hora                     0.000042\n",
       "fecha                    0.000042\n",
       "dd                       0.000042\n",
       "mm                       0.000042\n",
       "aaaa                     0.000042\n",
       "id                       0.000000\n",
       "dtype: float64"
      ]
     },
     "execution_count": 18,
     "metadata": {},
     "output_type": "execute_result"
    }
   ],
   "source": [
    "duplicated_ratio = ((injuries.any().duplicated() / len(injuries))).sort_values(ascending=False)\n",
    "duplicated_ratio"
   ]
  },
  {
   "cell_type": "markdown",
   "metadata": {},
   "source": [
    "## Null values"
   ]
  },
  {
   "cell_type": "code",
   "execution_count": 19,
   "metadata": {},
   "outputs": [
    {
     "data": {
      "text/plain": [
       "Index(['id', 'n_victimas', 'aaaa', 'mm', 'dd', 'fecha', 'hora', 'franja_hora',\n",
       "       'direccion_normalizada', 'comuna', 'tipo_calle', 'otra_direccion',\n",
       "       'calle', 'altura', 'cruce', 'geocodificacion_CABA', 'longitud',\n",
       "       'latutid', 'victima', 'acusado', 'participantes', 'moto', 'auto',\n",
       "       'transporte_publico', 'camion', 'ciclista', 'gravedad'],\n",
       "      dtype='object')"
      ]
     },
     "execution_count": 19,
     "metadata": {},
     "output_type": "execute_result"
    }
   ],
   "source": [
    "injuries.columns"
   ]
  },
  {
   "cell_type": "code",
   "execution_count": null,
   "metadata": {},
   "outputs": [
    {
     "data": {
      "text/plain": [
       "cruce                    14378\n",
       "altura                   11014\n",
       "calle                    10918\n",
       "latutid                    262\n",
       "longitud                   262\n",
       "comuna                     169\n",
       "auto                        93\n",
       "moto                        93\n",
       "transporte_publico          93\n",
       "camion                      93\n",
       "ciclista                    93\n",
       "direccion_normalizada       53\n",
       "geocodificacion_CABA        39\n",
       "franja_hora                  5\n",
       "participantes                0\n",
       "acusado                      0\n",
       "victima                      0\n",
       "id                           0\n",
       "n_victimas                   0\n",
       "otra_direccion               0\n",
       "tipo_calle                   0\n",
       "hora                         0\n",
       "fecha                        0\n",
       "dd                           0\n",
       "mm                           0\n",
       "aaaa                         0\n",
       "gravedad                     0\n",
       "dtype: int64"
      ]
     },
     "execution_count": 87,
     "metadata": {},
     "output_type": "execute_result"
    }
   ],
   "source": [
    "nulls_quantity = (injuries.isnull().sum()).sort_values(ascending=False)\n",
    "nulls_quantity"
   ]
  },
  {
   "cell_type": "markdown",
   "metadata": {},
   "source": [
    "### Percentage of null values respect each column"
   ]
  },
  {
   "cell_type": "code",
   "execution_count": 29,
   "metadata": {},
   "outputs": [
    {
     "data": {
      "text/plain": [
       "cruce                    60.449863\n",
       "altura                   46.306496\n",
       "calle                    45.902880\n",
       "latutid                   1.101535\n",
       "longitud                  1.101535\n",
       "comuna                    0.710532\n",
       "auto                      0.391003\n",
       "moto                      0.391003\n",
       "transporte_publico        0.391003\n",
       "camion                    0.391003\n",
       "ciclista                  0.391003\n",
       "direccion_normalizada     0.222830\n",
       "geocodificacion_CABA      0.163969\n",
       "franja_hora               0.021022\n",
       "participantes             0.000000\n",
       "acusado                   0.000000\n",
       "victima                   0.000000\n",
       "id                        0.000000\n",
       "n_victimas                0.000000\n",
       "otra_direccion            0.000000\n",
       "tipo_calle                0.000000\n",
       "hora                      0.000000\n",
       "fecha                     0.000000\n",
       "dd                        0.000000\n",
       "mm                        0.000000\n",
       "aaaa                      0.000000\n",
       "gravedad                  0.000000\n",
       "dtype: float64"
      ]
     },
     "execution_count": 29,
     "metadata": {},
     "output_type": "execute_result"
    }
   ],
   "source": [
    "null_ratio = ((injuries.isnull().sum() / len(injuries))*100).sort_values(ascending=False)\n",
    "null_ratio"
   ]
  },
  {
   "cell_type": "markdown",
   "metadata": {},
   "source": [
    "#### Deleting useless columns"
   ]
  },
  {
   "cell_type": "code",
   "execution_count": 26,
   "metadata": {},
   "outputs": [],
   "source": [
    "injuries.drop(['cruce', 'altura', 'calle'], axis=1, inplace=True)"
   ]
  },
  {
   "cell_type": "code",
   "execution_count": 33,
   "metadata": {},
   "outputs": [
    {
     "data": {
      "text/html": [
       "<div>\n",
       "<style scoped>\n",
       "    .dataframe tbody tr th:only-of-type {\n",
       "        vertical-align: middle;\n",
       "    }\n",
       "\n",
       "    .dataframe tbody tr th {\n",
       "        vertical-align: top;\n",
       "    }\n",
       "\n",
       "    .dataframe thead th {\n",
       "        text-align: right;\n",
       "    }\n",
       "</style>\n",
       "<table border=\"1\" class=\"dataframe\">\n",
       "  <thead>\n",
       "    <tr style=\"text-align: right;\">\n",
       "      <th></th>\n",
       "      <th>id</th>\n",
       "      <th>n_victimas</th>\n",
       "      <th>aaaa</th>\n",
       "      <th>mm</th>\n",
       "      <th>dd</th>\n",
       "      <th>fecha</th>\n",
       "      <th>hora</th>\n",
       "      <th>franja_hora</th>\n",
       "      <th>direccion_normalizada</th>\n",
       "      <th>comuna</th>\n",
       "      <th>...</th>\n",
       "      <th>latutid</th>\n",
       "      <th>victima</th>\n",
       "      <th>acusado</th>\n",
       "      <th>participantes</th>\n",
       "      <th>moto</th>\n",
       "      <th>auto</th>\n",
       "      <th>transporte_publico</th>\n",
       "      <th>camion</th>\n",
       "      <th>ciclista</th>\n",
       "      <th>gravedad</th>\n",
       "    </tr>\n",
       "  </thead>\n",
       "  <tbody>\n",
       "    <tr>\n",
       "      <th>0</th>\n",
       "      <td>LC-2019-0000179</td>\n",
       "      <td>1</td>\n",
       "      <td>2019</td>\n",
       "      <td>1</td>\n",
       "      <td>1</td>\n",
       "      <td>2019-01-01 00:00:00</td>\n",
       "      <td>09:00:00</td>\n",
       "      <td>9</td>\n",
       "      <td>SD</td>\n",
       "      <td>14</td>\n",
       "      <td>...</td>\n",
       "      <td>-34.559658</td>\n",
       "      <td>CICLISTA</td>\n",
       "      <td>SD</td>\n",
       "      <td>CICLISTA-SD</td>\n",
       "      <td>SD</td>\n",
       "      <td>SD</td>\n",
       "      <td>SD</td>\n",
       "      <td>SD</td>\n",
       "      <td>x</td>\n",
       "      <td>SD</td>\n",
       "    </tr>\n",
       "    <tr>\n",
       "      <th>1</th>\n",
       "      <td>LC-2019-0000053</td>\n",
       "      <td>1</td>\n",
       "      <td>2019</td>\n",
       "      <td>1</td>\n",
       "      <td>1</td>\n",
       "      <td>2019-01-01 00:00:00</td>\n",
       "      <td>01:55:00</td>\n",
       "      <td>1</td>\n",
       "      <td>SD</td>\n",
       "      <td>8</td>\n",
       "      <td>...</td>\n",
       "      <td>-34.669125</td>\n",
       "      <td>AUTO</td>\n",
       "      <td>SD</td>\n",
       "      <td>AUTO-SD</td>\n",
       "      <td>SD</td>\n",
       "      <td>x</td>\n",
       "      <td>SD</td>\n",
       "      <td>SD</td>\n",
       "      <td>SD</td>\n",
       "      <td>SD</td>\n",
       "    </tr>\n",
       "    <tr>\n",
       "      <th>2</th>\n",
       "      <td>LC-2019-0000063</td>\n",
       "      <td>1</td>\n",
       "      <td>2019</td>\n",
       "      <td>1</td>\n",
       "      <td>1</td>\n",
       "      <td>2019-01-01 00:00:00</td>\n",
       "      <td>02:00:00</td>\n",
       "      <td>2</td>\n",
       "      <td>SD</td>\n",
       "      <td>8</td>\n",
       "      <td>...</td>\n",
       "      <td>-34.677556</td>\n",
       "      <td>SD</td>\n",
       "      <td>SD</td>\n",
       "      <td>SD-SD</td>\n",
       "      <td>SD</td>\n",
       "      <td>SD</td>\n",
       "      <td>SD</td>\n",
       "      <td>SD</td>\n",
       "      <td>SD</td>\n",
       "      <td>SD</td>\n",
       "    </tr>\n",
       "    <tr>\n",
       "      <th>3</th>\n",
       "      <td>LC-2019-0000079</td>\n",
       "      <td>1</td>\n",
       "      <td>2019</td>\n",
       "      <td>1</td>\n",
       "      <td>1</td>\n",
       "      <td>2019-01-01 00:00:00</td>\n",
       "      <td>02:30:00</td>\n",
       "      <td>2</td>\n",
       "      <td>SD</td>\n",
       "      <td>7</td>\n",
       "      <td>...</td>\n",
       "      <td>-34.647349</td>\n",
       "      <td>PEATON</td>\n",
       "      <td>SD</td>\n",
       "      <td>PEATON-SD</td>\n",
       "      <td>x</td>\n",
       "      <td>SD</td>\n",
       "      <td>SD</td>\n",
       "      <td>SD</td>\n",
       "      <td>SD</td>\n",
       "      <td>SD</td>\n",
       "    </tr>\n",
       "    <tr>\n",
       "      <th>4</th>\n",
       "      <td>LC-2019-0000082</td>\n",
       "      <td>4</td>\n",
       "      <td>2019</td>\n",
       "      <td>1</td>\n",
       "      <td>1</td>\n",
       "      <td>2019-01-01 00:00:00</td>\n",
       "      <td>04:30:00</td>\n",
       "      <td>4</td>\n",
       "      <td>SD</td>\n",
       "      <td>3</td>\n",
       "      <td>...</td>\n",
       "      <td>-34.604579</td>\n",
       "      <td>AUTO</td>\n",
       "      <td>SD</td>\n",
       "      <td>AUTO-SD</td>\n",
       "      <td>SD</td>\n",
       "      <td>SD</td>\n",
       "      <td>x</td>\n",
       "      <td>SD</td>\n",
       "      <td>SD</td>\n",
       "      <td>SD</td>\n",
       "    </tr>\n",
       "    <tr>\n",
       "      <th>...</th>\n",
       "      <td>...</td>\n",
       "      <td>...</td>\n",
       "      <td>...</td>\n",
       "      <td>...</td>\n",
       "      <td>...</td>\n",
       "      <td>...</td>\n",
       "      <td>...</td>\n",
       "      <td>...</td>\n",
       "      <td>...</td>\n",
       "      <td>...</td>\n",
       "      <td>...</td>\n",
       "      <td>...</td>\n",
       "      <td>...</td>\n",
       "      <td>...</td>\n",
       "      <td>...</td>\n",
       "      <td>...</td>\n",
       "      <td>...</td>\n",
       "      <td>...</td>\n",
       "      <td>...</td>\n",
       "      <td>...</td>\n",
       "      <td>...</td>\n",
       "    </tr>\n",
       "    <tr>\n",
       "      <th>23780</th>\n",
       "      <td>LC-2021-0652849</td>\n",
       "      <td>1</td>\n",
       "      <td>2021</td>\n",
       "      <td>12</td>\n",
       "      <td>31</td>\n",
       "      <td>2021-12-31 00:00:00</td>\n",
       "      <td>19:30:00</td>\n",
       "      <td>19</td>\n",
       "      <td>ALBERDI, JUAN BAUTISTA AV. y GUAMINI</td>\n",
       "      <td>9</td>\n",
       "      <td>...</td>\n",
       "      <td>-34.659713573880</td>\n",
       "      <td>SD</td>\n",
       "      <td>SD</td>\n",
       "      <td>SD-SD</td>\n",
       "      <td>SD</td>\n",
       "      <td>SD</td>\n",
       "      <td>SD</td>\n",
       "      <td>SD</td>\n",
       "      <td>SD</td>\n",
       "      <td>SD</td>\n",
       "    </tr>\n",
       "    <tr>\n",
       "      <th>23781</th>\n",
       "      <td>LC-2021-0652865</td>\n",
       "      <td>2</td>\n",
       "      <td>2021</td>\n",
       "      <td>12</td>\n",
       "      <td>31</td>\n",
       "      <td>2021-12-31 00:00:00</td>\n",
       "      <td>19:40:00</td>\n",
       "      <td>19</td>\n",
       "      <td>ALBERDI, JUAN BAUTISTA AV. 4436</td>\n",
       "      <td>9</td>\n",
       "      <td>...</td>\n",
       "      <td>-34.641753304864</td>\n",
       "      <td>SD</td>\n",
       "      <td>SD</td>\n",
       "      <td>SD-SD</td>\n",
       "      <td>SD</td>\n",
       "      <td>SD</td>\n",
       "      <td>SD</td>\n",
       "      <td>SD</td>\n",
       "      <td>SD</td>\n",
       "      <td>SD</td>\n",
       "    </tr>\n",
       "    <tr>\n",
       "      <th>23782</th>\n",
       "      <td>LC-2021-0652907</td>\n",
       "      <td>1</td>\n",
       "      <td>2021</td>\n",
       "      <td>12</td>\n",
       "      <td>31</td>\n",
       "      <td>2021-12-31 00:00:00</td>\n",
       "      <td>20:00:00</td>\n",
       "      <td>20</td>\n",
       "      <td>SD</td>\n",
       "      <td>1</td>\n",
       "      <td>...</td>\n",
       "      <td>-34.583083</td>\n",
       "      <td>SD</td>\n",
       "      <td>SD</td>\n",
       "      <td>SD-SD</td>\n",
       "      <td>SD</td>\n",
       "      <td>SD</td>\n",
       "      <td>SD</td>\n",
       "      <td>SD</td>\n",
       "      <td>SD</td>\n",
       "      <td>SD</td>\n",
       "    </tr>\n",
       "    <tr>\n",
       "      <th>23783</th>\n",
       "      <td>LC-2021-0652921</td>\n",
       "      <td>1</td>\n",
       "      <td>2021</td>\n",
       "      <td>12</td>\n",
       "      <td>31</td>\n",
       "      <td>2021-12-31 00:00:00</td>\n",
       "      <td>22:00:00</td>\n",
       "      <td>22</td>\n",
       "      <td>LINIERS VIRREY y MORENO</td>\n",
       "      <td>5</td>\n",
       "      <td>...</td>\n",
       "      <td>-34.614288229345</td>\n",
       "      <td>MOTO</td>\n",
       "      <td>TRANSPORTE PUBLICO</td>\n",
       "      <td>MOTO-TRANSPORTE PUBLICO</td>\n",
       "      <td>x</td>\n",
       "      <td>0</td>\n",
       "      <td>x</td>\n",
       "      <td>0</td>\n",
       "      <td>0</td>\n",
       "      <td>GRAVE</td>\n",
       "    </tr>\n",
       "    <tr>\n",
       "      <th>23784</th>\n",
       "      <td>LC-2020-0244615</td>\n",
       "      <td>1</td>\n",
       "      <td>2020</td>\n",
       "      <td>5</td>\n",
       "      <td>17</td>\n",
       "      <td>5/17/2020</td>\n",
       "      <td>21:00:00</td>\n",
       "      <td>21</td>\n",
       "      <td>SD</td>\n",
       "      <td>SD</td>\n",
       "      <td>...</td>\n",
       "      <td>-3472890716</td>\n",
       "      <td>MOTO</td>\n",
       "      <td>AUTO</td>\n",
       "      <td>MOTO-AUTO</td>\n",
       "      <td>x</td>\n",
       "      <td>x</td>\n",
       "      <td>0</td>\n",
       "      <td>0</td>\n",
       "      <td>0</td>\n",
       "      <td>SD</td>\n",
       "    </tr>\n",
       "  </tbody>\n",
       "</table>\n",
       "<p>23785 rows × 24 columns</p>\n",
       "</div>"
      ],
      "text/plain": [
       "                    id  n_victimas  aaaa  mm  dd                fecha  \\\n",
       "0      LC-2019-0000179           1  2019   1   1  2019-01-01 00:00:00   \n",
       "1      LC-2019-0000053           1  2019   1   1  2019-01-01 00:00:00   \n",
       "2      LC-2019-0000063           1  2019   1   1  2019-01-01 00:00:00   \n",
       "3      LC-2019-0000079           1  2019   1   1  2019-01-01 00:00:00   \n",
       "4      LC-2019-0000082           4  2019   1   1  2019-01-01 00:00:00   \n",
       "...                ...         ...   ...  ..  ..                  ...   \n",
       "23780  LC-2021-0652849           1  2021  12  31  2021-12-31 00:00:00   \n",
       "23781  LC-2021-0652865           2  2021  12  31  2021-12-31 00:00:00   \n",
       "23782  LC-2021-0652907           1  2021  12  31  2021-12-31 00:00:00   \n",
       "23783  LC-2021-0652921           1  2021  12  31  2021-12-31 00:00:00   \n",
       "23784  LC-2020-0244615           1  2020   5  17            5/17/2020   \n",
       "\n",
       "           hora franja_hora                 direccion_normalizada comuna  ...  \\\n",
       "0      09:00:00           9                                    SD     14  ...   \n",
       "1      01:55:00           1                                    SD      8  ...   \n",
       "2      02:00:00           2                                    SD      8  ...   \n",
       "3      02:30:00           2                                    SD      7  ...   \n",
       "4      04:30:00           4                                    SD      3  ...   \n",
       "...         ...         ...                                   ...    ...  ...   \n",
       "23780  19:30:00          19  ALBERDI, JUAN BAUTISTA AV. y GUAMINI      9  ...   \n",
       "23781  19:40:00          19       ALBERDI, JUAN BAUTISTA AV. 4436      9  ...   \n",
       "23782  20:00:00          20                                    SD      1  ...   \n",
       "23783  22:00:00          22               LINIERS VIRREY y MORENO      5  ...   \n",
       "23784  21:00:00          21                                    SD     SD  ...   \n",
       "\n",
       "                latutid   victima             acusado  \\\n",
       "0            -34.559658  CICLISTA                  SD   \n",
       "1            -34.669125      AUTO                  SD   \n",
       "2            -34.677556        SD                  SD   \n",
       "3            -34.647349    PEATON                  SD   \n",
       "4            -34.604579      AUTO                  SD   \n",
       "...                 ...       ...                 ...   \n",
       "23780  -34.659713573880        SD                  SD   \n",
       "23781  -34.641753304864        SD                  SD   \n",
       "23782        -34.583083        SD                  SD   \n",
       "23783  -34.614288229345      MOTO  TRANSPORTE PUBLICO   \n",
       "23784       -3472890716      MOTO                AUTO   \n",
       "\n",
       "                 participantes moto auto transporte_publico camion ciclista  \\\n",
       "0                  CICLISTA-SD   SD   SD                 SD     SD        x   \n",
       "1                      AUTO-SD   SD    x                 SD     SD       SD   \n",
       "2                        SD-SD   SD   SD                 SD     SD       SD   \n",
       "3                    PEATON-SD    x   SD                 SD     SD       SD   \n",
       "4                      AUTO-SD   SD   SD                  x     SD       SD   \n",
       "...                        ...  ...  ...                ...    ...      ...   \n",
       "23780                    SD-SD   SD   SD                 SD     SD       SD   \n",
       "23781                    SD-SD   SD   SD                 SD     SD       SD   \n",
       "23782                    SD-SD   SD   SD                 SD     SD       SD   \n",
       "23783  MOTO-TRANSPORTE PUBLICO    x    0                  x      0        0   \n",
       "23784                MOTO-AUTO    x    x                  0      0        0   \n",
       "\n",
       "      gravedad  \n",
       "0           SD  \n",
       "1           SD  \n",
       "2           SD  \n",
       "3           SD  \n",
       "4           SD  \n",
       "...        ...  \n",
       "23780       SD  \n",
       "23781       SD  \n",
       "23782       SD  \n",
       "23783    GRAVE  \n",
       "23784       SD  \n",
       "\n",
       "[23785 rows x 24 columns]"
      ]
     },
     "execution_count": 33,
     "metadata": {},
     "output_type": "execute_result"
    }
   ],
   "source": [
    "injuries"
   ]
  },
  {
   "cell_type": "markdown",
   "metadata": {},
   "source": [
    "#### Saving our dataframe"
   ]
  },
  {
   "cell_type": "code",
   "execution_count": 56,
   "metadata": {},
   "outputs": [],
   "source": [
    "injuries.to_excel(\"Datasets/Injuries.xlsx\", index=False)"
   ]
  },
  {
   "cell_type": "code",
   "execution_count": 58,
   "metadata": {},
   "outputs": [],
   "source": [
    "injuries = pd.read_excel('Datasets/Injuries.xlsx')"
   ]
  },
  {
   "cell_type": "markdown",
   "metadata": {},
   "source": [
>>>>>>> 7ae54ca0791f86bebaa438af892a7d8d71b77f87
    "## Outliers"
   ]
  },
  {
   "cell_type": "code",
<<<<<<< HEAD
   "execution_count": 39,
=======
   "execution_count": 63,
>>>>>>> 7ae54ca0791f86bebaa438af892a7d8d71b77f87
   "metadata": {},
   "outputs": [
    {
     "data": {
      "text/plain": [
<<<<<<< HEAD
       "Index(['hora', 'franja_hora', 'direccion_normalizada', 'comuna', 'tipo_calle',\n",
       "       'otra_direccion', 'calle', 'cruce', 'geocodificacion_CABA', 'longitud',\n",
       "       'latitud', 'victima', 'acusado', 'moto', 'auto', 'transporte_publico',\n",
       "       'camion', 'ciclista', 'gravedad'],\n",
       "      dtype='object')"
      ]
     },
     "execution_count": 39,
=======
       "Index(['hora', 'direccion_normalizada', 'comuna', 'tipo_calle',\n",
       "       'otra_direccion', 'geocodificacion_CABA', 'longitud', 'latutid',\n",
       "       'victima', 'acusado', 'moto', 'auto', 'transporte_publico', 'camion',\n",
       "       'ciclista', 'gravedad'],\n",
       "      dtype='object')"
      ]
     },
     "execution_count": 63,
>>>>>>> 7ae54ca0791f86bebaa438af892a7d8d71b77f87
     "metadata": {},
     "output_type": "execute_result"
    }
   ],
   "source": [
    "injuries.columns[injuries.isin(['SD']).any()]"
   ]
  },
  {
   "cell_type": "code",
<<<<<<< HEAD
   "execution_count": 40,
=======
   "execution_count": 64,
>>>>>>> 7ae54ca0791f86bebaa438af892a7d8d71b77f87
   "metadata": {},
   "outputs": [],
   "source": [
    "injuries[\"franja_hora\"] = pd.to_numeric(injuries [\"franja_hora\"], errors=\"coerce\")\n",
    "injuries[\"franja_hora\"] = injuries[\"franja_hora\"].astype(\"object\")"
   ]
  },
  {
   "cell_type": "code",
<<<<<<< HEAD
   "execution_count": 42,
=======
   "execution_count": 67,
>>>>>>> 7ae54ca0791f86bebaa438af892a7d8d71b77f87
   "metadata": {},
   "outputs": [
    {
     "data": {
      "image/png": "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",
      "text/plain": [
       "<Figure size 1000x400 with 5 Axes>"
      ]
     },
     "metadata": {},
     "output_type": "display_data"
    }
   ],
   "source": [
    "plt.figure(figsize=(10, 4))\n",
    "\n",
    "\n",
    "plt.subplot(1, 5, 1) \n",
    "sns.boxplot(data=injuries, y='victima', color = \"#FA8072\")\n",
    "plt.ylabel('Number of Victims')\n",
    "\n",
    "plt.subplot(1, 5, 2) \n",
<<<<<<< HEAD
    "sns.boxplot(data=injuries, y='AAAA', color = \"#F4A460\")\n",
    "plt.ylabel('Years')\n",
    "\n",
    "plt.subplot(1, 5, 3) \n",
    "sns.boxplot(data=injuries, y='MM', color = \"#6A5ACD\")\n",
    "plt.ylabel('Months')\n",
    "\n",
    "plt.subplot(1, 5, 4) \n",
    "sns.boxplot(data=injuries, y='DD', color = \"red\")\n",
=======
    "sns.boxplot(data=injuries, y='aaaa', color = \"#F4A460\")\n",
    "plt.ylabel('Years')\n",
    "\n",
    "plt.subplot(1, 5, 3) \n",
    "sns.boxplot(data=injuries, y='mm', color = \"#6A5ACD\")\n",
    "plt.ylabel('Months')\n",
    "\n",
    "plt.subplot(1, 5, 4) \n",
    "sns.boxplot(data=injuries, y='dd', color = \"red\")\n",
>>>>>>> 7ae54ca0791f86bebaa438af892a7d8d71b77f87
    "plt.ylabel('Days')\n",
    "\n",
    "plt.subplot(1, 5, 5) \n",
    "sns.boxplot(data=injuries, y='franja_hora', color = \"#87CEEB\")\n",
    "plt.ylabel('Hours')\n",
    "\n",
    "\n",
    "plt.tight_layout()\n",
    "\n",
    "plt.show()"
   ]
  }
 ],
 "metadata": {
  "kernelspec": {
   "display_name": "Python 3",
   "language": "python",
   "name": "python3"
  },
  "language_info": {
   "codemirror_mode": {
    "name": "ipython",
    "version": 3
   },
   "file_extension": ".py",
   "mimetype": "text/x-python",
   "name": "python",
   "nbconvert_exporter": "python",
   "pygments_lexer": "ipython3",
   "version": "3.11.5"
  }
 },
 "nbformat": 4,
 "nbformat_minor": 2
}
